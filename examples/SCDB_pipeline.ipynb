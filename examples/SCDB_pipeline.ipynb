{
 "cells": [
  {
   "cell_type": "markdown",
   "metadata": {},
   "source": [
    "# Example of global pipeline using SCDB dataset\n",
    "\n",
    "Using a yoloV8 model that has been trained to recognize biomarkers on images. \n",
    "\n",
    "Link to the SCDB dataset: [https://github.com/adriano-lucieri/SCDB](https://github.com/adriano-lucieri/SCDB)"
   ]
  },
  {
   "cell_type": "code",
   "execution_count": null,
   "metadata": {},
   "outputs": [],
   "source": [
    "%load_ext autoreload\n",
    "%autoreload 2\n",
    "\n",
    "import sys\n",
    "sys.path.append('..')\n",
    "\n",
    "from ultralytics import YOLO\n",
    "\n",
    "from torchvision.io import read_image, ImageReadMode\n",
    "from torchvision import transforms\n",
    "\n",
    "from ontoclassifier import *\n",
    "\n",
    "from PIL import Image\n",
    "import matplotlib.pyplot as plt"
   ]
  },
  {
   "cell_type": "markdown",
   "metadata": {},
   "source": [
    "## Loading ontology"
   ]
  },
  {
   "cell_type": "code",
   "execution_count": 2,
   "metadata": {},
   "outputs": [],
   "source": [
    "onto_filename = \"data/scdb.xml\"\n",
    "scdb = owlready2.get_ontology(onto_filename).load()"
   ]
  },
  {
   "cell_type": "markdown",
   "metadata": {},
   "source": [
    "## Global pipeline with Yolov8 Wrapper"
   ]
  },
  {
   "cell_type": "code",
   "execution_count": 3,
   "metadata": {},
   "outputs": [],
   "source": [
    "# Selecting targeted classes\n",
    "target_classes = [scdb.C1, scdb.C2]\n",
    "\n",
    "# or use all descendants of a class:\n",
    "# target_classes = list(onto.Lesion.descendants())"
   ]
  },
  {
   "cell_type": "code",
   "execution_count": 4,
   "metadata": {},
   "outputs": [
    {
     "data": {
      "text/plain": [
       "{0: 'Cross',\n",
       " 1: 'Ellipse',\n",
       " 2: 'Hexagon',\n",
       " 3: 'Line',\n",
       " 4: 'Pentagon',\n",
       " 5: 'Rectangle',\n",
       " 6: 'Star',\n",
       " 7: 'Starmarker',\n",
       " 8: 'Triangle',\n",
       " 9: 'Tripod'}"
      ]
     },
     "execution_count": 4,
     "metadata": {},
     "output_type": "execute_result"
    }
   ],
   "source": [
    "# Loading pretrained YoloV8 object model detecting biomarkers\n",
    "yolo_model = YOLO('data/scdb-yolov8.pt')\n",
    "yolo_model.names"
   ]
  },
  {
   "cell_type": "code",
   "execution_count": 5,
   "metadata": {},
   "outputs": [],
   "source": [
    "# Creating Property Wrappers\n",
    "hasConcept_feature = OntoFeature(scdb.hasConcept) \n",
    "hasConcept_property_wrapper = YoloV8PropertyWrapper(yolo_model, \n",
    "                                                    hasConcept_feature, \n",
    "                                                    yolo_model.names)"
   ]
  },
  {
   "cell_type": "code",
   "execution_count": 6,
   "metadata": {},
   "outputs": [],
   "source": [
    "# Creating the Ontological Feature Extractor\n",
    "fe_yolo = Yolov8FeaturesExtractor([ hasConcept_property_wrapper ])\n",
    "ontological_extractor = OntologicalExtractor([fe_yolo])"
   ]
  },
  {
   "cell_type": "code",
   "execution_count": 7,
   "metadata": {},
   "outputs": [],
   "source": [
    "# Creating the OntoClassifier instance\n",
    "onto_classifier = OntoClassifier(scdb, target_classes, ontological_extractor)"
   ]
  },
  {
   "cell_type": "code",
   "execution_count": 8,
   "metadata": {},
   "outputs": [],
   "source": [
    "# Creating the hybrid AI pipeline\n",
    "pipeline = torch.nn.Sequential(\n",
    "        ontological_extractor,\n",
    "        onto_classifier\n",
    ")"
   ]
  },
  {
   "cell_type": "markdown",
   "metadata": {},
   "source": [
    "## Inference"
   ]
  },
  {
   "cell_type": "code",
   "execution_count": 9,
   "metadata": {},
   "outputs": [],
   "source": [
    "images = ['data/scdb-000000.png', 'data/scdb-000017.png']\n",
    "\n",
    "YOLO_IMG_SIZE = (640, 640)\n",
    "\n",
    "img_tensors = []\n",
    "for img in images:\n",
    "    img_tensors.append(transforms.Resize(YOLO_IMG_SIZE, antialias=False)(read_image(img, ImageReadMode.RGB).float()))\n",
    "\n",
    "inputs = torch.stack(img_tensors)"
   ]
  },
  {
   "cell_type": "code",
   "execution_count": 10,
   "metadata": {},
   "outputs": [
    {
     "name": "stdout",
     "output_type": "stream",
     "text": [
      "[('https://www.univ-littoral.fr/lisic/sysreic/scdb.xml#C1',),\n",
      " ('https://www.univ-littoral.fr/lisic/sysreic/scdb.xml#C2',)]\n"
     ]
    }
   ],
   "source": [
    "preds = pipeline(inputs).to(torch.uint8)\n",
    "# Classification results\n",
    "labels = onto_classifier.getTargettedClassesEncoder().inverse_transform(preds)\n",
    "pprint(labels)"
   ]
  },
  {
   "cell_type": "code",
   "execution_count": 11,
   "metadata": {},
   "outputs": [],
   "source": [
    "# Focusing on a specific image\n",
    "num = 0"
   ]
  },
  {
   "cell_type": "code",
   "execution_count": 12,
   "metadata": {},
   "outputs": [
    {
     "data": {
      "text/plain": [
       "<matplotlib.image.AxesImage at 0x301c0a260>"
      ]
     },
     "execution_count": 12,
     "metadata": {},
     "output_type": "execute_result"
    },
    {
     "data": {
      "image/png": "[encoded data removed]",
      "text/plain": [
       "<Figure size 432x288 with 1 Axes>"
      ]
     },
     "metadata": {
      "needs_background": "light"
     },
     "output_type": "display_data"
    }
   ],
   "source": [
    "img = Image.open(images[num])\n",
    "\n",
    "classes = [scdb.search(iri=iri)[0] for iri in labels[num]]\n",
    "names = [c.name for c in classes]\n",
    "\n",
    "title = str(names).replace('[', '').replace(']', '').replace('\\'', '').replace(',', '\\n')\n",
    "plt.title(title)\n",
    "plt.axis('off')\n",
    "plt.imshow(img)"
   ]
  },
  {
   "cell_type": "markdown",
   "metadata": {},
   "source": [
    "## Explain results"
   ]
  },
  {
   "cell_type": "code",
   "execution_count": 13,
   "metadata": {},
   "outputs": [],
   "source": [
    "# Instanciating a simple explainer using the OntoClassifier features\n",
    "explainer = OntologicalExtractorExplainer(ontological_extractor, onto_classifier)"
   ]
  },
  {
   "cell_type": "code",
   "execution_count": 14,
   "metadata": {},
   "outputs": [
    {
     "name": "stdout",
     "output_type": "stream",
     "text": [
      "This is a C1 because : \n",
      "  This is a C1_b because : \n",
      "    hasConcept SOME Ellipse is True \n",
      "      found Ellipse\n",
      "    hasConcept SOME Star is True \n",
      "      found Star\n",
      "\n"
     ]
    },
    {
     "data": {
      "image/png": "[encoded data removed]",
      "text/plain": [
       "<Figure size 288x288 with 1 Axes>"
      ]
     },
     "metadata": {
      "needs_background": "light"
     },
     "output_type": "display_data"
    },
    {
     "data": {
      "image/png": "[encoded data removed]",
      "text/plain": [
       "<Figure size 288x288 with 1 Axes>"
      ]
     },
     "metadata": {
      "needs_background": "light"
     },
     "output_type": "display_data"
    }
   ],
   "source": [
    "# Explaining why the given image is (NOT ?) classified as a C1\n",
    "explainer.explain(\n",
    "    scdb.C1, \n",
    "    torch.stack([inputs[0]]))"
   ]
  },
  {
   "cell_type": "code",
   "execution_count": null,
   "metadata": {},
   "outputs": [],
   "source": []
  },
  {
   "cell_type": "markdown",
   "metadata": {},
   "source": []
  }
 ],
 "metadata": {
  "kernelspec": {
   "display_name": "Python 3",
   "language": "python",
   "name": "python3"
  },
  "language_info": {
   "codemirror_mode": {
    "name": "ipython",
    "version": 3
   },
   "file_extension": ".py",
   "mimetype": "text/x-python",
   "name": "python",
   "nbconvert_exporter": "python",
   "pygments_lexer": "ipython3",
   "version": "3.10.8"
  }
 },
 "nbformat": 4,
 "nbformat_minor": 2
}
