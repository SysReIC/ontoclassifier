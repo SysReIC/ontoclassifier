{
 "cells": [
  {
   "cell_type": "markdown",
   "metadata": {},
   "source": [
    "# Example of global pipeline using SCDB dataset\n",
    "\n",
    "Using a yoloV8 model that has been trained to recognize biomarkers on images. \n",
    "\n",
    "Link to the SCDB dataset: [https://github.com/adriano-lucieri/SCDB](https://github.com/adriano-lucieri/SCDB)"
   ]
  },
  {
   "cell_type": "code",
   "execution_count": 1,
   "metadata": {},
   "outputs": [
    {
     "name": "stderr",
     "output_type": "stream",
     "text": [
      "\n",
      "Warning: SQLite3 version 3.40.0 and 3.41.2 have huge performance regressions; please install version 3.41.1 or 3.42!\n",
      "\n"
     ]
    }
   ],
   "source": [
    "from ultralytics import YOLO\n",
    "import torch\n",
    "import sys\n",
    "\n",
    "from torchvision.io import read_image, ImageReadMode\n",
    "from torchvision import transforms\n",
    "\n",
    "sys.path.append('..')\n",
    "from ontoclassifier import *\n",
    "\n",
    "import owlready2\n"
   ]
  },
  {
   "cell_type": "markdown",
   "metadata": {},
   "source": [
    "## Loading ontology"
   ]
  },
  {
   "cell_type": "code",
   "execution_count": 2,
   "metadata": {},
   "outputs": [],
   "source": [
    "onto_filename = \"data/scdb.xml\"\n",
    "onto = owlready2.get_ontology(onto_filename).load()"
   ]
  },
  {
   "cell_type": "markdown",
   "metadata": {},
   "source": [
    "## Global pipeline with Yolov8 Wrapper"
   ]
  },
  {
   "cell_type": "code",
   "execution_count": 3,
   "metadata": {},
   "outputs": [],
   "source": [
    "target_classes = [onto.C1, onto.C2]\n",
    "\n",
    "# or use all descendants of a class:\n",
    "# target_classes = list(onto.Lesion.descendants())"
   ]
  },
  {
   "cell_type": "code",
   "execution_count": 4,
   "metadata": {},
   "outputs": [
    {
     "data": {
      "text/plain": [
       "{0: 'Cross',\n",
       " 1: 'Ellipse',\n",
       " 2: 'Hexagon',\n",
       " 3: 'Line',\n",
       " 4: 'Pentagon',\n",
       " 5: 'Rectangle',\n",
       " 6: 'Star',\n",
       " 7: 'Starmarker',\n",
       " 8: 'Triangle',\n",
       " 9: 'Tripod'}"
      ]
     },
     "execution_count": 4,
     "metadata": {},
     "output_type": "execute_result"
    }
   ],
   "source": [
    "# Load YOLO model detecting biomarkers\n",
    "yolo_model = YOLO('data/scdb-yolov8.pt')\n",
    "yolo_model.names"
   ]
  },
  {
   "cell_type": "code",
   "execution_count": 5,
   "metadata": {},
   "outputs": [],
   "source": [
    "hasConcept_feature = OntoFeature(onto.hasConcept) \n",
    "hasConcept_property_wrapper = YoloV8PropertyWrapper(yolo_model, \n",
    "                                                    hasConcept_feature, \n",
    "                                                    yolo_model.names)\n",
    "\n",
    "fe_yolo = Yolov8FeaturesExtractor([ hasConcept_property_wrapper ])\n",
    "\n",
    "ontological_extractor = OntologicalExtractor([fe_yolo])\n",
    "\n",
    "onto_classifier = OntoClassifier(onto, target_classes, ontological_extractor)\n",
    "\n",
    "pipeline = torch.nn.Sequential(\n",
    "        ontological_extractor,\n",
    "        onto_classifier\n",
    ")\n",
    "\n",
    "explainer = OntologicalExtractorExplainer(ontological_extractor, onto_classifier)"
   ]
  },
  {
   "cell_type": "markdown",
   "metadata": {},
   "source": [
    "## Dataset"
   ]
  },
  {
   "cell_type": "code",
   "execution_count": 6,
   "metadata": {},
   "outputs": [],
   "source": [
    "images = ['data/scdb-000000.png', 'data/scdb-000017.png']\n",
    "\n",
    "YOLO_IMG_SIZE = (640, 640)\n",
    "\n",
    "img_tensors = []\n",
    "for img in images:\n",
    "    img_tensors.append(transforms.Resize(YOLO_IMG_SIZE, antialias=False)(read_image(img, ImageReadMode.RGB).float()))\n",
    "\n",
    "inputs = torch.stack(img_tensors)"
   ]
  },
  {
   "cell_type": "markdown",
   "metadata": {},
   "source": [
    "## Predict and explain"
   ]
  },
  {
   "cell_type": "code",
   "execution_count": 7,
   "metadata": {},
   "outputs": [],
   "source": [
    "preds = pipeline(inputs).to(torch.uint8)"
   ]
  },
  {
   "cell_type": "code",
   "execution_count": 8,
   "metadata": {},
   "outputs": [
    {
     "data": {
      "text/plain": [
       "[('https://www.univ-littoral.fr/lisic/sysreic/scdb.xml#C1',),\n",
       " ('https://www.univ-littoral.fr/lisic/sysreic/scdb.xml#C2',)]"
      ]
     },
     "execution_count": 8,
     "metadata": {},
     "output_type": "execute_result"
    }
   ],
   "source": [
    "encoder = onto_classifier.getTargettedClassesEncoder()\n",
    "encoder.inverse_transform(preds)"
   ]
  },
  {
   "cell_type": "code",
   "execution_count": 9,
   "metadata": {},
   "outputs": [
    {
     "name": "stdout",
     "output_type": "stream",
     "text": [
      "This is a C1 because : \n",
      "  This is a C1_b because : \n",
      "    hasConcept SOME Ellipse is True \n",
      "      found Ellipse\n",
      "    hasConcept SOME Star is True \n",
      "      found Star\n",
      "\n"
     ]
    },
    {
     "data": {
      "application/vnd.plotly.v1+json": {
       "config": {
        "plotlyServerURL": "https://plot.ly"
       },
       "data": [
        {
         "hovertemplate": "x: %{x}<br>y: %{y}<br>color: [%{z[0]}, %{z[1]}, %{z[2]}]<extra></extra>",
         "name": "0",
         "source": "data:image/png;base64,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",
         "type": "image",
         "xaxis": "x",
         "yaxis": "y"
        },
        {
         "fill": "toself",
         "hoverinfo": "none",
         "legendgrouptitle": {
          "text": "Found :"
         },
         "marker": {
          "color": "blue"
         },
         "mode": "lines",
         "name": "1 [Ellipse]",
         "opacity": 0.7,
         "type": "scatter",
         "x": [
          340,
          397,
          397,
          340,
          340,
          null
         ],
         "y": [
          289,
          289,
          346,
          346,
          289,
          null
         ]
        },
        {
         "hoverinfo": "text+name",
         "marker": {
          "color": "blue"
         },
         "name": "0.93",
         "opacity": 0,
         "showlegend": false,
         "text": "[Ellipse]",
         "type": "scatter",
         "x": [
          368
         ],
         "y": [
          317
         ]
        }
       ],
       "layout": {
        "margin": {
         "t": 60
        },
        "template": {
         "data": {
          "bar": [
           {
            "error_x": {
             "color": "#2a3f5f"
            },
            "error_y": {
             "color": "#2a3f5f"
            },
            "marker": {
             "line": {
              "color": "#E5ECF6",
              "width": 0.5
             },
             "pattern": {
              "fillmode": "overlay",
              "size": 10,
              "solidity": 0.2
             }
            },
            "type": "bar"
           }
          ],
          "barpolar": [
           {
            "marker": {
             "line": {
              "color": "#E5ECF6",
              "width": 0.5
             },
             "pattern": {
              "fillmode": "overlay",
              "size": 10,
              "solidity": 0.2
             }
            },
            "type": "barpolar"
           }
          ],
          "carpet": [
           {
            "aaxis": {
             "endlinecolor": "#2a3f5f",
             "gridcolor": "white",
             "linecolor": "white",
             "minorgridcolor": "white",
             "startlinecolor": "#2a3f5f"
            },
            "baxis": {
             "endlinecolor": "#2a3f5f",
             "gridcolor": "white",
             "linecolor": "white",
             "minorgridcolor": "white",
             "startlinecolor": "#2a3f5f"
            },
            "type": "carpet"
           }
          ],
          "choropleth": [
           {
            "colorbar": {
             "outlinewidth": 0,
             "ticks": ""
            },
            "type": "choropleth"
           }
          ],
          "contour": [
           {
            "colorbar": {
             "outlinewidth": 0,
             "ticks": ""
            },
            "colorscale": [
             [
              0,
              "#0d0887"
             ],
             [
              0.1111111111111111,
              "#46039f"
             ],
             [
              0.2222222222222222,
              "#7201a8"
             ],
             [
              0.3333333333333333,
              "#9c179e"
             ],
             [
              0.4444444444444444,
              "#bd3786"
             ],
             [
              0.5555555555555556,
              "#d8576b"
             ],
             [
              0.6666666666666666,
              "#ed7953"
             ],
             [
              0.7777777777777778,
              "#fb9f3a"
             ],
             [
              0.8888888888888888,
              "#fdca26"
             ],
             [
              1,
              "#f0f921"
             ]
            ],
            "type": "contour"
           }
          ],
          "contourcarpet": [
           {
            "colorbar": {
             "outlinewidth": 0,
             "ticks": ""
            },
            "type": "contourcarpet"
           }
          ],
          "heatmap": [
           {
            "colorbar": {
             "outlinewidth": 0,
             "ticks": ""
            },
            "colorscale": [
             [
              0,
              "#0d0887"
             ],
             [
              0.1111111111111111,
              "#46039f"
             ],
             [
              0.2222222222222222,
              "#7201a8"
             ],
             [
              0.3333333333333333,
              "#9c179e"
             ],
             [
              0.4444444444444444,
              "#bd3786"
             ],
             [
              0.5555555555555556,
              "#d8576b"
             ],
             [
              0.6666666666666666,
              "#ed7953"
             ],
             [
              0.7777777777777778,
              "#fb9f3a"
             ],
             [
              0.8888888888888888,
              "#fdca26"
             ],
             [
              1,
              "#f0f921"
             ]
            ],
            "type": "heatmap"
           }
          ],
          "heatmapgl": [
           {
            "colorbar": {
             "outlinewidth": 0,
             "ticks": ""
            },
            "colorscale": [
             [
              0,
              "#0d0887"
             ],
             [
              0.1111111111111111,
              "#46039f"
             ],
             [
              0.2222222222222222,
              "#7201a8"
             ],
             [
              0.3333333333333333,
              "#9c179e"
             ],
             [
              0.4444444444444444,
              "#bd3786"
             ],
             [
              0.5555555555555556,
              "#d8576b"
             ],
             [
              0.6666666666666666,
              "#ed7953"
             ],
             [
              0.7777777777777778,
              "#fb9f3a"
             ],
             [
              0.8888888888888888,
              "#fdca26"
             ],
             [
              1,
              "#f0f921"
             ]
            ],
            "type": "heatmapgl"
           }
          ],
          "histogram": [
           {
            "marker": {
             "pattern": {
              "fillmode": "overlay",
              "size": 10,
              "solidity": 0.2
             }
            },
            "type": "histogram"
           }
          ],
          "histogram2d": [
           {
            "colorbar": {
             "outlinewidth": 0,
             "ticks": ""
            },
            "colorscale": [
             [
              0,
              "#0d0887"
             ],
             [
              0.1111111111111111,
              "#46039f"
             ],
             [
              0.2222222222222222,
              "#7201a8"
             ],
             [
              0.3333333333333333,
              "#9c179e"
             ],
             [
              0.4444444444444444,
              "#bd3786"
             ],
             [
              0.5555555555555556,
              "#d8576b"
             ],
             [
              0.6666666666666666,
              "#ed7953"
             ],
             [
              0.7777777777777778,
              "#fb9f3a"
             ],
             [
              0.8888888888888888,
              "#fdca26"
             ],
             [
              1,
              "#f0f921"
             ]
            ],
            "type": "histogram2d"
           }
          ],
          "histogram2dcontour": [
           {
            "colorbar": {
             "outlinewidth": 0,
             "ticks": ""
            },
            "colorscale": [
             [
              0,
              "#0d0887"
             ],
             [
              0.1111111111111111,
              "#46039f"
             ],
             [
              0.2222222222222222,
              "#7201a8"
             ],
             [
              0.3333333333333333,
              "#9c179e"
             ],
             [
              0.4444444444444444,
              "#bd3786"
             ],
             [
              0.5555555555555556,
              "#d8576b"
             ],
             [
              0.6666666666666666,
              "#ed7953"
             ],
             [
              0.7777777777777778,
              "#fb9f3a"
             ],
             [
              0.8888888888888888,
              "#fdca26"
             ],
             [
              1,
              "#f0f921"
             ]
            ],
            "type": "histogram2dcontour"
           }
          ],
          "mesh3d": [
           {
            "colorbar": {
             "outlinewidth": 0,
             "ticks": ""
            },
            "type": "mesh3d"
           }
          ],
          "parcoords": [
           {
            "line": {
             "colorbar": {
              "outlinewidth": 0,
              "ticks": ""
             }
            },
            "type": "parcoords"
           }
          ],
          "pie": [
           {
            "automargin": true,
            "type": "pie"
           }
          ],
          "scatter": [
           {
            "fillpattern": {
             "fillmode": "overlay",
             "size": 10,
             "solidity": 0.2
            },
            "type": "scatter"
           }
          ],
          "scatter3d": [
           {
            "line": {
             "colorbar": {
              "outlinewidth": 0,
              "ticks": ""
             }
            },
            "marker": {
             "colorbar": {
              "outlinewidth": 0,
              "ticks": ""
             }
            },
            "type": "scatter3d"
           }
          ],
          "scattercarpet": [
           {
            "marker": {
             "colorbar": {
              "outlinewidth": 0,
              "ticks": ""
             }
            },
            "type": "scattercarpet"
           }
          ],
          "scattergeo": [
           {
            "marker": {
             "colorbar": {
              "outlinewidth": 0,
              "ticks": ""
             }
            },
            "type": "scattergeo"
           }
          ],
          "scattergl": [
           {
            "marker": {
             "colorbar": {
              "outlinewidth": 0,
              "ticks": ""
             }
            },
            "type": "scattergl"
           }
          ],
          "scattermapbox": [
           {
            "marker": {
             "colorbar": {
              "outlinewidth": 0,
              "ticks": ""
             }
            },
            "type": "scattermapbox"
           }
          ],
          "scatterpolar": [
           {
            "marker": {
             "colorbar": {
              "outlinewidth": 0,
              "ticks": ""
             }
            },
            "type": "scatterpolar"
           }
          ],
          "scatterpolargl": [
           {
            "marker": {
             "colorbar": {
              "outlinewidth": 0,
              "ticks": ""
             }
            },
            "type": "scatterpolargl"
           }
          ],
          "scatterternary": [
           {
            "marker": {
             "colorbar": {
              "outlinewidth": 0,
              "ticks": ""
             }
            },
            "type": "scatterternary"
           }
          ],
          "surface": [
           {
            "colorbar": {
             "outlinewidth": 0,
             "ticks": ""
            },
            "colorscale": [
             [
              0,
              "#0d0887"
             ],
             [
              0.1111111111111111,
              "#46039f"
             ],
             [
              0.2222222222222222,
              "#7201a8"
             ],
             [
              0.3333333333333333,
              "#9c179e"
             ],
             [
              0.4444444444444444,
              "#bd3786"
             ],
             [
              0.5555555555555556,
              "#d8576b"
             ],
             [
              0.6666666666666666,
              "#ed7953"
             ],
             [
              0.7777777777777778,
              "#fb9f3a"
             ],
             [
              0.8888888888888888,
              "#fdca26"
             ],
             [
              1,
              "#f0f921"
             ]
            ],
            "type": "surface"
           }
          ],
          "table": [
           {
            "cells": {
             "fill": {
              "color": "#EBF0F8"
             },
             "line": {
              "color": "white"
             }
            },
            "header": {
             "fill": {
              "color": "#C8D4E3"
             },
             "line": {
              "color": "white"
             }
            },
            "type": "table"
           }
          ]
         },
         "layout": {
          "annotationdefaults": {
           "arrowcolor": "#2a3f5f",
           "arrowhead": 0,
           "arrowwidth": 1
          },
          "autotypenumbers": "strict",
          "coloraxis": {
           "colorbar": {
            "outlinewidth": 0,
            "ticks": ""
           }
          },
          "colorscale": {
           "diverging": [
            [
             0,
             "#8e0152"
            ],
            [
             0.1,
             "#c51b7d"
            ],
            [
             0.2,
             "#de77ae"
            ],
            [
             0.3,
             "#f1b6da"
            ],
            [
             0.4,
             "#fde0ef"
            ],
            [
             0.5,
             "#f7f7f7"
            ],
            [
             0.6,
             "#e6f5d0"
            ],
            [
             0.7,
             "#b8e186"
            ],
            [
             0.8,
             "#7fbc41"
            ],
            [
             0.9,
             "#4d9221"
            ],
            [
             1,
             "#276419"
            ]
           ],
           "sequential": [
            [
             0,
             "#0d0887"
            ],
            [
             0.1111111111111111,
             "#46039f"
            ],
            [
             0.2222222222222222,
             "#7201a8"
            ],
            [
             0.3333333333333333,
             "#9c179e"
            ],
            [
             0.4444444444444444,
             "#bd3786"
            ],
            [
             0.5555555555555556,
             "#d8576b"
            ],
            [
             0.6666666666666666,
             "#ed7953"
            ],
            [
             0.7777777777777778,
             "#fb9f3a"
            ],
            [
             0.8888888888888888,
             "#fdca26"
            ],
            [
             1,
             "#f0f921"
            ]
           ],
           "sequentialminus": [
            [
             0,
             "#0d0887"
            ],
            [
             0.1111111111111111,
             "#46039f"
            ],
            [
             0.2222222222222222,
             "#7201a8"
            ],
            [
             0.3333333333333333,
             "#9c179e"
            ],
            [
             0.4444444444444444,
             "#bd3786"
            ],
            [
             0.5555555555555556,
             "#d8576b"
            ],
            [
             0.6666666666666666,
             "#ed7953"
            ],
            [
             0.7777777777777778,
             "#fb9f3a"
            ],
            [
             0.8888888888888888,
             "#fdca26"
            ],
            [
             1,
             "#f0f921"
            ]
           ]
          },
          "colorway": [
           "#636efa",
           "#EF553B",
           "#00cc96",
           "#ab63fa",
           "#FFA15A",
           "#19d3f3",
           "#FF6692",
           "#B6E880",
           "#FF97FF",
           "#FECB52"
          ],
          "font": {
           "color": "#2a3f5f"
          },
          "geo": {
           "bgcolor": "white",
           "lakecolor": "white",
           "landcolor": "#E5ECF6",
           "showlakes": true,
           "showland": true,
           "subunitcolor": "white"
          },
          "hoverlabel": {
           "align": "left"
          },
          "hovermode": "closest",
          "mapbox": {
           "style": "light"
          },
          "paper_bgcolor": "white",
          "plot_bgcolor": "#E5ECF6",
          "polar": {
           "angularaxis": {
            "gridcolor": "white",
            "linecolor": "white",
            "ticks": ""
           },
           "bgcolor": "#E5ECF6",
           "radialaxis": {
            "gridcolor": "white",
            "linecolor": "white",
            "ticks": ""
           }
          },
          "scene": {
           "xaxis": {
            "backgroundcolor": "#E5ECF6",
            "gridcolor": "white",
            "gridwidth": 2,
            "linecolor": "white",
            "showbackground": true,
            "ticks": "",
            "zerolinecolor": "white"
           },
           "yaxis": {
            "backgroundcolor": "#E5ECF6",
            "gridcolor": "white",
            "gridwidth": 2,
            "linecolor": "white",
            "showbackground": true,
            "ticks": "",
            "zerolinecolor": "white"
           },
           "zaxis": {
            "backgroundcolor": "#E5ECF6",
            "gridcolor": "white",
            "gridwidth": 2,
            "linecolor": "white",
            "showbackground": true,
            "ticks": "",
            "zerolinecolor": "white"
           }
          },
          "shapedefaults": {
           "line": {
            "color": "#2a3f5f"
           }
          },
          "ternary": {
           "aaxis": {
            "gridcolor": "white",
            "linecolor": "white",
            "ticks": ""
           },
           "baxis": {
            "gridcolor": "white",
            "linecolor": "white",
            "ticks": ""
           },
           "bgcolor": "#E5ECF6",
           "caxis": {
            "gridcolor": "white",
            "linecolor": "white",
            "ticks": ""
           }
          },
          "title": {
           "x": 0.05
          },
          "xaxis": {
           "automargin": true,
           "gridcolor": "white",
           "linecolor": "white",
           "ticks": "",
           "title": {
            "standoff": 15
           },
           "zerolinecolor": "white",
           "zerolinewidth": 2
          },
          "yaxis": {
           "automargin": true,
           "gridcolor": "white",
           "linecolor": "white",
           "ticks": "",
           "title": {
            "standoff": 15
           },
           "zerolinecolor": "white",
           "zerolinewidth": 2
          }
         }
        },
        "title": {
         "font": {
          "size": 13
         },
         "text": "scdb.xml.hasConcept.some(scdb.xml.Ellipse)\n is True"
        },
        "xaxis": {
         "anchor": "y",
         "domain": [
          0,
          1
         ]
        },
        "yaxis": {
         "anchor": "x",
         "domain": [
          0,
          1
         ]
        }
       }
      }
     },
     "metadata": {},
     "output_type": "display_data"
    },
    {
     "data": {
      "application/vnd.plotly.v1+json": {
       "config": {
        "plotlyServerURL": "https://plot.ly"
       },
       "data": [
        {
         "hovertemplate": "x: %{x}<br>y: %{y}<br>color: [%{z[0]}, %{z[1]}, %{z[2]}]<extra></extra>",
         "name": "0",
         "source": "data:image/png;base64,iVBORw0KGgoAAAANSUhEUgAAAoAAAAKACAIAAACDr150AAAwTElEQVR4Xu3de3jV1Z3v8e/eSXauQICQyC0miIoIIqgBBSwgVtqK0NKOOkfbGRGcqaKondbT2ud4Hp2OjrVFUXsR7NPqGdRWBLWWVm5KVBIVAZGbYEIQMCHcQq47yd7njy1x55udZN9/t/fr6R/hs9KbD8lnr/Vbv7VEAAAAAAAAAAAAAAAAAAAAAAAAAAAAAAAAAAAAAAAAAAAAAAAAAAAAAAAAAAAAAAAAAAAAAAAAAAAAAAAAAAAAAAAAAAAAAAAAAAAAAAAAAAAAAAAAAAAAAAAAAAAAAAAAAAAAAAAAAAAAAAAAAAAAAAAAAAAAAAAAAAAAAAAAAAAAAAAAAAAAAAAAAAAAAAAAAAAAAAAAAAAAAAAAAAAAAAAAAAAAAAAAAAAAAAAAAAAAAAAAAAAAAAAAAAAAAAAAAAAAAAAAAAAAAAAAAAAAAAAAAAAAAAAAAAAAAAAAAAAAAAAAAAAAAAAAAAAAAAAAAAAAAAAAAAAAAAAAAAAAAAAAAAAAAAAAAAAAAAAAAAAAAAAAAAAAAAAAAAAAAAAAAAAAAAAAAAAAAAAAAAAAAAAAAAAAAAAAAAAAAAAAAAAAAAAAAAAAAAAAAAAAAAAAAAAAAAAAAAAAAAAAAAAAAAAAYGIuHQAIJTvNs2B8iU5FFk+coqNQPjtx/NW9O1W4eu8nFSdPqBCAQ1DAgLbs2u+KSHpKytTCYj2WeGsr9onIra//RQ8AsBcKGI5WdsvtIlKQ3UcPmEx1w2kR+daKP9Q2NeoxANZEAcNB8rNyyuffoVPL+uaKZ2sbG2sa6/UAACuggGFnVxWNFJHls7+rB+xo/mt/WVe5T6cAzIoCht0U5/b/r+nfmDSsUA84yZKyUhFZUl6qBwCYBgUMm1h02RXjCobMLB6pBxxvbcU+tnQBJkQBw9ryMrPW3rQgNyNTD6CL6obTE599SqcADEIBw3rys3IWjC9ZMCHEW7kI0zdXPLuztkanAJKIAoaVbF1wF5Pd+Fq9Z+eDm9bydhOQfBQwLGBxyZQwD5xC1JaUlbJpC0gmChimtuza77KvKsnmvPjHbTVHdAog3ihgmNSO2+7O8aTrFMnCji0g0ShgmMv78xcNysrWKYxzz5uvr9rzic/v1wMAYkMBwxTyMrM+uPVOncJMOGkLiC8KGAa7dXzJ/VNm6BRmtXrPJ3f94zWdAogcBQzDXHfe6CeuuU6nsAJO1wJiRwHDGLzRawNs1AJiQQEjqfqlZ2xbuFinsLhLlz3BUR5ApChgJAnbrGxv+nO/rzh5XKcAukEBIxkqF92nI9gUJ2oBYaKAkVgcZeVMj21+e+n77+oUQBAKGIkyZXjR83Nv0CmcpGjpwzoCcAYFjIRgzRkdqGEgJAoYcTYuf/Dq63+gUzjb1urDc1/6k04BZ6OAEU8vfPufJw0r1CkgIuzPAjqjgBEfbLZCmFiRBgIoYMTB/tt/nOJ26xToRktb2/m/+aVOAYehgBGTn02esWBCiU6B8DAbhpNRwIgeW50RO245hGNRwIgS7Ys4umHl/2w+VKVTwNYoYESD9kXcccUhnIYCRmRuHX/Z/VOu0ikQJzwVhnNQwIgAE18kwaaqiptXv6hTwHYoYISL9kUycccwbI8CRu+uO2/0E9dcp1MgwZ7ZUvaf72zQKWAXFDB6wRFXMBBHdsDGKGD0ZOuCu3IzMnUKJNdDpeuXfVSuU8DiKGB0i4e+MBU2SMNmOL8XoW1dcJeOAEPxiRA2QwEjhPU3LWTlGSZEB8NOWIKGxu84mNydf3/11b07dQpYDQWMTmhfWMLJ5qaLn3lcp4ClUMD4Cu0La2FbFiyNZ8D4Eu0Ly6lcdN+4/ME6BSyCGTBEaF9Y2ZKy0iXlpToFTI8CBu0Ly9tafXjuS3/SKWBuFLDT0b6wDR4Jw1p4BuxotC/shL/PsBYK2Lk46wr2U7novuLc/joFTIkCdqjrzhvNWVewpQ0330YHwxIoYCfifl/Y24abb+uXnqFTwGQoYCeifWF72xYu1hFgMuyCdha3y/XZHT/RKWBTm6oqbl79ok4Bc2AG7Cy0LxxlamHx41+frVPAHChgB9lx2z06AuxuzvkX0sEwJ5agneL9+YsGZWXrFHAG1qJhQsyAHeHW8SW0L5xsamHx/tt/rFOYyTXpX7sm/Ws6tTVmwPbnSUnZ+8P/0CngSBxXaTbp4pmecUXHH9c1l7ZKW9C4nVHA9sf5fECH1Xs+uesfr+kURhjkHniJZ6xORdY0b9SRTaXqAPbys8kzdAQ42JzzLxQROthYI1OLRqYW6fSMAe7c476TOrUjZsA2x/QX6Io9WUaZkDYmPyVPp104ZBJMAdvZ/tt/nOJmnx0QwidHq7/1wh90ioSZln55hitdp91wSAHz29m2nptzPe0LdOfCQQWcF50cszKmzcqYFn77isisjGk6siN+QdtTcW7/qYXFOgUQZNvCxdyblFAz0idHXaVuByzQUsD2tOHm23QEoAvuLkwojytNR2H7eob93wmmgG1o1T99X0cAusGn1cR537tNR4k3Pf2KWRnTpqVfrgfMhwK2m7zMrIsLhugUQPd4WSBBjvlO6CgSEZWoR9ICK97pLo+IRPTI2SgUsN18cOudOgLQGzo4QTY0v6ujsIVZounimZUxbUbGZLXifWnaRcF/NCEK2FbKbrldRwDCw7ObRGgRr44iMSFtjI6CDHIPnJUxLfgky2B5KQN0ZDIUsK0UZPfREYDwXFww5IVv/7NOEbPD7dU6Clt3p3aMTC2alTEt5EmWwXo4b8sMKGD7eH/+Ih0BiMSkYYXj8gfrFLHZ3rpLR5FQJTohbcysjGlhNmuY32YUCtg+uHAQiN3q63+gI8Ssou2gjsLWUaKB7c3dzYm7M8g9UEemYf83nR2CLSRAHHFrYdxFfSJH7Ex7sCUzYDu4qmikjgDEYOuCu3SE2NS01+ooWdLFoyNzoIDtYPns7+oIQAxyMzKvO+8CnSIGW1p36ChZutsmbTgK2PKem3O9jgDE7Ilr5ugIsfH6W3XkbBSw5XHpApAgbK2Ir/Ut7+goWa5JN+PJ0hSwtXHyBszK7ZbMYe5b0sTshyH0jA62B5fLjDuOKWBr4+QNmEqa5GXI8GHuW4a5/2WI+0YRKXDP1d9kNd8Z1dNhTIjIuuZSHSXLJM8EHRktVQewjmXXsvcKptDXNT5V+ma5ztEDtvCrq69duduwDUQ20yptOkqWXHdfHRmNGbCFzSzm7SMYaaBr5mDXjcPct/R1jbdr+wawEB0vaYbO+qZ6SnRkKCP/WSAWt443198kOMdg1w0priyddm+w64Yj/hd0ajV7/v1H5//mlzpFJK5J/5qxz2Kz3RH8vU0CCtiq7p8yQ0dAguXImFx3xJ/8UlxZ4teh5aSnpi4umbKk3LBHmNY1xF1wkcfgl6r9fv/fW97SqdEoYEvKyzTX5zg4RL3syJWIC9g2Fk+kgCMzyD2w1wuLEu2kr+5D73YDnz33wMjVAESNJ1IwSoFrXpqrn0570+SvOuZfq1Nr4pjocJR4Lh7gztVpcjX4Gjd5y3VqJsyAAUTguP+tAtd1Ou1NpqvQBqvQAf3SM061NOsUZ1yadlFeivEvf5v2AoZgFLD1cO8vDNQqhh2pbxLbFi5mEhzS1elXprgMfrOmou3gnrb9OjUrg/9hIQrc+wtj+f3RTGb7usbryLL4EBwsXTyzMqbNyphmbPvW+U6vad5oofYVCthypgwv0hGQXI2yT0dhiK6AM2S4jkxgUFb2uPzBOnUqw+8aeq/lwzXNG9/1fqgHTI8Ctpjn596gIyC5Tvg36Sje+rrGD3PfMsx9S577aj1mDquv/4GOkHTbvDvXNG885T+tByyCAgaQJL1OZwe6ZgZ6N3i6PNA1M+hbTGT9TQt15Ej/aDbs/dpRadY+DZACthIOf4ZJVPtW6SgM3U1nB7tuCPRupqtQj4lkyFAdmcOI/gN4JCQiPuM2uKe7PDqyFArYSjj8GSbRKsd1FKHAZYWBf/V8sKXLlaIj0+CRUICB7/zMypimI+vgNSTLKM7tryPAarJk5AD3lTrtTV/X+Dr/Rzo1h++MGsNdScbySJpXWnVqBcyALeO/pn9DR4Bxan1v6igMUbSvRLuDOjl+dfW1OnKkcu9WHSXLjIzJOrIICtgyJg0L8XgMMIpXjurIqcpuuUNHznPcd1JH6A0FbA3s9YDZ+CSpxzGmyxAdmUZBdo6OHGlds2E3VUxPN/hd5OhQwNbAXg+YUDKfyw5yz9KRmTw353odOU+rtEV3SpqIvO/dFstOLotuh6aAAUSp0W+lY/8SamphMdskRSSKO3c/ba1Y07zxmO+EHojQtPTLdWR67IK2gPwsFrhgIjkyJtdtwK3ALkn1m/JW14ANN9/GJQ0RebN5U7u0Bycbmt+N+mDLDFe6jkyPAraA8vls8YDxBrpmhjwoI2kGuq6q9f9dp2YyLn/wtpojOnWY7d5dF3ku0Glnb7eUNfqbdCrSIl4dRWJC2pgtrVZ6JYwlaAA96fmYqmTKcJn0SKwOHBAtIod91ToKsqZ545rmjSHbN2C7d5eOwpafkqcjc2MGDEBzS+YQ9406RRhG5+XvrK3RqcN86P34Es/Y4KTZ37Kx5b3gpDuHfdUXSS8T6B6MTC3a11apU7Ny6QAmU3bL7QXZfXQKJECGDO/uuGaTOOpb0yKHdWoyPAmWoBMiD7V/8XHr7k5jvRmZWjQytUinYYtlN3WSsQRtdrQv0GGg6yodmQ/ncojIvrbKfW2Va5o3Rtq+IhLjFHaQe6COzIoCBvClZjmoIzM57nv7sP85nZoP53LImQLWadhO+up0FDa1+m1mFDAAUzvsW/G579nPfc82yj49ZlbLrp2nI0Ris3eLjsJm4P3EkWITlqlxATCSrM7/kRluPmj3Nx7xv6BT65hZfK6OEKFmf0tEr/aGv8/LPNiEZWqVi+7TEZBgw9y36ChZmvxVx/xrdWpNS8pKl5QbdjayPYR5129Ne621Xv/twAwYgJF8/tZ62ZHMY6WTY/HEKRRwosX4pNlwFDCATrz+ox7XIJ0mRrP/kMkPt4oFB2PFqIeTKbd7d/V84oclsAnLvBaXTNERkHhHk9iI5j/cKhYcjBWjkCdTbmh+d03zRhu0rzADNrPsNEtesAWr84f6rYfo5Gdl1zQ26BRhe9+77TLPuMDXFjphI0zMgM1rwQQDLpwBRMTv73RHTUKlyxAd2Uj5/EU6QiQC1xS+1/Kh/dpXKGAAXZ3yf6ijhLHE4VYw0Jrmjaf8p3VqCxSwSY3LH6wjIFnqJZqXOhr9+3UUBrcrTUf2wsmU6A7PgE0qLytbR4ApVftWtcrxwNdZrnM6D4KTKdEtZsAmtXw2Z2DBSO3d39gqIu3+xsDxkJ/7nu1oXxFp8lcFfVe48lzX6MheOJkSITEDBhBCtX/VEJe+ErjXk6qO+dcOc0V8kFaGa6j4dWgnnEyJkChgACH45KsZcJ3/I/udVAUYjiVoAKHV+t4MLDJH1L7t/kYdhcEMN0Ak1PqbFuoIjkcBAwgtuuuBo7vFyPYFPKL/AB3B8ShgM8rPYtskYDdXFbFFHJ1QwABMIUOG68hels/+no7gbBSwGZXP5819WNhh3wodhSHPfbWOAFujgAHEWfAOagTL54AdBKGAAZiFWzJ1ZC/czYBgvAcMIP5qfW+GuaTs9/sbZd8J/yY9ANgdBQwg/np9hanVf6pNTvV8rpYtTRleVHqwUqdwJAoYQFKd9JVHd9uSPfz2m98Z87tf6RSORAEDSIg6/0cdx2t4/UeP+99qk7rO3+JEOR6PjuBUFDCAhKjzf9TmP90o+/SA4z0281v3rv2rTuE87IIGkCi0b0jzLhirIzgSBQwAgAEoYAAADEABA0CyLS6ZoiM4DwVsOn+94V91BMBeFk+kgEEBm09eVpaOAAC2QwEDgAHyMvmo7XQUMAAYYFzBYB3BYShgADDA8tnf0xEchgIGAMAAFDAAGCM/K1tHZpWanqMjxIyzoAHAGOXzFxUtfVin5pM7ZNzwi74d+HrHPx70+9o7jyNKFDAAoFujZ/7vlNT0jj+O+frPRaR638aafRs7QkSHAgYAhDZq+o+C27dDwchpBSOniUhdzZ4DW1boYYSHAgYAhDB21gM66qJv/vk6QtjYhAUAhim75Q4dmUBGn7PCad+AUdPu1RHCQwGbzsRnn9IRACTRuZP/TUfdc7lZSY0SBQwAhslO8+jIalI9mTpCeChgADBMjsfyBYyoUcAAABiAAgYAxOTsCTfqCGGggAHASMuunacjo+3a8EsdIQEoYABAJ742r456xNvA0WH7OAAYaWbxuToymq89ggJu8zbtWv+IThEGZsAAgOjRvlGjgAEA2sdrHmhtPq3Tzire/9PHax7QKcLGEjQAyeg/cuDoGw6985AegIPt3viYiAwbO7f/0Iv1mAjVGzuXDmAClYvu0xGQMFn5F+WNvkFEWhuPHin/tR5G4i0pK11SXqpTk8k/cwOS0L5xQgGbUX5WTvl8Mx7RDvvpaN8AOtgQlijggJyBI+qPfaZTRIUlaMC5MvqPDG5fEUnLGjR08v3RrUUPfXByx9eHfv5O0Ajsg/aNI2bAJsUqNBItLWfw4EsX6fSMqo0/1VGQlL6eYQ9N0Wn3mnYfP7r8Y39Lux7AGUVLH9YR7I4ZMGwiLTXP7fryVpa29lPtvrrO4+gkY+Co/LHf12mQ7ubBZ917afrZfXXam8xRAwof/ZqI1D6/s6H8Cz0MOBIFDJvIy71OR2Frat7fFqqw6xs/0pEtDC65Oy1rkE47S0nLysq/qLFme0dy9hMzgsajlHfT6LybRrfWNB5+aLMeAxyGJWiTYgk6Finuvqkp/XQqMqDf1TqKq2ZvlY5ERORE3VodGSec9u1Qu/OFxprtA//XBTkTB+uxmDXuqD36+68K3uFYgnYgCtikrioauXz2d3WK5OpY01YKBkZ/90u7r6nm+AqdJsvQyfenpGXptGezP3ClndRh/By4c72OHIkCdiCWoIFu+fxNOhIRkSO1z+rICgqn/UJHPXJ9J/AB/TKRzSK9HIoUtbOfmNG0+3jN01v1AGB3HEVpUusq9+kIiMHQyffrqEdn2jdgksiAoD/GWeaoAXF5wAxYCwUM2N/gkrsjW3merQORS0TO0llcnf3EDFd6ik4B+6KAAZuLaNeViMg3xZUWcnfI2ER3cOBVJcAhKGDAzoZOvj+y9p0troyQ7RswNqFr0SJSuGS6jpxhyvAiHcHuKGDzWlJmjbNhYVqF034R2cpzYXdz32CXiPTRWfy43C5nPg9OT2H53XEoYPP67ORxHQFhi3TXlbjFdWmv7RuQ2D1ZIpL3/dE6AmyHAjavV/fu1BEQnoh3XYm45obZvgGJ3ZOVfelZqYNCv4QN2AYFDNhN4bRfRPbcV0Qu0UEYErsna+jPL9cRYC8UsKmtreBtYEQm0tM2AlxnRzT97TBWB3GV0tejI8BGovupQ/JwKDTCF137yuXiGhzLr4I3dRA/zjmocv5rf15XuV+nsI5sl0dE7sidqAdEROTJk2Ui0uD3BoccRQnYRJTtKzG2r4hcnbgOzji/f/OeEzoFTGOMJ/9b2efrtAtVzH+p/2R/63EKGLCDqNtX8nQQlUR1cMHt450zCYaFDE/t9899LtJp2L6bc6HwDNj8qhsSdQg+bCP69hWR8TqIVmKvegTM4/t9Lo6lfTtQwGY38dmndAQEial9RVx9Ylx/DpaQDi58bJqOAIP8S5/xP+k/dXBqfM6ioYABC4uxfRPwCyD+HexKi///SiAKP+k/tSA1R6cx4G82YFWxtq+I5OsgHuLfwU7AFmiT+0n/qTqKGQUMWFIc2lfEdUUc15+DxbmD+32jWEdAEs0OY59zFChgCyhZ/qSO4Gxxad8Ei2cH51LAME6GK3W0JyGLRRSwBdQ01usIDmaF9g2IZwcDRrkrN1GnolLAgGW403Ks074BdDCs7Y5+oU+2igsK2Brmv/YXHcFhPH2GDZv8U51aAB0MC8t2J/BAcgrYGtZVciuDo6XnFp91yQ91ahnTdQBYwbzsxN5LTQFbxuo9n+gIzuDpM6zg4gU6tZJUkSt1BpjeSM9AHcUVBWwZP92wRkdwAHdajpXnvh3SmQcDCgVsGQ2trTqCA1jzuW9IqTwP7s6SslIdwWiTMwp1FG8UsJWsreBJsON8Xvqgjqxtgg4AU5qSebaO4o0CtpJbX2cvtOP42poOl/1Kp1Z1RGSLzgCnooABs2trqk1QB/vf9esogY6I7NAZRERkSTlL0E5EAVsM1wM7U1tTbULWor/QQcIci6V9T/6tQkeA9VHAFsP1wI7la2uq2mjRDVl1Ma48n6KAYUcUMGAlTcc/1VFs/LsSvQp9TKRMZwAoYCt6Zku5juAYR7f/oaF6m05jsUsHcfVOjHNfEWmtadQRYAsUsPU8uvktHcFJju16Mc4dnCjviMShOw8/tFlH9rK1+rCOYAKlTQd0FG8UsPV429t1BIc5tuvFOK5F+48kYhV6Q1za1wlqGxt0BBMobz6ko3ijgC3pplUv6AgOc3T7H7yn4zRzek/8/vh28JsibTqLivdz+2/7P9XcrCOYQKskfKpDAVtS6cFKHcF5vvjwybjNg1/RQQw26CAGR/77fR3Zzr1r/6ojmEODz6ujuKKArYrDYyGJ2JMVq3fiNfcVkbr1VToCkmhd42c6iisK2Ko4OgcB8dqT5V8V+yp0fHZddTixyv6Hn59sbtIRTGNX61EdxRUFbGHczYCA+OzJ8on/g1g6OM67rg7cE8+lbNNqYU+ludX7WnQUPxSwhXE3AzrEZ09Wlfhbo+vguO26Cjj+yqfSFt3/EouZ+OyTOoKZPHUqgecuUMDWxtHQ6BCfPVmvib850uaL81S1vc57esNBnQIGefJkoo5yo4CtjaOhESw+e7Le0EGP4rnrSkR8zW2f38/+BphIgz9Re6EpYMBWju16UUeR868McxIc511XInLwx2/rCDDa0pMJOY6NAra8kuU8Q0Incbk0KYwOfjPu7XvgzvU6srWS5Ut1BFNq9LeWN3+u05hRwJZX01ivIzhe1caf+v0+nUbIv9Lv395dDb+pg9gcf+VTp7WviPjifAAZEmhDU8U+7zGdxoYCtoP5r7EdGtrBt+7XURT2iX+l39+ueiLO7XvgzvXO3HVV2xTnJQQk1MsNO9ti/lwbjAK2g3WVvBCMEOKyFi0isjr42uB4tm/d+ioHTnxhXY+dfEdHMaCAbYKTKRFS3Dp4l/hX+hs+eE7n0Wr44IsDd653wllX3XmiPJ6/ypE0vzwRt1+2Lh3AsioX3acjQERECqf9QkeR6+jylL6eYQ9N6TwYgfY6Ly8aich5Tz/K1aIWlSKuH/WP/kegAwVsK3QwujP8aw+5XNGveIWcSfeZPrzvjMLUful6oIu2Uy0icujnzPm+UrT0YR3BUu7NnZwaw8+UUMA2s+fff5SemqpTQERimAeHbN+QBi28qOPro7/fHjSCTpaUlXKfig18M+u8sekFOg0bBWw3TILRgyg6OPz2RfiY/tpGmqTc0/8KnYYnpukzAGuJtE0j/X7AaVql/ZETm3Z6a/RAGChguxnx5CM6AoKE36nhfycisrYi5jszYDKvNex55MSmBl9kp0ZTwHbj8/u54tvJMgd6dNRFr83a7j3d6/cgare+/rKOYAtPnip75MSmJl+rHugGBWxDFz/zuI7gGPlj+6dmpui0ix76taXu4KF3/0unAMLzxKnNj5zYFM65lRSwPXEuhzOleNwiMnRinh4I5eCmB3Qk0nzys+otv9Ep4qe6gcPbHeHlhp2PnNj0yIlNpU0H9NgZ7IK2LbZDO9DZ0758I+LIh8e8p3u/ptedljNs8ldT4Za6g7RvorH/2cnOSRsgIt/NuTDwRwrYtvqlZ2xbuFinsLWOAhaRAxurg0a65UrxDJ/6gIi0e0+z8pwEFDA6sARtW6damqsbTusU9hXcvnJmObpX/nZv1caf0r5A8jEDtjkWop1DFbCEPQlG0oz7/ZJTLc06hVOF9RkZ1lWy/EkdwY6GlAzUEcyH9kUwCtjmahrZcukIaVkhzgAfenlY26GRHPNf+7OO4GwUsP2x6cP2hk8ZpCMREUlN7/2FYCTNusr9OoKzUcCO8FDpeh3BNlziTu32Bzn/olwdwQi8mo+uuv25hZ0s+6j8aGODTmELZ39N770Kljmg98t6kQRcPoiuKGCnuGz5Uh3BGfoVZesIyfXZid5PJYQDUcAOctOqF3QEiwtnhTm3KEdHSK4Zzz+jI4ACdpTSg5U6gsWFucIczhVJAJKMAnYWdkTbSfhvGeWP7a8jJAs/dOgOBew4vIxoGxG9ZZRdkKEjAIaigB1nXeX+zZ9X6RRWM2hMro56lHdBPx0h8Z7ZUqYj4AzOgnYozoi2qEDvZuWF9ei3q8baFhE5daA+nMsKETvWn9EDCtihuKzQ/AaO6pvR3+NySYongqXmKLS1tIvIofdq9QBic8+br6/cvUOnwBkUsKMxDzaDwL2Bw64IfZykgZqOtxzbXSci7V6fHkMYmP6iZyEOcIdzbKqqmFpYrFMkUdc7BM0jc0B64GNB0/GWmu0n9TB6dOffV+sI6IxNWI528+oXdYTkMv+VvQ3VTbRvFF7du0tHQGcUsNOxSma4A2+Zt4Mbqptqd9XpFL2Z8+IfdQR0QQFDLvztYzpCMvlN2sFNx1to3ygcbWzYVnNEp0AXFDCkobX15V0f6xTJ5DfdWrT3dCsrz9Hh4hOEiQKGiMi9a//a0saLoQYzTwc3HW858uFxnQKIK15Dwld4K8kMDN8XzXPfWLCpAuFjBoyvnPf0ozpC0hk7Dz5UVkv7Ru2J8nd0BHSPAsZXvO3t97z5uk6RdEZ18MHSmramdp0ibL8q26QjoHsUMDpZuXvHQ6XrdYqkO7Cx2u/z6zSRDmys9rUl9b/RZvjBQaQoYGjLPip/bPPbOkXSVb1dk7QOPlhaoyNE4mhjw7KPynUK9IgCRghL33+3uqFep0i6qreT0YuHymqZ+8aIV48QBQoYoU189kkdwQiJfh58qKyW574xumnVCzoCwkABo1u8UGESietgdl3FRenBSh0BYaCA0ZOipQ/Xe706RdKdrEzIEwFWnmPH51REjQJGL8b87lc6QtLlFuXoCCbApQuIBQWM3vEZH+hq8+dVXLqAWFDACAsdbEuDxuTqCGG74ZX/0REQCQoY4SpZzr5o4Et8JEXsKGCEq6axntctDJE50KOjOMnKS9cRwvDJ0UTtS4ejUMCIQOnByjv/vlqnSDBPnzQdwTibqiq+9cIfdApEjgJGZF7du4vFtyRjC7Sp3Lz6RR0BUaGAEQ062Day8jN0hO7xNx9xRAEjSiOefERHsKC0rBQdoRsX/vYxHQExoIARJZ/fz2zAhOq/aPK1+XTaPXeKS0cIpWjpww2trToFYkABIyZFSx8+2tigU8RPiifcH9LG2pYDG6uP7a47WHo0/OuE+w7P1hG6eHnXxzoCYsaHX8TBjtvuyfEk6lUZh+t/Tk6vHXmysv5UZYiPQa4UV+HUfJ12kbjLHuzhmS1l//nOBp0CMQv3wzXQA86LTpye27e91XdgY3XI9hURf7v/wMbqQ2W1egCRoH2RIMyAETeVi+7TEWJ29rQCHZ0R0cw1xeMedsUgnYqISPW2E80nuPMqNDY6IHGYASNuipY+XN2QkFvzEKytpf3AxuqI2ldE2r2+Axurq7ed0AMiLn4NdIP2RUIxA0b8MRWOIzUDjrR3Qxo0JlcdQhmX/1iboX2RaBQwEoIOjpeOAj5UVtvW1N55MCbB27soYIX2RRJQwEgUOjh2Qy/PS01POfLhMe/pNj0WJ3kX9M0uyKSAg5339KPe9nh+1gFCooCRQD+bPH3BhIk6RdjcaW5fawSnaiB2tC+ShgJGwjEVhlWw8oxkYvsjEo5farAE/qIiyZgBI0ke//rsOedfqFPAHGhfJB8zYCTJXf94bfWeT3QKmADtC0MwA0ZS9UvP2LZwsU4B49C+MAoFDAOwLQtm0NLWdv5vfqlTIFkoYBhj2bXzZhafq1MgWWhfGI4ChpGYCsMQ3DAIM6CAYbCris5ZPvt7OgUSZv5rf15XuV+nQNJRwDCe2+X67I6f6BRIgAt/+1hDa6tOASNQwDCLW8eX3D9lhk6BOKluqJ/47JM6BYxDAcNceCqMRNhUVXHz6hd1ChiKAobp/GzyjAUTSnQKRGv6c7+rOHlCp4DRKGCYUV5m1ge33qlTIHKcswHTooBhXs/NuX5qYbFOgfAcbWy4bPlSnQKmQQHD7N6fv2hQVrZOgR5duuyJ2qZGnQJmQgHDAsblD159/Q90CoTy2YljM55/RqeA+VDAsIzrzhv9xDXX6RQIcuffV7+6d5dOAVOigGEx3xk15ldXX6tTON49b76+cvcOnQImRgHDejwpKXt/+B86hYOd9/Sj3vZ2nQLmRgHDwvbf/uMUt1uncJKXd31879q/6hSwAgoY1tYvPWPbwsU6hTPwji8sjQKGHUwaWviL6bNG9B+gB2BTHG4FG6CAYSscJW17c17847aaIzoFLIgCht2wRcuuSpYvrWls0ClgWRQwbOuvN/zrhYMKdAoLeqh0/bKPynUKWBwFDJtbdu28mcXn6hQWwSZn2BgFDEdYXDJl8cQpOoWJLSkrXVJeqlPARihgOMhVRecsn/09ncJktlYfnvvSn3QK2A4FDCfKz8oun79IpzDaN1c8u7O2RqeATVHAcLSyW+4oyM7RKZKruqF+4rNP6hSwOwoYkEWXXXHHpVekp6bqASTY2opPb339ZZ0CzkABA19hr1ZycGUvIBQw0NW4/MF/nPNPuRmZegAx49JAoAMFDHTLk5LyH5OuXDBhoh5AhDZVVfzbGysbWlv1AOBgFDAQlrzMrL/eeAs7tsJX7/X+2xsrSw9W6gEAIkIBA1HgdK0ebKqquHn1izoF0AUFDESPTVsdOLgKiBQFDMTHVUXnXHfe6DnnX6gH7Gv+a38WkXWV+/UAgDBQwED8uV2uvMwsWx62VbJ8aW1To8/v1wMAIkQBA8kwZXjRY1dfm5ueYa3jPqob6u9983U2UgGJQAEDhll27TwRSU9JnVpYrMeSbm3FpyLy6t6dr+7dpccAJAAFDJjL4pKvdnXdOr4kx+MJGoyDJWVfbpVizxQAAAAAAAAAAAAAAAAAAAAAAAAAAAAAAAAAAAAAAAAAAAAAAAAAAAAAAAAAAAAAAAAAAAAAAAAAAAAAAAAAAAAAAAAAAAAAAAAAAAAAAAAAAAAAAAAAAAAAAAAAAAAAAAAAAAAAAAAAAAAAAAAAAAAAAAAAAAAAAAAAAAAAAAAAAAAAAAAAAAAAAAAAAAAAAAAAAAAAAAAAAAAAAAAAAAAAAAAAAAAAAAAAAAAAAAAAAAAAAAAAAAAAAAAAAAAAAAAAAAAAAAAAAAAAAAAAAAAAAAAAAAAAAAAAAAAAAAAAAAAAAAAAAAAAAACAMGUPzNSRNaXqAAAAExv7jZEi8vn26s+31+gxS3HpAAAAc7v0exekpqeKyKelVccqT+lhi6CAAQDWk5aZesm8CwJff/iXXa3NbZ3HLYACBgBYWMmNF7pT3CLy/ks7273tetjEKGAAgLWdc/mwQef0D3y9+fmPOw+aFwUMALCDYRflD7uoQEQO7zxateULPQwAABJnzKxzJt00VqcAAAAAAAAAAAAAAAAAAAAAAAAAAAAAAAAAAAAAAAAAAAAAAAAAAAAAAAAAAAAAAAAAAAAAAAAAkHDXTT/72zOLdIoz3DoAACAeUlJcOkIQChgAEH+TxuWLiN/v1wM4gwIGAMTf4EFZInLwSIMewBkUMAAgUT7cWasjnEEBA7Y1qSRDR0BSjBqRqyN0QQED9jR3dnZxUZpOgaS4YESuiKzffFgPIAgFDNhTZqZbRK6ckqkHgGQ5Ve/VEYJQwIANdfTu0CGpnUeAhDsrj499YaGAARsK7t38QSlBI0DCXX5xgYi8t7VaD6AzPh0DtnLllMw+fTp9sL5qetahw22by5u8LAciib6obdIROqOAAWsrOjv18om9rPgNHZI6b26f4GTFS6eD/wjES4aHFZdwsQQNWFvlgbaPtjbrtHutrX7aF4nzjSuHi8iuz07qAXRBAQOWt3tv6/YdLToNpanZ95dX6nUKxNtuCjgMFDBgB5/s9PY6D25t9a96lXMBAbOggAGb2L239b2ynra9MPdFos2aOkxEjhxt1AMIxQ4FnJ3NcT+AiMgX1e06ApIoMz1VRDZvq9EDCMUOBbxw4fg5c87VKeA8374uR0dAsqSl2qFQksny/7wKC/uKyIgR/fUAACCJrhhfICJNLW16AN2wfAHPmzcq8MWkSUM7jwCO9ueVp1e8dLryQKseABJjQL90EVmz6XM9gG5Yu4AnThzS8fXll1PAgIjI62/Ur3jpdFubiMh7Zc0rXjp97Fi7cDshEmbSuPyZ/AaOnLVPwrriimHBfywuzq2oOBmcAI7yyur65ha/TkX+sa5RRObOztYDQFQGDci45MK8wJYrRM2lA+uYNGlo11nvr39drhIAQIwyPCmBI65Cam/3e9vaT9Z5Bw/KEpFX1lbq70AoFv780rV9ReSCCwbu2nVMpwCASASuFAzcaxTSkaONeypOnqjrdMXHddPPTklxfXtmER0cDqvOgIuLc+fOPU+nIsIkGACiMmpE7gUjcnV6xtETzbUnmns9Y/LbM4sCX9DBvbLqDLi79gUARKF/X0/X9g3c6RvRxYKr11fOmVEkIsyDe2XJGXBWVuptt03Q6Rk+n//xx9/XKQCgR2PO7X/u2f3+9vbBZm9MR6q53RLo4OaW9r9tOqiHcYYlC/juu0t01NnTT3/Y0hLTXyAAQPjcnrRxP79bRD76+X8HksBaNB3cA2u/B9ydH/7wEh0BABJm+JxrVLJz/wkRyUhP6d/Xo4YQYL0Cvv32sMp12LA+OgIAJMaAi0aLyLYHf92R7Kk49fHe4yIyrWRIXn8OgQnBegXs8aToKJTvfe8CHQEAEqDv+ecEvvB5Ox19uq+q7oNPjorI1EvOYh7clcUKeNGiS3XUvcA9DQCAhDrnpnkisv/5l/WAyMEjDYEvppV8dXIwAixQwFlZqdnZadnZaXffXZIayXVX8+aNuvvuksC/Ny0tgn8jACBMqX2+POK0bs/+ziNfemVtZWubT4JeEUaAuXZBFxfnisisWSMyMhL7gvLu3cd27z4mIpwdDQCxGP/gj0Wkufb4rseX6bEgHNDRlWEFHLg9MORxkgZ6771Dmzcf0ikAoBuBAv50+Yr6yl5eNwp08OmG1rXv8WtWxMAl6M2bD5mtfUXk8OHTOgIA9KbX9pUzc98+2WncXRhgWAGL+Q5tfv75HVVVdToFAHTj4v/7IxE5tXufHujG+s2HRaRPdtqgAbyYZGgBi8ivf13e1ubTqRFefnn30aONOgUAdM/ldovIZ/9vpR7oxql6b+mWL0RkyoSz9JjzGPYMONiiRZdGtL057t54Y9+ePcd1CgDowpWS0mdkkZx5+6i1rn7Ho0+r70E4ErvZOExLl37Q6/HOiUP7AkBIZ02fLCLu9LSCyd3+inanc8JGlEwxAw4wpINffnk3z30BQAnsbe7Z/udfDkyCj6zb9MXG9/QwemOiApakd/Dzz+/guS8AdBVcwB//91OBL9pOf3msVYfU7Kyx990hQZcgIXzmKmBJ4vNg5r4AELsxP7k9LSdbRLY+8Ji/nXtgI5CMqovI0qUfJGFf9Btv7KN9ASB2Ox75cn588QP3dh5BL0xXwCKydOkHOoordl0BQBx1rD8PmTWt0wB6ZLol6A4Jeh7MyjMAxF36wP6jFy8QkWMf7aha+YYeRihmnAEHJOKcLM66AoBEaDl2om5fpYgMHD9Gj6Eb5i1giXcHr1q1lz3PAJAg+//4kt/nk/BeYYKYvIDja+7c83QEAIifrf/nl4Ev6OBwOKiAAQCJtu3BX+sI3TDFUZTdCdwZDACwCp+3lUM5wsQMGAAAA5i6gC+P96XN2dlpOgIAwAimLuC4KyzsqyMAAIzgrAKeNescHQEAYATzFnBxca6OAACwC/MWMAAANmbe15DCPDfjd7/b0tjYJiILFlyck+PRwwAAmJJ5C7hX6lKjZ57ZKiJz5pw7YkT/jrCrwsK+HAcNADCcJW9Deuutqi1bvtBpkG9845xRowbqVERE6uu9gaoGAMBAJp0Bp6en6EhERFat2ltRcVKnXfztb/v/9rf9N944+qyzctRQRoZJ/y8DABzFpG2Umqp3hx04cGrlyj0q7NmKFTuzslJvu21CcNj1PxkAgOQzaQEvXDi+4+tYFo0bG9sCdxrefvslHk/oWTUAAMln0gIO+OyzE6tXf6rTqDz11IcismjRpcyAAQDoVuLuQUpLc8+Zc65OAQAAAAAAAAAAAAAAAAAAAAAAAAAAAAAAAAAAAAAAAAAAAAAAAAAAAAAAAAAAAAAAAADy/wGtzr0RtuTYsgAAAABJRU5ErkJggg==",
         "type": "image",
         "xaxis": "x",
         "yaxis": "y"
        },
        {
         "fill": "toself",
         "hoverinfo": "none",
         "legendgrouptitle": {
          "text": "Found :"
         },
         "marker": {
          "color": "forestgreen"
         },
         "mode": "lines",
         "name": "1 [Star]",
         "opacity": 0.7,
         "type": "scatter",
         "x": [
          297,
          356,
          356,
          297,
          297,
          null
         ],
         "y": [
          350,
          350,
          409,
          409,
          350,
          null
         ]
        },
        {
         "hoverinfo": "text+name",
         "marker": {
          "color": "forestgreen"
         },
         "name": "0.98",
         "opacity": 0,
         "showlegend": false,
         "text": "[Star]",
         "type": "scatter",
         "x": [
          326
         ],
         "y": [
          379
         ]
        }
       ],
       "layout": {
        "margin": {
         "t": 60
        },
        "template": {
         "data": {
          "bar": [
           {
            "error_x": {
             "color": "#2a3f5f"
            },
            "error_y": {
             "color": "#2a3f5f"
            },
            "marker": {
             "line": {
              "color": "#E5ECF6",
              "width": 0.5
             },
             "pattern": {
              "fillmode": "overlay",
              "size": 10,
              "solidity": 0.2
             }
            },
            "type": "bar"
           }
          ],
          "barpolar": [
           {
            "marker": {
             "line": {
              "color": "#E5ECF6",
              "width": 0.5
             },
             "pattern": {
              "fillmode": "overlay",
              "size": 10,
              "solidity": 0.2
             }
            },
            "type": "barpolar"
           }
          ],
          "carpet": [
           {
            "aaxis": {
             "endlinecolor": "#2a3f5f",
             "gridcolor": "white",
             "linecolor": "white",
             "minorgridcolor": "white",
             "startlinecolor": "#2a3f5f"
            },
            "baxis": {
             "endlinecolor": "#2a3f5f",
             "gridcolor": "white",
             "linecolor": "white",
             "minorgridcolor": "white",
             "startlinecolor": "#2a3f5f"
            },
            "type": "carpet"
           }
          ],
          "choropleth": [
           {
            "colorbar": {
             "outlinewidth": 0,
             "ticks": ""
            },
            "type": "choropleth"
           }
          ],
          "contour": [
           {
            "colorbar": {
             "outlinewidth": 0,
             "ticks": ""
            },
            "colorscale": [
             [
              0,
              "#0d0887"
             ],
             [
              0.1111111111111111,
              "#46039f"
             ],
             [
              0.2222222222222222,
              "#7201a8"
             ],
             [
              0.3333333333333333,
              "#9c179e"
             ],
             [
              0.4444444444444444,
              "#bd3786"
             ],
             [
              0.5555555555555556,
              "#d8576b"
             ],
             [
              0.6666666666666666,
              "#ed7953"
             ],
             [
              0.7777777777777778,
              "#fb9f3a"
             ],
             [
              0.8888888888888888,
              "#fdca26"
             ],
             [
              1,
              "#f0f921"
             ]
            ],
            "type": "contour"
           }
          ],
          "contourcarpet": [
           {
            "colorbar": {
             "outlinewidth": 0,
             "ticks": ""
            },
            "type": "contourcarpet"
           }
          ],
          "heatmap": [
           {
            "colorbar": {
             "outlinewidth": 0,
             "ticks": ""
            },
            "colorscale": [
             [
              0,
              "#0d0887"
             ],
             [
              0.1111111111111111,
              "#46039f"
             ],
             [
              0.2222222222222222,
              "#7201a8"
             ],
             [
              0.3333333333333333,
              "#9c179e"
             ],
             [
              0.4444444444444444,
              "#bd3786"
             ],
             [
              0.5555555555555556,
              "#d8576b"
             ],
             [
              0.6666666666666666,
              "#ed7953"
             ],
             [
              0.7777777777777778,
              "#fb9f3a"
             ],
             [
              0.8888888888888888,
              "#fdca26"
             ],
             [
              1,
              "#f0f921"
             ]
            ],
            "type": "heatmap"
           }
          ],
          "heatmapgl": [
           {
            "colorbar": {
             "outlinewidth": 0,
             "ticks": ""
            },
            "colorscale": [
             [
              0,
              "#0d0887"
             ],
             [
              0.1111111111111111,
              "#46039f"
             ],
             [
              0.2222222222222222,
              "#7201a8"
             ],
             [
              0.3333333333333333,
              "#9c179e"
             ],
             [
              0.4444444444444444,
              "#bd3786"
             ],
             [
              0.5555555555555556,
              "#d8576b"
             ],
             [
              0.6666666666666666,
              "#ed7953"
             ],
             [
              0.7777777777777778,
              "#fb9f3a"
             ],
             [
              0.8888888888888888,
              "#fdca26"
             ],
             [
              1,
              "#f0f921"
             ]
            ],
            "type": "heatmapgl"
           }
          ],
          "histogram": [
           {
            "marker": {
             "pattern": {
              "fillmode": "overlay",
              "size": 10,
              "solidity": 0.2
             }
            },
            "type": "histogram"
           }
          ],
          "histogram2d": [
           {
            "colorbar": {
             "outlinewidth": 0,
             "ticks": ""
            },
            "colorscale": [
             [
              0,
              "#0d0887"
             ],
             [
              0.1111111111111111,
              "#46039f"
             ],
             [
              0.2222222222222222,
              "#7201a8"
             ],
             [
              0.3333333333333333,
              "#9c179e"
             ],
             [
              0.4444444444444444,
              "#bd3786"
             ],
             [
              0.5555555555555556,
              "#d8576b"
             ],
             [
              0.6666666666666666,
              "#ed7953"
             ],
             [
              0.7777777777777778,
              "#fb9f3a"
             ],
             [
              0.8888888888888888,
              "#fdca26"
             ],
             [
              1,
              "#f0f921"
             ]
            ],
            "type": "histogram2d"
           }
          ],
          "histogram2dcontour": [
           {
            "colorbar": {
             "outlinewidth": 0,
             "ticks": ""
            },
            "colorscale": [
             [
              0,
              "#0d0887"
             ],
             [
              0.1111111111111111,
              "#46039f"
             ],
             [
              0.2222222222222222,
              "#7201a8"
             ],
             [
              0.3333333333333333,
              "#9c179e"
             ],
             [
              0.4444444444444444,
              "#bd3786"
             ],
             [
              0.5555555555555556,
              "#d8576b"
             ],
             [
              0.6666666666666666,
              "#ed7953"
             ],
             [
              0.7777777777777778,
              "#fb9f3a"
             ],
             [
              0.8888888888888888,
              "#fdca26"
             ],
             [
              1,
              "#f0f921"
             ]
            ],
            "type": "histogram2dcontour"
           }
          ],
          "mesh3d": [
           {
            "colorbar": {
             "outlinewidth": 0,
             "ticks": ""
            },
            "type": "mesh3d"
           }
          ],
          "parcoords": [
           {
            "line": {
             "colorbar": {
              "outlinewidth": 0,
              "ticks": ""
             }
            },
            "type": "parcoords"
           }
          ],
          "pie": [
           {
            "automargin": true,
            "type": "pie"
           }
          ],
          "scatter": [
           {
            "fillpattern": {
             "fillmode": "overlay",
             "size": 10,
             "solidity": 0.2
            },
            "type": "scatter"
           }
          ],
          "scatter3d": [
           {
            "line": {
             "colorbar": {
              "outlinewidth": 0,
              "ticks": ""
             }
            },
            "marker": {
             "colorbar": {
              "outlinewidth": 0,
              "ticks": ""
             }
            },
            "type": "scatter3d"
           }
          ],
          "scattercarpet": [
           {
            "marker": {
             "colorbar": {
              "outlinewidth": 0,
              "ticks": ""
             }
            },
            "type": "scattercarpet"
           }
          ],
          "scattergeo": [
           {
            "marker": {
             "colorbar": {
              "outlinewidth": 0,
              "ticks": ""
             }
            },
            "type": "scattergeo"
           }
          ],
          "scattergl": [
           {
            "marker": {
             "colorbar": {
              "outlinewidth": 0,
              "ticks": ""
             }
            },
            "type": "scattergl"
           }
          ],
          "scattermapbox": [
           {
            "marker": {
             "colorbar": {
              "outlinewidth": 0,
              "ticks": ""
             }
            },
            "type": "scattermapbox"
           }
          ],
          "scatterpolar": [
           {
            "marker": {
             "colorbar": {
              "outlinewidth": 0,
              "ticks": ""
             }
            },
            "type": "scatterpolar"
           }
          ],
          "scatterpolargl": [
           {
            "marker": {
             "colorbar": {
              "outlinewidth": 0,
              "ticks": ""
             }
            },
            "type": "scatterpolargl"
           }
          ],
          "scatterternary": [
           {
            "marker": {
             "colorbar": {
              "outlinewidth": 0,
              "ticks": ""
             }
            },
            "type": "scatterternary"
           }
          ],
          "surface": [
           {
            "colorbar": {
             "outlinewidth": 0,
             "ticks": ""
            },
            "colorscale": [
             [
              0,
              "#0d0887"
             ],
             [
              0.1111111111111111,
              "#46039f"
             ],
             [
              0.2222222222222222,
              "#7201a8"
             ],
             [
              0.3333333333333333,
              "#9c179e"
             ],
             [
              0.4444444444444444,
              "#bd3786"
             ],
             [
              0.5555555555555556,
              "#d8576b"
             ],
             [
              0.6666666666666666,
              "#ed7953"
             ],
             [
              0.7777777777777778,
              "#fb9f3a"
             ],
             [
              0.8888888888888888,
              "#fdca26"
             ],
             [
              1,
              "#f0f921"
             ]
            ],
            "type": "surface"
           }
          ],
          "table": [
           {
            "cells": {
             "fill": {
              "color": "#EBF0F8"
             },
             "line": {
              "color": "white"
             }
            },
            "header": {
             "fill": {
              "color": "#C8D4E3"
             },
             "line": {
              "color": "white"
             }
            },
            "type": "table"
           }
          ]
         },
         "layout": {
          "annotationdefaults": {
           "arrowcolor": "#2a3f5f",
           "arrowhead": 0,
           "arrowwidth": 1
          },
          "autotypenumbers": "strict",
          "coloraxis": {
           "colorbar": {
            "outlinewidth": 0,
            "ticks": ""
           }
          },
          "colorscale": {
           "diverging": [
            [
             0,
             "#8e0152"
            ],
            [
             0.1,
             "#c51b7d"
            ],
            [
             0.2,
             "#de77ae"
            ],
            [
             0.3,
             "#f1b6da"
            ],
            [
             0.4,
             "#fde0ef"
            ],
            [
             0.5,
             "#f7f7f7"
            ],
            [
             0.6,
             "#e6f5d0"
            ],
            [
             0.7,
             "#b8e186"
            ],
            [
             0.8,
             "#7fbc41"
            ],
            [
             0.9,
             "#4d9221"
            ],
            [
             1,
             "#276419"
            ]
           ],
           "sequential": [
            [
             0,
             "#0d0887"
            ],
            [
             0.1111111111111111,
             "#46039f"
            ],
            [
             0.2222222222222222,
             "#7201a8"
            ],
            [
             0.3333333333333333,
             "#9c179e"
            ],
            [
             0.4444444444444444,
             "#bd3786"
            ],
            [
             0.5555555555555556,
             "#d8576b"
            ],
            [
             0.6666666666666666,
             "#ed7953"
            ],
            [
             0.7777777777777778,
             "#fb9f3a"
            ],
            [
             0.8888888888888888,
             "#fdca26"
            ],
            [
             1,
             "#f0f921"
            ]
           ],
           "sequentialminus": [
            [
             0,
             "#0d0887"
            ],
            [
             0.1111111111111111,
             "#46039f"
            ],
            [
             0.2222222222222222,
             "#7201a8"
            ],
            [
             0.3333333333333333,
             "#9c179e"
            ],
            [
             0.4444444444444444,
             "#bd3786"
            ],
            [
             0.5555555555555556,
             "#d8576b"
            ],
            [
             0.6666666666666666,
             "#ed7953"
            ],
            [
             0.7777777777777778,
             "#fb9f3a"
            ],
            [
             0.8888888888888888,
             "#fdca26"
            ],
            [
             1,
             "#f0f921"
            ]
           ]
          },
          "colorway": [
           "#636efa",
           "#EF553B",
           "#00cc96",
           "#ab63fa",
           "#FFA15A",
           "#19d3f3",
           "#FF6692",
           "#B6E880",
           "#FF97FF",
           "#FECB52"
          ],
          "font": {
           "color": "#2a3f5f"
          },
          "geo": {
           "bgcolor": "white",
           "lakecolor": "white",
           "landcolor": "#E5ECF6",
           "showlakes": true,
           "showland": true,
           "subunitcolor": "white"
          },
          "hoverlabel": {
           "align": "left"
          },
          "hovermode": "closest",
          "mapbox": {
           "style": "light"
          },
          "paper_bgcolor": "white",
          "plot_bgcolor": "#E5ECF6",
          "polar": {
           "angularaxis": {
            "gridcolor": "white",
            "linecolor": "white",
            "ticks": ""
           },
           "bgcolor": "#E5ECF6",
           "radialaxis": {
            "gridcolor": "white",
            "linecolor": "white",
            "ticks": ""
           }
          },
          "scene": {
           "xaxis": {
            "backgroundcolor": "#E5ECF6",
            "gridcolor": "white",
            "gridwidth": 2,
            "linecolor": "white",
            "showbackground": true,
            "ticks": "",
            "zerolinecolor": "white"
           },
           "yaxis": {
            "backgroundcolor": "#E5ECF6",
            "gridcolor": "white",
            "gridwidth": 2,
            "linecolor": "white",
            "showbackground": true,
            "ticks": "",
            "zerolinecolor": "white"
           },
           "zaxis": {
            "backgroundcolor": "#E5ECF6",
            "gridcolor": "white",
            "gridwidth": 2,
            "linecolor": "white",
            "showbackground": true,
            "ticks": "",
            "zerolinecolor": "white"
           }
          },
          "shapedefaults": {
           "line": {
            "color": "#2a3f5f"
           }
          },
          "ternary": {
           "aaxis": {
            "gridcolor": "white",
            "linecolor": "white",
            "ticks": ""
           },
           "baxis": {
            "gridcolor": "white",
            "linecolor": "white",
            "ticks": ""
           },
           "bgcolor": "#E5ECF6",
           "caxis": {
            "gridcolor": "white",
            "linecolor": "white",
            "ticks": ""
           }
          },
          "title": {
           "x": 0.05
          },
          "xaxis": {
           "automargin": true,
           "gridcolor": "white",
           "linecolor": "white",
           "ticks": "",
           "title": {
            "standoff": 15
           },
           "zerolinecolor": "white",
           "zerolinewidth": 2
          },
          "yaxis": {
           "automargin": true,
           "gridcolor": "white",
           "linecolor": "white",
           "ticks": "",
           "title": {
            "standoff": 15
           },
           "zerolinecolor": "white",
           "zerolinewidth": 2
          }
         }
        },
        "title": {
         "font": {
          "size": 13
         },
         "text": "scdb.xml.hasConcept.some(scdb.xml.Star)\n is True"
        },
        "xaxis": {
         "anchor": "y",
         "domain": [
          0,
          1
         ]
        },
        "yaxis": {
         "anchor": "x",
         "domain": [
          0,
          1
         ]
        }
       }
      }
     },
     "metadata": {},
     "output_type": "display_data"
    }
   ],
   "source": [
    "explainer.explain(\n",
    "    onto.C1, \n",
    "    torch.stack([inputs[0]]))"
   ]
  },
  {
   "cell_type": "code",
   "execution_count": null,
   "metadata": {},
   "outputs": [],
   "source": []
  },
  {
   "cell_type": "markdown",
   "metadata": {},
   "source": []
  }
 ],
 "metadata": {
  "kernelspec": {
   "display_name": "Python 3",
   "language": "python",
   "name": "python3"
  },
  "language_info": {
   "codemirror_mode": {
    "name": "ipython",
    "version": 3
   },
   "file_extension": ".py",
   "mimetype": "text/x-python",
   "name": "python",
   "nbconvert_exporter": "python",
   "pygments_lexer": "ipython3",
   "version": "3.11.7"
  }
 },
 "nbformat": 4,
 "nbformat_minor": 2
}
