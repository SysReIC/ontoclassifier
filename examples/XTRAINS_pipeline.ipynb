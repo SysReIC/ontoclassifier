{
 "cells": [
  {
   "cell_type": "markdown",
   "metadata": {},
   "source": [
    "# Example of global pipeline using XTRAINS dataset\n",
    "\n",
    "Using a yoloV8 model that has been trained to recognize types of wagon on images. \n",
    "\n",
    "Link to the XTRAINS dataset: [https://bitbucket.org/xtrains/dataset/src/master/](https://bitbucket.org/xtrains/dataset/src/master/)"
   ]
  },
  {
   "cell_type": "code",
   "execution_count": 1,
   "metadata": {},
   "outputs": [
    {
     "name": "stderr",
     "output_type": "stream",
     "text": [
      "\n",
      "Warning: SQLite3 version 3.40.0 and 3.41.2 have huge performance regressions; please install version 3.41.1 or 3.42!\n",
      "\n"
     ]
    }
   ],
   "source": [
    "from ultralytics import YOLO\n",
    "import owlready2\n",
    "\n",
    "%load_ext autoreload\n",
    "%autoreload 2\n",
    "\n",
    "import sys\n",
    "sys.path.append('..')\n",
    "from ontoclassifier import *"
   ]
  },
  {
   "cell_type": "markdown",
   "metadata": {},
   "source": [
    "## Loading ontology"
   ]
  },
  {
   "cell_type": "code",
   "execution_count": 2,
   "metadata": {},
   "outputs": [
    {
     "name": "stderr",
     "output_type": "stream",
     "text": [
      "* Owlready2 * Running HermiT...\n",
      "    java -Xmx2000M -cp /Users/lewandowski/opt/anaconda3/envs/m1_pytorch_latest/lib/python3.11/site-packages/owlready2/hermit:/Users/lewandowski/opt/anaconda3/envs/m1_pytorch_latest/lib/python3.11/site-packages/owlready2/hermit/HermiT.jar org.semanticweb.HermiT.cli.CommandLine -c -O -D -I file:////var/folders/8b/62nv382d15q7777wx0q16s4w0000gn/T/tmphl4p1gfu\n",
      "* Owlready2 * HermiT took 0.5347609519958496 seconds\n",
      "* Owlready * (NB: only changes on entities loaded in Python are shown, other changes are done but not listed)\n"
     ]
    }
   ],
   "source": [
    "onto_filename = \"data/xtrains_ontology.owl\"\n",
    "xtrains = owlready2.get_ontology(onto_filename).load()\n",
    "owlready2.sync_reasoner()"
   ]
  },
  {
   "cell_type": "code",
   "execution_count": 3,
   "metadata": {},
   "outputs": [
    {
     "name": "stdout",
     "output_type": "stream",
     "text": [
      "[xtrains_ontology.RuralTrain, xtrains_ontology.WarTrain, xtrains_ontology.Train, xtrains_ontology.TypeC, xtrains_ontology.PassengerTrain, xtrains_ontology.TypeB, xtrains_ontology.FreightTrain, xtrains_ontology.LongTrain, xtrains_ontology.TypeA, xtrains_ontology.MixedTrain, xtrains_ontology.EmptyTrain, xtrains_ontology.LongFreightTrain]\n"
     ]
    }
   ],
   "source": [
    "print(list(xtrains.Train.descendants()))"
   ]
  },
  {
   "attachments": {},
   "cell_type": "markdown",
   "metadata": {},
   "source": [
    "## Global pipeline with Yolov8 Wrapper"
   ]
  },
  {
   "cell_type": "code",
   "execution_count": 4,
   "metadata": {},
   "outputs": [],
   "source": [
    "# target_classes = [\n",
    "#     xtrains.LongTrain,\n",
    "#     xtrains.EmptyTrain,\n",
    "#     xtrains.FreightTrain,\n",
    "#     xtrains.PassengerTrain,\n",
    "# ] # or use all descendants of Train: \n",
    "target_classes = xtrains.Train.descendants()\n",
    "\n",
    "has_feature = OntoFeature(xtrains.has)\n",
    "has_property_wrapper = YoloV8PropertyWrapper(\n",
    "    YOLO(\"data/xtrains-yolov8.pt\"),\n",
    "    has_feature,\n",
    "    {   # map yolo detected classes to ontology classes \n",
    "        0: [\"Locomotive\"],\n",
    "        1: [\"EmptyWagon\", \"LongWagon\", \"ReinforcedCar\"],\n",
    "        2: [\"EmptyWagon\", \"LongWagon\"],\n",
    "        3: [\"EmptyWagon\", \"ReinforcedCar\"],\n",
    "        4: [\"EmptyWagon\"],\n",
    "        5: [\"PassengerCar\", \"LongWagon\", \"ReinforcedCar\"],\n",
    "        6: [\"PassengerCar\", \"LongWagon\"],\n",
    "        7: [\"PassengerCar\", \"ReinforcedCar\"],\n",
    "        8: [\"PassengerCar\"],\n",
    "        9: [\"FreightWagon\", \"LongWagon\", \"ReinforcedCar\"],\n",
    "        10: [\"FreightWagon\", \"LongWagon\"],\n",
    "        11: [\"FreightWagon\", \"ReinforcedCar\"],\n",
    "        12: [\"FreightWagon\"]\n",
    "    },\n",
    ")\n",
    "fe_yolo = Yolov8FeaturesExtractor([has_property_wrapper])\n",
    "\n",
    "ontological_extractor = OntologicalExtractor({0: [fe_yolo]})\n",
    "\n",
    "onto_classifier = OntoClassifier(xtrains, target_classes, ontological_extractor)\n",
    "\n",
    "pipeline = torch.nn.Sequential(\n",
    "        ontological_extractor,\n",
    "        onto_classifier\n",
    ")\n",
    "\n",
    "explainer = OntologicalExtractorExplainer(ontological_extractor, onto_classifier)\n"
   ]
  },
  {
   "cell_type": "code",
   "execution_count": 5,
   "metadata": {},
   "outputs": [
    {
     "data": {
      "text/plain": [
       "array(['http://www.semanticweb.org/lewandowski/ontologies/2023/2/xtrains#EmptyTrain', 'http://www.semanticweb.org/lewandowski/ontologies/2023/2/xtrains#FreightTrain', 'http://www.semanticweb.org/lewandowski/ontologies/2023/2/xtrains#LongFreightTrain',\n",
       "       'http://www.semanticweb.org/lewandowski/ontologies/2023/2/xtrains#LongTrain', 'http://www.semanticweb.org/lewandowski/ontologies/2023/2/xtrains#MixedTrain', 'http://www.semanticweb.org/lewandowski/ontologies/2023/2/xtrains#PassengerTrain',\n",
       "       'http://www.semanticweb.org/lewandowski/ontologies/2023/2/xtrains#RuralTrain', 'http://www.semanticweb.org/lewandowski/ontologies/2023/2/xtrains#Train', 'http://www.semanticweb.org/lewandowski/ontologies/2023/2/xtrains#TypeA', 'http://www.semanticweb.org/lewandowski/ontologies/2023/2/xtrains#TypeB',\n",
       "       'http://www.semanticweb.org/lewandowski/ontologies/2023/2/xtrains#TypeC', 'http://www.semanticweb.org/lewandowski/ontologies/2023/2/xtrains#WarTrain'], dtype=object)"
      ]
     },
     "execution_count": 5,
     "metadata": {},
     "output_type": "execute_result"
    }
   ],
   "source": [
    "onto_classifier.getTargettedClassesEncoder().classes_"
   ]
  },
  {
   "attachments": {},
   "cell_type": "markdown",
   "metadata": {},
   "source": [
    "## Inference"
   ]
  },
  {
   "cell_type": "code",
   "execution_count": 6,
   "metadata": {},
   "outputs": [],
   "source": [
    "from torchvision.io import read_image, ImageReadMode\n",
    "\n",
    "images = ['data/xtrains-0082.png', 'data/xtrains-0123.png']\n",
    "\n",
    "img_tensors = []\n",
    "for img in images:\n",
    "    img_tensors.append(read_image(img, ImageReadMode.RGB).float())\n",
    "\n",
    "inputs = torch.stack(img_tensors)"
   ]
  },
  {
   "cell_type": "code",
   "execution_count": 7,
   "metadata": {},
   "outputs": [
    {
     "name": "stdout",
     "output_type": "stream",
     "text": [
      "[('http://www.semanticweb.org/lewandowski/ontologies/2023/2/xtrains#FreightTrain',\n",
      "  'http://www.semanticweb.org/lewandowski/ontologies/2023/2/xtrains#LongFreightTrain',\n",
      "  'http://www.semanticweb.org/lewandowski/ontologies/2023/2/xtrains#LongTrain',\n",
      "  'http://www.semanticweb.org/lewandowski/ontologies/2023/2/xtrains#Train',\n",
      "  'http://www.semanticweb.org/lewandowski/ontologies/2023/2/xtrains#TypeB'),\n",
      " ('http://www.semanticweb.org/lewandowski/ontologies/2023/2/xtrains#LongTrain',\n",
      "  'http://www.semanticweb.org/lewandowski/ontologies/2023/2/xtrains#Train')]\n"
     ]
    }
   ],
   "source": [
    "results = pipeline(inputs)\n",
    "pprint(onto_classifier.getTargettedClassesEncoder().inverse_transform(results))"
   ]
  },
  {
   "attachments": {},
   "cell_type": "markdown",
   "metadata": {},
   "source": [
    "## Explain results"
   ]
  },
  {
   "cell_type": "code",
   "execution_count": 8,
   "metadata": {},
   "outputs": [
    {
     "name": "stdout",
     "output_type": "stream",
     "text": [
      "This is a LongFreightTrain because : \n",
      "  This is a Train because : \n",
      "    has SOME Locomotive or Wagon is True \n",
      "      found EmptyWagon, FreightWagon, [FreightWagon & LongWagon], Locomotive\n",
      "  This is a FreightTrain because : \n",
      "    This is a Train because : \n",
      "      has SOME Locomotive or Wagon is True \n",
      "        found EmptyWagon, FreightWagon, [FreightWagon & LongWagon], Locomotive\n",
      "    has MIN 2 FreightWagon is True \n",
      "      found 2 FreightWagon\n",
      "  This is a LongTrain because : \n",
      "    has MIN 3 Wagon is True \n",
      "      found EmptyWagon, FreightWagon, [FreightWagon & LongWagon]\n",
      "\n"
     ]
    },
    {
     "data": {
      "application/vnd.plotly.v1+json": {
       "config": {
        "plotlyServerURL": "https://plot.ly"
       },
       "data": [
        {
         "hovertemplate": "x: %{x}<br>y: %{y}<br>color: [%{z[0]}, %{z[1]}, %{z[2]}]<extra></extra>",
         "name": "0",
         "source": "data:image/png;base64,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",
         "type": "image",
         "xaxis": "x",
         "yaxis": "y"
        },
        {
         "fill": "toself",
         "hoverinfo": "none",
         "legendgrouptitle": {
          "text": "Found :"
         },
         "marker": {
          "color": "red"
         },
         "mode": "lines",
         "name": "1 [EmptyWagon]",
         "opacity": 0.7,
         "type": "scatter",
         "x": [
          47,
          72,
          72,
          47,
          47,
          null
         ],
         "y": [
          25,
          25,
          47,
          47,
          25,
          null
         ]
        },
        {
         "fill": "toself",
         "hoverinfo": "none",
         "legendgrouptitle": {
          "text": "Found :"
         },
         "marker": {
          "color": "darkorange"
         },
         "mode": "lines",
         "name": "1 [FreightWagon]",
         "opacity": 0.7,
         "type": "scatter",
         "x": [
          108,
          133,
          133,
          108,
          108,
          null
         ],
         "y": [
          22,
          22,
          44,
          44,
          22,
          null
         ]
        },
        {
         "fill": "toself",
         "hoverinfo": "none",
         "legendgrouptitle": {
          "text": "Found :"
         },
         "marker": {
          "color": "pink"
         },
         "mode": "lines",
         "name": "1 [FreightWagon & LongWagon]",
         "opacity": 0.7,
         "type": "scatter",
         "x": [
          72,
          108,
          108,
          72,
          72,
          null
         ],
         "y": [
          24,
          24,
          46,
          46,
          24,
          null
         ]
        },
        {
         "fill": "toself",
         "hoverinfo": "none",
         "legendgrouptitle": {
          "text": "Found :"
         },
         "marker": {
          "color": "lightgrey"
         },
         "mode": "lines",
         "name": "1 [Locomotive]",
         "opacity": 0.7,
         "type": "scatter",
         "x": [
          33,
          47,
          47,
          33,
          33,
          null
         ],
         "y": [
          26,
          26,
          48,
          48,
          26,
          null
         ]
        },
        {
         "hoverinfo": "text+name",
         "marker": {
          "color": "red"
         },
         "name": "0.93",
         "opacity": 0,
         "showlegend": false,
         "text": "[EmptyWagon]",
         "type": "scatter",
         "x": [
          59
         ],
         "y": [
          36
         ]
        },
        {
         "hoverinfo": "text+name",
         "marker": {
          "color": "darkorange"
         },
         "name": "0.92",
         "opacity": 0,
         "showlegend": false,
         "text": "[FreightWagon]",
         "type": "scatter",
         "x": [
          120
         ],
         "y": [
          33
         ]
        },
        {
         "hoverinfo": "text+name",
         "marker": {
          "color": "pink"
         },
         "name": "0.91",
         "opacity": 0,
         "showlegend": false,
         "text": "[FreightWagon & LongWagon]",
         "type": "scatter",
         "x": [
          90
         ],
         "y": [
          35
         ]
        },
        {
         "hoverinfo": "text+name",
         "marker": {
          "color": "lightgrey"
         },
         "name": "0.91",
         "opacity": 0,
         "showlegend": false,
         "text": "[Locomotive]",
         "type": "scatter",
         "x": [
          40
         ],
         "y": [
          37
         ]
        }
       ],
       "layout": {
        "margin": {
         "t": 60
        },
        "template": {
         "data": {
          "bar": [
           {
            "error_x": {
             "color": "#2a3f5f"
            },
            "error_y": {
             "color": "#2a3f5f"
            },
            "marker": {
             "line": {
              "color": "#E5ECF6",
              "width": 0.5
             },
             "pattern": {
              "fillmode": "overlay",
              "size": 10,
              "solidity": 0.2
             }
            },
            "type": "bar"
           }
          ],
          "barpolar": [
           {
            "marker": {
             "line": {
              "color": "#E5ECF6",
              "width": 0.5
             },
             "pattern": {
              "fillmode": "overlay",
              "size": 10,
              "solidity": 0.2
             }
            },
            "type": "barpolar"
           }
          ],
          "carpet": [
           {
            "aaxis": {
             "endlinecolor": "#2a3f5f",
             "gridcolor": "white",
             "linecolor": "white",
             "minorgridcolor": "white",
             "startlinecolor": "#2a3f5f"
            },
            "baxis": {
             "endlinecolor": "#2a3f5f",
             "gridcolor": "white",
             "linecolor": "white",
             "minorgridcolor": "white",
             "startlinecolor": "#2a3f5f"
            },
            "type": "carpet"
           }
          ],
          "choropleth": [
           {
            "colorbar": {
             "outlinewidth": 0,
             "ticks": ""
            },
            "type": "choropleth"
           }
          ],
          "contour": [
           {
            "colorbar": {
             "outlinewidth": 0,
             "ticks": ""
            },
            "colorscale": [
             [
              0,
              "#0d0887"
             ],
             [
              0.1111111111111111,
              "#46039f"
             ],
             [
              0.2222222222222222,
              "#7201a8"
             ],
             [
              0.3333333333333333,
              "#9c179e"
             ],
             [
              0.4444444444444444,
              "#bd3786"
             ],
             [
              0.5555555555555556,
              "#d8576b"
             ],
             [
              0.6666666666666666,
              "#ed7953"
             ],
             [
              0.7777777777777778,
              "#fb9f3a"
             ],
             [
              0.8888888888888888,
              "#fdca26"
             ],
             [
              1,
              "#f0f921"
             ]
            ],
            "type": "contour"
           }
          ],
          "contourcarpet": [
           {
            "colorbar": {
             "outlinewidth": 0,
             "ticks": ""
            },
            "type": "contourcarpet"
           }
          ],
          "heatmap": [
           {
            "colorbar": {
             "outlinewidth": 0,
             "ticks": ""
            },
            "colorscale": [
             [
              0,
              "#0d0887"
             ],
             [
              0.1111111111111111,
              "#46039f"
             ],
             [
              0.2222222222222222,
              "#7201a8"
             ],
             [
              0.3333333333333333,
              "#9c179e"
             ],
             [
              0.4444444444444444,
              "#bd3786"
             ],
             [
              0.5555555555555556,
              "#d8576b"
             ],
             [
              0.6666666666666666,
              "#ed7953"
             ],
             [
              0.7777777777777778,
              "#fb9f3a"
             ],
             [
              0.8888888888888888,
              "#fdca26"
             ],
             [
              1,
              "#f0f921"
             ]
            ],
            "type": "heatmap"
           }
          ],
          "heatmapgl": [
           {
            "colorbar": {
             "outlinewidth": 0,
             "ticks": ""
            },
            "colorscale": [
             [
              0,
              "#0d0887"
             ],
             [
              0.1111111111111111,
              "#46039f"
             ],
             [
              0.2222222222222222,
              "#7201a8"
             ],
             [
              0.3333333333333333,
              "#9c179e"
             ],
             [
              0.4444444444444444,
              "#bd3786"
             ],
             [
              0.5555555555555556,
              "#d8576b"
             ],
             [
              0.6666666666666666,
              "#ed7953"
             ],
             [
              0.7777777777777778,
              "#fb9f3a"
             ],
             [
              0.8888888888888888,
              "#fdca26"
             ],
             [
              1,
              "#f0f921"
             ]
            ],
            "type": "heatmapgl"
           }
          ],
          "histogram": [
           {
            "marker": {
             "pattern": {
              "fillmode": "overlay",
              "size": 10,
              "solidity": 0.2
             }
            },
            "type": "histogram"
           }
          ],
          "histogram2d": [
           {
            "colorbar": {
             "outlinewidth": 0,
             "ticks": ""
            },
            "colorscale": [
             [
              0,
              "#0d0887"
             ],
             [
              0.1111111111111111,
              "#46039f"
             ],
             [
              0.2222222222222222,
              "#7201a8"
             ],
             [
              0.3333333333333333,
              "#9c179e"
             ],
             [
              0.4444444444444444,
              "#bd3786"
             ],
             [
              0.5555555555555556,
              "#d8576b"
             ],
             [
              0.6666666666666666,
              "#ed7953"
             ],
             [
              0.7777777777777778,
              "#fb9f3a"
             ],
             [
              0.8888888888888888,
              "#fdca26"
             ],
             [
              1,
              "#f0f921"
             ]
            ],
            "type": "histogram2d"
           }
          ],
          "histogram2dcontour": [
           {
            "colorbar": {
             "outlinewidth": 0,
             "ticks": ""
            },
            "colorscale": [
             [
              0,
              "#0d0887"
             ],
             [
              0.1111111111111111,
              "#46039f"
             ],
             [
              0.2222222222222222,
              "#7201a8"
             ],
             [
              0.3333333333333333,
              "#9c179e"
             ],
             [
              0.4444444444444444,
              "#bd3786"
             ],
             [
              0.5555555555555556,
              "#d8576b"
             ],
             [
              0.6666666666666666,
              "#ed7953"
             ],
             [
              0.7777777777777778,
              "#fb9f3a"
             ],
             [
              0.8888888888888888,
              "#fdca26"
             ],
             [
              1,
              "#f0f921"
             ]
            ],
            "type": "histogram2dcontour"
           }
          ],
          "mesh3d": [
           {
            "colorbar": {
             "outlinewidth": 0,
             "ticks": ""
            },
            "type": "mesh3d"
           }
          ],
          "parcoords": [
           {
            "line": {
             "colorbar": {
              "outlinewidth": 0,
              "ticks": ""
             }
            },
            "type": "parcoords"
           }
          ],
          "pie": [
           {
            "automargin": true,
            "type": "pie"
           }
          ],
          "scatter": [
           {
            "fillpattern": {
             "fillmode": "overlay",
             "size": 10,
             "solidity": 0.2
            },
            "type": "scatter"
           }
          ],
          "scatter3d": [
           {
            "line": {
             "colorbar": {
              "outlinewidth": 0,
              "ticks": ""
             }
            },
            "marker": {
             "colorbar": {
              "outlinewidth": 0,
              "ticks": ""
             }
            },
            "type": "scatter3d"
           }
          ],
          "scattercarpet": [
           {
            "marker": {
             "colorbar": {
              "outlinewidth": 0,
              "ticks": ""
             }
            },
            "type": "scattercarpet"
           }
          ],
          "scattergeo": [
           {
            "marker": {
             "colorbar": {
              "outlinewidth": 0,
              "ticks": ""
             }
            },
            "type": "scattergeo"
           }
          ],
          "scattergl": [
           {
            "marker": {
             "colorbar": {
              "outlinewidth": 0,
              "ticks": ""
             }
            },
            "type": "scattergl"
           }
          ],
          "scattermapbox": [
           {
            "marker": {
             "colorbar": {
              "outlinewidth": 0,
              "ticks": ""
             }
            },
            "type": "scattermapbox"
           }
          ],
          "scatterpolar": [
           {
            "marker": {
             "colorbar": {
              "outlinewidth": 0,
              "ticks": ""
             }
            },
            "type": "scatterpolar"
           }
          ],
          "scatterpolargl": [
           {
            "marker": {
             "colorbar": {
              "outlinewidth": 0,
              "ticks": ""
             }
            },
            "type": "scatterpolargl"
           }
          ],
          "scatterternary": [
           {
            "marker": {
             "colorbar": {
              "outlinewidth": 0,
              "ticks": ""
             }
            },
            "type": "scatterternary"
           }
          ],
          "surface": [
           {
            "colorbar": {
             "outlinewidth": 0,
             "ticks": ""
            },
            "colorscale": [
             [
              0,
              "#0d0887"
             ],
             [
              0.1111111111111111,
              "#46039f"
             ],
             [
              0.2222222222222222,
              "#7201a8"
             ],
             [
              0.3333333333333333,
              "#9c179e"
             ],
             [
              0.4444444444444444,
              "#bd3786"
             ],
             [
              0.5555555555555556,
              "#d8576b"
             ],
             [
              0.6666666666666666,
              "#ed7953"
             ],
             [
              0.7777777777777778,
              "#fb9f3a"
             ],
             [
              0.8888888888888888,
              "#fdca26"
             ],
             [
              1,
              "#f0f921"
             ]
            ],
            "type": "surface"
           }
          ],
          "table": [
           {
            "cells": {
             "fill": {
              "color": "#EBF0F8"
             },
             "line": {
              "color": "white"
             }
            },
            "header": {
             "fill": {
              "color": "#C8D4E3"
             },
             "line": {
              "color": "white"
             }
            },
            "type": "table"
           }
          ]
         },
         "layout": {
          "annotationdefaults": {
           "arrowcolor": "#2a3f5f",
           "arrowhead": 0,
           "arrowwidth": 1
          },
          "autotypenumbers": "strict",
          "coloraxis": {
           "colorbar": {
            "outlinewidth": 0,
            "ticks": ""
           }
          },
          "colorscale": {
           "diverging": [
            [
             0,
             "#8e0152"
            ],
            [
             0.1,
             "#c51b7d"
            ],
            [
             0.2,
             "#de77ae"
            ],
            [
             0.3,
             "#f1b6da"
            ],
            [
             0.4,
             "#fde0ef"
            ],
            [
             0.5,
             "#f7f7f7"
            ],
            [
             0.6,
             "#e6f5d0"
            ],
            [
             0.7,
             "#b8e186"
            ],
            [
             0.8,
             "#7fbc41"
            ],
            [
             0.9,
             "#4d9221"
            ],
            [
             1,
             "#276419"
            ]
           ],
           "sequential": [
            [
             0,
             "#0d0887"
            ],
            [
             0.1111111111111111,
             "#46039f"
            ],
            [
             0.2222222222222222,
             "#7201a8"
            ],
            [
             0.3333333333333333,
             "#9c179e"
            ],
            [
             0.4444444444444444,
             "#bd3786"
            ],
            [
             0.5555555555555556,
             "#d8576b"
            ],
            [
             0.6666666666666666,
             "#ed7953"
            ],
            [
             0.7777777777777778,
             "#fb9f3a"
            ],
            [
             0.8888888888888888,
             "#fdca26"
            ],
            [
             1,
             "#f0f921"
            ]
           ],
           "sequentialminus": [
            [
             0,
             "#0d0887"
            ],
            [
             0.1111111111111111,
             "#46039f"
            ],
            [
             0.2222222222222222,
             "#7201a8"
            ],
            [
             0.3333333333333333,
             "#9c179e"
            ],
            [
             0.4444444444444444,
             "#bd3786"
            ],
            [
             0.5555555555555556,
             "#d8576b"
            ],
            [
             0.6666666666666666,
             "#ed7953"
            ],
            [
             0.7777777777777778,
             "#fb9f3a"
            ],
            [
             0.8888888888888888,
             "#fdca26"
            ],
            [
             1,
             "#f0f921"
            ]
           ]
          },
          "colorway": [
           "#636efa",
           "#EF553B",
           "#00cc96",
           "#ab63fa",
           "#FFA15A",
           "#19d3f3",
           "#FF6692",
           "#B6E880",
           "#FF97FF",
           "#FECB52"
          ],
          "font": {
           "color": "#2a3f5f"
          },
          "geo": {
           "bgcolor": "white",
           "lakecolor": "white",
           "landcolor": "#E5ECF6",
           "showlakes": true,
           "showland": true,
           "subunitcolor": "white"
          },
          "hoverlabel": {
           "align": "left"
          },
          "hovermode": "closest",
          "mapbox": {
           "style": "light"
          },
          "paper_bgcolor": "white",
          "plot_bgcolor": "#E5ECF6",
          "polar": {
           "angularaxis": {
            "gridcolor": "white",
            "linecolor": "white",
            "ticks": ""
           },
           "bgcolor": "#E5ECF6",
           "radialaxis": {
            "gridcolor": "white",
            "linecolor": "white",
            "ticks": ""
           }
          },
          "scene": {
           "xaxis": {
            "backgroundcolor": "#E5ECF6",
            "gridcolor": "white",
            "gridwidth": 2,
            "linecolor": "white",
            "showbackground": true,
            "ticks": "",
            "zerolinecolor": "white"
           },
           "yaxis": {
            "backgroundcolor": "#E5ECF6",
            "gridcolor": "white",
            "gridwidth": 2,
            "linecolor": "white",
            "showbackground": true,
            "ticks": "",
            "zerolinecolor": "white"
           },
           "zaxis": {
            "backgroundcolor": "#E5ECF6",
            "gridcolor": "white",
            "gridwidth": 2,
            "linecolor": "white",
            "showbackground": true,
            "ticks": "",
            "zerolinecolor": "white"
           }
          },
          "shapedefaults": {
           "line": {
            "color": "#2a3f5f"
           }
          },
          "ternary": {
           "aaxis": {
            "gridcolor": "white",
            "linecolor": "white",
            "ticks": ""
           },
           "baxis": {
            "gridcolor": "white",
            "linecolor": "white",
            "ticks": ""
           },
           "bgcolor": "#E5ECF6",
           "caxis": {
            "gridcolor": "white",
            "linecolor": "white",
            "ticks": ""
           }
          },
          "title": {
           "x": 0.05
          },
          "xaxis": {
           "automargin": true,
           "gridcolor": "white",
           "linecolor": "white",
           "ticks": "",
           "title": {
            "standoff": 15
           },
           "zerolinecolor": "white",
           "zerolinewidth": 2
          },
          "yaxis": {
           "automargin": true,
           "gridcolor": "white",
           "linecolor": "white",
           "ticks": "",
           "title": {
            "standoff": 15
           },
           "zerolinecolor": "white",
           "zerolinewidth": 2
          }
         }
        },
        "title": {
         "font": {
          "size": 13
         },
         "text": "xtrains_ontology.has.some(xtrains_ontology.Locomotive | xtrains_ontology.Wagon)\n is True"
        },
        "xaxis": {
         "anchor": "y",
         "domain": [
          0,
          1
         ]
        },
        "yaxis": {
         "anchor": "x",
         "domain": [
          0,
          1
         ]
        }
       }
      }
     },
     "metadata": {},
     "output_type": "display_data"
    },
    {
     "data": {
      "application/vnd.plotly.v1+json": {
       "config": {
        "plotlyServerURL": "https://plot.ly"
       },
       "data": [
        {
         "hovertemplate": "x: %{x}<br>y: %{y}<br>color: [%{z[0]}, %{z[1]}, %{z[2]}]<extra></extra>",
         "name": "0",
         "source": "data:image/png;base64,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",
         "type": "image",
         "xaxis": "x",
         "yaxis": "y"
        },
        {
         "fill": "toself",
         "hoverinfo": "none",
         "legendgrouptitle": {
          "text": "Found :"
         },
         "marker": {
          "color": "darkorange"
         },
         "mode": "lines",
         "name": "1 [FreightWagon]",
         "opacity": 0.7,
         "type": "scatter",
         "x": [
          108,
          133,
          133,
          108,
          108,
          null
         ],
         "y": [
          22,
          22,
          44,
          44,
          22,
          null
         ]
        },
        {
         "fill": "toself",
         "hoverinfo": "none",
         "legendgrouptitle": {
          "text": "Found :"
         },
         "marker": {
          "color": "pink"
         },
         "mode": "lines",
         "name": "1 [FreightWagon & LongWagon]",
         "opacity": 0.7,
         "type": "scatter",
         "x": [
          72,
          108,
          108,
          72,
          72,
          null
         ],
         "y": [
          24,
          24,
          46,
          46,
          24,
          null
         ]
        },
        {
         "hoverinfo": "text+name",
         "marker": {
          "color": "darkorange"
         },
         "name": "0.92",
         "opacity": 0,
         "showlegend": false,
         "text": "[FreightWagon]",
         "type": "scatter",
         "x": [
          120
         ],
         "y": [
          33
         ]
        },
        {
         "hoverinfo": "text+name",
         "marker": {
          "color": "pink"
         },
         "name": "0.91",
         "opacity": 0,
         "showlegend": false,
         "text": "[FreightWagon & LongWagon]",
         "type": "scatter",
         "x": [
          90
         ],
         "y": [
          35
         ]
        }
       ],
       "layout": {
        "margin": {
         "t": 60
        },
        "template": {
         "data": {
          "bar": [
           {
            "error_x": {
             "color": "#2a3f5f"
            },
            "error_y": {
             "color": "#2a3f5f"
            },
            "marker": {
             "line": {
              "color": "#E5ECF6",
              "width": 0.5
             },
             "pattern": {
              "fillmode": "overlay",
              "size": 10,
              "solidity": 0.2
             }
            },
            "type": "bar"
           }
          ],
          "barpolar": [
           {
            "marker": {
             "line": {
              "color": "#E5ECF6",
              "width": 0.5
             },
             "pattern": {
              "fillmode": "overlay",
              "size": 10,
              "solidity": 0.2
             }
            },
            "type": "barpolar"
           }
          ],
          "carpet": [
           {
            "aaxis": {
             "endlinecolor": "#2a3f5f",
             "gridcolor": "white",
             "linecolor": "white",
             "minorgridcolor": "white",
             "startlinecolor": "#2a3f5f"
            },
            "baxis": {
             "endlinecolor": "#2a3f5f",
             "gridcolor": "white",
             "linecolor": "white",
             "minorgridcolor": "white",
             "startlinecolor": "#2a3f5f"
            },
            "type": "carpet"
           }
          ],
          "choropleth": [
           {
            "colorbar": {
             "outlinewidth": 0,
             "ticks": ""
            },
            "type": "choropleth"
           }
          ],
          "contour": [
           {
            "colorbar": {
             "outlinewidth": 0,
             "ticks": ""
            },
            "colorscale": [
             [
              0,
              "#0d0887"
             ],
             [
              0.1111111111111111,
              "#46039f"
             ],
             [
              0.2222222222222222,
              "#7201a8"
             ],
             [
              0.3333333333333333,
              "#9c179e"
             ],
             [
              0.4444444444444444,
              "#bd3786"
             ],
             [
              0.5555555555555556,
              "#d8576b"
             ],
             [
              0.6666666666666666,
              "#ed7953"
             ],
             [
              0.7777777777777778,
              "#fb9f3a"
             ],
             [
              0.8888888888888888,
              "#fdca26"
             ],
             [
              1,
              "#f0f921"
             ]
            ],
            "type": "contour"
           }
          ],
          "contourcarpet": [
           {
            "colorbar": {
             "outlinewidth": 0,
             "ticks": ""
            },
            "type": "contourcarpet"
           }
          ],
          "heatmap": [
           {
            "colorbar": {
             "outlinewidth": 0,
             "ticks": ""
            },
            "colorscale": [
             [
              0,
              "#0d0887"
             ],
             [
              0.1111111111111111,
              "#46039f"
             ],
             [
              0.2222222222222222,
              "#7201a8"
             ],
             [
              0.3333333333333333,
              "#9c179e"
             ],
             [
              0.4444444444444444,
              "#bd3786"
             ],
             [
              0.5555555555555556,
              "#d8576b"
             ],
             [
              0.6666666666666666,
              "#ed7953"
             ],
             [
              0.7777777777777778,
              "#fb9f3a"
             ],
             [
              0.8888888888888888,
              "#fdca26"
             ],
             [
              1,
              "#f0f921"
             ]
            ],
            "type": "heatmap"
           }
          ],
          "heatmapgl": [
           {
            "colorbar": {
             "outlinewidth": 0,
             "ticks": ""
            },
            "colorscale": [
             [
              0,
              "#0d0887"
             ],
             [
              0.1111111111111111,
              "#46039f"
             ],
             [
              0.2222222222222222,
              "#7201a8"
             ],
             [
              0.3333333333333333,
              "#9c179e"
             ],
             [
              0.4444444444444444,
              "#bd3786"
             ],
             [
              0.5555555555555556,
              "#d8576b"
             ],
             [
              0.6666666666666666,
              "#ed7953"
             ],
             [
              0.7777777777777778,
              "#fb9f3a"
             ],
             [
              0.8888888888888888,
              "#fdca26"
             ],
             [
              1,
              "#f0f921"
             ]
            ],
            "type": "heatmapgl"
           }
          ],
          "histogram": [
           {
            "marker": {
             "pattern": {
              "fillmode": "overlay",
              "size": 10,
              "solidity": 0.2
             }
            },
            "type": "histogram"
           }
          ],
          "histogram2d": [
           {
            "colorbar": {
             "outlinewidth": 0,
             "ticks": ""
            },
            "colorscale": [
             [
              0,
              "#0d0887"
             ],
             [
              0.1111111111111111,
              "#46039f"
             ],
             [
              0.2222222222222222,
              "#7201a8"
             ],
             [
              0.3333333333333333,
              "#9c179e"
             ],
             [
              0.4444444444444444,
              "#bd3786"
             ],
             [
              0.5555555555555556,
              "#d8576b"
             ],
             [
              0.6666666666666666,
              "#ed7953"
             ],
             [
              0.7777777777777778,
              "#fb9f3a"
             ],
             [
              0.8888888888888888,
              "#fdca26"
             ],
             [
              1,
              "#f0f921"
             ]
            ],
            "type": "histogram2d"
           }
          ],
          "histogram2dcontour": [
           {
            "colorbar": {
             "outlinewidth": 0,
             "ticks": ""
            },
            "colorscale": [
             [
              0,
              "#0d0887"
             ],
             [
              0.1111111111111111,
              "#46039f"
             ],
             [
              0.2222222222222222,
              "#7201a8"
             ],
             [
              0.3333333333333333,
              "#9c179e"
             ],
             [
              0.4444444444444444,
              "#bd3786"
             ],
             [
              0.5555555555555556,
              "#d8576b"
             ],
             [
              0.6666666666666666,
              "#ed7953"
             ],
             [
              0.7777777777777778,
              "#fb9f3a"
             ],
             [
              0.8888888888888888,
              "#fdca26"
             ],
             [
              1,
              "#f0f921"
             ]
            ],
            "type": "histogram2dcontour"
           }
          ],
          "mesh3d": [
           {
            "colorbar": {
             "outlinewidth": 0,
             "ticks": ""
            },
            "type": "mesh3d"
           }
          ],
          "parcoords": [
           {
            "line": {
             "colorbar": {
              "outlinewidth": 0,
              "ticks": ""
             }
            },
            "type": "parcoords"
           }
          ],
          "pie": [
           {
            "automargin": true,
            "type": "pie"
           }
          ],
          "scatter": [
           {
            "fillpattern": {
             "fillmode": "overlay",
             "size": 10,
             "solidity": 0.2
            },
            "type": "scatter"
           }
          ],
          "scatter3d": [
           {
            "line": {
             "colorbar": {
              "outlinewidth": 0,
              "ticks": ""
             }
            },
            "marker": {
             "colorbar": {
              "outlinewidth": 0,
              "ticks": ""
             }
            },
            "type": "scatter3d"
           }
          ],
          "scattercarpet": [
           {
            "marker": {
             "colorbar": {
              "outlinewidth": 0,
              "ticks": ""
             }
            },
            "type": "scattercarpet"
           }
          ],
          "scattergeo": [
           {
            "marker": {
             "colorbar": {
              "outlinewidth": 0,
              "ticks": ""
             }
            },
            "type": "scattergeo"
           }
          ],
          "scattergl": [
           {
            "marker": {
             "colorbar": {
              "outlinewidth": 0,
              "ticks": ""
             }
            },
            "type": "scattergl"
           }
          ],
          "scattermapbox": [
           {
            "marker": {
             "colorbar": {
              "outlinewidth": 0,
              "ticks": ""
             }
            },
            "type": "scattermapbox"
           }
          ],
          "scatterpolar": [
           {
            "marker": {
             "colorbar": {
              "outlinewidth": 0,
              "ticks": ""
             }
            },
            "type": "scatterpolar"
           }
          ],
          "scatterpolargl": [
           {
            "marker": {
             "colorbar": {
              "outlinewidth": 0,
              "ticks": ""
             }
            },
            "type": "scatterpolargl"
           }
          ],
          "scatterternary": [
           {
            "marker": {
             "colorbar": {
              "outlinewidth": 0,
              "ticks": ""
             }
            },
            "type": "scatterternary"
           }
          ],
          "surface": [
           {
            "colorbar": {
             "outlinewidth": 0,
             "ticks": ""
            },
            "colorscale": [
             [
              0,
              "#0d0887"
             ],
             [
              0.1111111111111111,
              "#46039f"
             ],
             [
              0.2222222222222222,
              "#7201a8"
             ],
             [
              0.3333333333333333,
              "#9c179e"
             ],
             [
              0.4444444444444444,
              "#bd3786"
             ],
             [
              0.5555555555555556,
              "#d8576b"
             ],
             [
              0.6666666666666666,
              "#ed7953"
             ],
             [
              0.7777777777777778,
              "#fb9f3a"
             ],
             [
              0.8888888888888888,
              "#fdca26"
             ],
             [
              1,
              "#f0f921"
             ]
            ],
            "type": "surface"
           }
          ],
          "table": [
           {
            "cells": {
             "fill": {
              "color": "#EBF0F8"
             },
             "line": {
              "color": "white"
             }
            },
            "header": {
             "fill": {
              "color": "#C8D4E3"
             },
             "line": {
              "color": "white"
             }
            },
            "type": "table"
           }
          ]
         },
         "layout": {
          "annotationdefaults": {
           "arrowcolor": "#2a3f5f",
           "arrowhead": 0,
           "arrowwidth": 1
          },
          "autotypenumbers": "strict",
          "coloraxis": {
           "colorbar": {
            "outlinewidth": 0,
            "ticks": ""
           }
          },
          "colorscale": {
           "diverging": [
            [
             0,
             "#8e0152"
            ],
            [
             0.1,
             "#c51b7d"
            ],
            [
             0.2,
             "#de77ae"
            ],
            [
             0.3,
             "#f1b6da"
            ],
            [
             0.4,
             "#fde0ef"
            ],
            [
             0.5,
             "#f7f7f7"
            ],
            [
             0.6,
             "#e6f5d0"
            ],
            [
             0.7,
             "#b8e186"
            ],
            [
             0.8,
             "#7fbc41"
            ],
            [
             0.9,
             "#4d9221"
            ],
            [
             1,
             "#276419"
            ]
           ],
           "sequential": [
            [
             0,
             "#0d0887"
            ],
            [
             0.1111111111111111,
             "#46039f"
            ],
            [
             0.2222222222222222,
             "#7201a8"
            ],
            [
             0.3333333333333333,
             "#9c179e"
            ],
            [
             0.4444444444444444,
             "#bd3786"
            ],
            [
             0.5555555555555556,
             "#d8576b"
            ],
            [
             0.6666666666666666,
             "#ed7953"
            ],
            [
             0.7777777777777778,
             "#fb9f3a"
            ],
            [
             0.8888888888888888,
             "#fdca26"
            ],
            [
             1,
             "#f0f921"
            ]
           ],
           "sequentialminus": [
            [
             0,
             "#0d0887"
            ],
            [
             0.1111111111111111,
             "#46039f"
            ],
            [
             0.2222222222222222,
             "#7201a8"
            ],
            [
             0.3333333333333333,
             "#9c179e"
            ],
            [
             0.4444444444444444,
             "#bd3786"
            ],
            [
             0.5555555555555556,
             "#d8576b"
            ],
            [
             0.6666666666666666,
             "#ed7953"
            ],
            [
             0.7777777777777778,
             "#fb9f3a"
            ],
            [
             0.8888888888888888,
             "#fdca26"
            ],
            [
             1,
             "#f0f921"
            ]
           ]
          },
          "colorway": [
           "#636efa",
           "#EF553B",
           "#00cc96",
           "#ab63fa",
           "#FFA15A",
           "#19d3f3",
           "#FF6692",
           "#B6E880",
           "#FF97FF",
           "#FECB52"
          ],
          "font": {
           "color": "#2a3f5f"
          },
          "geo": {
           "bgcolor": "white",
           "lakecolor": "white",
           "landcolor": "#E5ECF6",
           "showlakes": true,
           "showland": true,
           "subunitcolor": "white"
          },
          "hoverlabel": {
           "align": "left"
          },
          "hovermode": "closest",
          "mapbox": {
           "style": "light"
          },
          "paper_bgcolor": "white",
          "plot_bgcolor": "#E5ECF6",
          "polar": {
           "angularaxis": {
            "gridcolor": "white",
            "linecolor": "white",
            "ticks": ""
           },
           "bgcolor": "#E5ECF6",
           "radialaxis": {
            "gridcolor": "white",
            "linecolor": "white",
            "ticks": ""
           }
          },
          "scene": {
           "xaxis": {
            "backgroundcolor": "#E5ECF6",
            "gridcolor": "white",
            "gridwidth": 2,
            "linecolor": "white",
            "showbackground": true,
            "ticks": "",
            "zerolinecolor": "white"
           },
           "yaxis": {
            "backgroundcolor": "#E5ECF6",
            "gridcolor": "white",
            "gridwidth": 2,
            "linecolor": "white",
            "showbackground": true,
            "ticks": "",
            "zerolinecolor": "white"
           },
           "zaxis": {
            "backgroundcolor": "#E5ECF6",
            "gridcolor": "white",
            "gridwidth": 2,
            "linecolor": "white",
            "showbackground": true,
            "ticks": "",
            "zerolinecolor": "white"
           }
          },
          "shapedefaults": {
           "line": {
            "color": "#2a3f5f"
           }
          },
          "ternary": {
           "aaxis": {
            "gridcolor": "white",
            "linecolor": "white",
            "ticks": ""
           },
           "baxis": {
            "gridcolor": "white",
            "linecolor": "white",
            "ticks": ""
           },
           "bgcolor": "#E5ECF6",
           "caxis": {
            "gridcolor": "white",
            "linecolor": "white",
            "ticks": ""
           }
          },
          "title": {
           "x": 0.05
          },
          "xaxis": {
           "automargin": true,
           "gridcolor": "white",
           "linecolor": "white",
           "ticks": "",
           "title": {
            "standoff": 15
           },
           "zerolinecolor": "white",
           "zerolinewidth": 2
          },
          "yaxis": {
           "automargin": true,
           "gridcolor": "white",
           "linecolor": "white",
           "ticks": "",
           "title": {
            "standoff": 15
           },
           "zerolinecolor": "white",
           "zerolinewidth": 2
          }
         }
        },
        "title": {
         "font": {
          "size": 13
         },
         "text": "xtrains_ontology.has.min(2, xtrains_ontology.FreightWagon)\n is True"
        },
        "xaxis": {
         "anchor": "y",
         "domain": [
          0,
          1
         ]
        },
        "yaxis": {
         "anchor": "x",
         "domain": [
          0,
          1
         ]
        }
       }
      }
     },
     "metadata": {},
     "output_type": "display_data"
    },
    {
     "data": {
      "application/vnd.plotly.v1+json": {
       "config": {
        "plotlyServerURL": "https://plot.ly"
       },
       "data": [
        {
         "hovertemplate": "x: %{x}<br>y: %{y}<br>color: [%{z[0]}, %{z[1]}, %{z[2]}]<extra></extra>",
         "name": "0",
         "source": "data:image/png;base64,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",
         "type": "image",
         "xaxis": "x",
         "yaxis": "y"
        },
        {
         "fill": "toself",
         "hoverinfo": "none",
         "legendgrouptitle": {
          "text": "Found :"
         },
         "marker": {
          "color": "red"
         },
         "mode": "lines",
         "name": "1 [EmptyWagon]",
         "opacity": 0.7,
         "type": "scatter",
         "x": [
          47,
          72,
          72,
          47,
          47,
          null
         ],
         "y": [
          25,
          25,
          47,
          47,
          25,
          null
         ]
        },
        {
         "fill": "toself",
         "hoverinfo": "none",
         "legendgrouptitle": {
          "text": "Found :"
         },
         "marker": {
          "color": "darkorange"
         },
         "mode": "lines",
         "name": "1 [FreightWagon]",
         "opacity": 0.7,
         "type": "scatter",
         "x": [
          108,
          133,
          133,
          108,
          108,
          null
         ],
         "y": [
          22,
          22,
          44,
          44,
          22,
          null
         ]
        },
        {
         "fill": "toself",
         "hoverinfo": "none",
         "legendgrouptitle": {
          "text": "Found :"
         },
         "marker": {
          "color": "pink"
         },
         "mode": "lines",
         "name": "1 [FreightWagon & LongWagon]",
         "opacity": 0.7,
         "type": "scatter",
         "x": [
          72,
          108,
          108,
          72,
          72,
          null
         ],
         "y": [
          24,
          24,
          46,
          46,
          24,
          null
         ]
        },
        {
         "hoverinfo": "text+name",
         "marker": {
          "color": "red"
         },
         "name": "0.93",
         "opacity": 0,
         "showlegend": false,
         "text": "[EmptyWagon]",
         "type": "scatter",
         "x": [
          59
         ],
         "y": [
          36
         ]
        },
        {
         "hoverinfo": "text+name",
         "marker": {
          "color": "darkorange"
         },
         "name": "0.92",
         "opacity": 0,
         "showlegend": false,
         "text": "[FreightWagon]",
         "type": "scatter",
         "x": [
          120
         ],
         "y": [
          33
         ]
        },
        {
         "hoverinfo": "text+name",
         "marker": {
          "color": "pink"
         },
         "name": "0.91",
         "opacity": 0,
         "showlegend": false,
         "text": "[FreightWagon & LongWagon]",
         "type": "scatter",
         "x": [
          90
         ],
         "y": [
          35
         ]
        }
       ],
       "layout": {
        "margin": {
         "t": 60
        },
        "template": {
         "data": {
          "bar": [
           {
            "error_x": {
             "color": "#2a3f5f"
            },
            "error_y": {
             "color": "#2a3f5f"
            },
            "marker": {
             "line": {
              "color": "#E5ECF6",
              "width": 0.5
             },
             "pattern": {
              "fillmode": "overlay",
              "size": 10,
              "solidity": 0.2
             }
            },
            "type": "bar"
           }
          ],
          "barpolar": [
           {
            "marker": {
             "line": {
              "color": "#E5ECF6",
              "width": 0.5
             },
             "pattern": {
              "fillmode": "overlay",
              "size": 10,
              "solidity": 0.2
             }
            },
            "type": "barpolar"
           }
          ],
          "carpet": [
           {
            "aaxis": {
             "endlinecolor": "#2a3f5f",
             "gridcolor": "white",
             "linecolor": "white",
             "minorgridcolor": "white",
             "startlinecolor": "#2a3f5f"
            },
            "baxis": {
             "endlinecolor": "#2a3f5f",
             "gridcolor": "white",
             "linecolor": "white",
             "minorgridcolor": "white",
             "startlinecolor": "#2a3f5f"
            },
            "type": "carpet"
           }
          ],
          "choropleth": [
           {
            "colorbar": {
             "outlinewidth": 0,
             "ticks": ""
            },
            "type": "choropleth"
           }
          ],
          "contour": [
           {
            "colorbar": {
             "outlinewidth": 0,
             "ticks": ""
            },
            "colorscale": [
             [
              0,
              "#0d0887"
             ],
             [
              0.1111111111111111,
              "#46039f"
             ],
             [
              0.2222222222222222,
              "#7201a8"
             ],
             [
              0.3333333333333333,
              "#9c179e"
             ],
             [
              0.4444444444444444,
              "#bd3786"
             ],
             [
              0.5555555555555556,
              "#d8576b"
             ],
             [
              0.6666666666666666,
              "#ed7953"
             ],
             [
              0.7777777777777778,
              "#fb9f3a"
             ],
             [
              0.8888888888888888,
              "#fdca26"
             ],
             [
              1,
              "#f0f921"
             ]
            ],
            "type": "contour"
           }
          ],
          "contourcarpet": [
           {
            "colorbar": {
             "outlinewidth": 0,
             "ticks": ""
            },
            "type": "contourcarpet"
           }
          ],
          "heatmap": [
           {
            "colorbar": {
             "outlinewidth": 0,
             "ticks": ""
            },
            "colorscale": [
             [
              0,
              "#0d0887"
             ],
             [
              0.1111111111111111,
              "#46039f"
             ],
             [
              0.2222222222222222,
              "#7201a8"
             ],
             [
              0.3333333333333333,
              "#9c179e"
             ],
             [
              0.4444444444444444,
              "#bd3786"
             ],
             [
              0.5555555555555556,
              "#d8576b"
             ],
             [
              0.6666666666666666,
              "#ed7953"
             ],
             [
              0.7777777777777778,
              "#fb9f3a"
             ],
             [
              0.8888888888888888,
              "#fdca26"
             ],
             [
              1,
              "#f0f921"
             ]
            ],
            "type": "heatmap"
           }
          ],
          "heatmapgl": [
           {
            "colorbar": {
             "outlinewidth": 0,
             "ticks": ""
            },
            "colorscale": [
             [
              0,
              "#0d0887"
             ],
             [
              0.1111111111111111,
              "#46039f"
             ],
             [
              0.2222222222222222,
              "#7201a8"
             ],
             [
              0.3333333333333333,
              "#9c179e"
             ],
             [
              0.4444444444444444,
              "#bd3786"
             ],
             [
              0.5555555555555556,
              "#d8576b"
             ],
             [
              0.6666666666666666,
              "#ed7953"
             ],
             [
              0.7777777777777778,
              "#fb9f3a"
             ],
             [
              0.8888888888888888,
              "#fdca26"
             ],
             [
              1,
              "#f0f921"
             ]
            ],
            "type": "heatmapgl"
           }
          ],
          "histogram": [
           {
            "marker": {
             "pattern": {
              "fillmode": "overlay",
              "size": 10,
              "solidity": 0.2
             }
            },
            "type": "histogram"
           }
          ],
          "histogram2d": [
           {
            "colorbar": {
             "outlinewidth": 0,
             "ticks": ""
            },
            "colorscale": [
             [
              0,
              "#0d0887"
             ],
             [
              0.1111111111111111,
              "#46039f"
             ],
             [
              0.2222222222222222,
              "#7201a8"
             ],
             [
              0.3333333333333333,
              "#9c179e"
             ],
             [
              0.4444444444444444,
              "#bd3786"
             ],
             [
              0.5555555555555556,
              "#d8576b"
             ],
             [
              0.6666666666666666,
              "#ed7953"
             ],
             [
              0.7777777777777778,
              "#fb9f3a"
             ],
             [
              0.8888888888888888,
              "#fdca26"
             ],
             [
              1,
              "#f0f921"
             ]
            ],
            "type": "histogram2d"
           }
          ],
          "histogram2dcontour": [
           {
            "colorbar": {
             "outlinewidth": 0,
             "ticks": ""
            },
            "colorscale": [
             [
              0,
              "#0d0887"
             ],
             [
              0.1111111111111111,
              "#46039f"
             ],
             [
              0.2222222222222222,
              "#7201a8"
             ],
             [
              0.3333333333333333,
              "#9c179e"
             ],
             [
              0.4444444444444444,
              "#bd3786"
             ],
             [
              0.5555555555555556,
              "#d8576b"
             ],
             [
              0.6666666666666666,
              "#ed7953"
             ],
             [
              0.7777777777777778,
              "#fb9f3a"
             ],
             [
              0.8888888888888888,
              "#fdca26"
             ],
             [
              1,
              "#f0f921"
             ]
            ],
            "type": "histogram2dcontour"
           }
          ],
          "mesh3d": [
           {
            "colorbar": {
             "outlinewidth": 0,
             "ticks": ""
            },
            "type": "mesh3d"
           }
          ],
          "parcoords": [
           {
            "line": {
             "colorbar": {
              "outlinewidth": 0,
              "ticks": ""
             }
            },
            "type": "parcoords"
           }
          ],
          "pie": [
           {
            "automargin": true,
            "type": "pie"
           }
          ],
          "scatter": [
           {
            "fillpattern": {
             "fillmode": "overlay",
             "size": 10,
             "solidity": 0.2
            },
            "type": "scatter"
           }
          ],
          "scatter3d": [
           {
            "line": {
             "colorbar": {
              "outlinewidth": 0,
              "ticks": ""
             }
            },
            "marker": {
             "colorbar": {
              "outlinewidth": 0,
              "ticks": ""
             }
            },
            "type": "scatter3d"
           }
          ],
          "scattercarpet": [
           {
            "marker": {
             "colorbar": {
              "outlinewidth": 0,
              "ticks": ""
             }
            },
            "type": "scattercarpet"
           }
          ],
          "scattergeo": [
           {
            "marker": {
             "colorbar": {
              "outlinewidth": 0,
              "ticks": ""
             }
            },
            "type": "scattergeo"
           }
          ],
          "scattergl": [
           {
            "marker": {
             "colorbar": {
              "outlinewidth": 0,
              "ticks": ""
             }
            },
            "type": "scattergl"
           }
          ],
          "scattermapbox": [
           {
            "marker": {
             "colorbar": {
              "outlinewidth": 0,
              "ticks": ""
             }
            },
            "type": "scattermapbox"
           }
          ],
          "scatterpolar": [
           {
            "marker": {
             "colorbar": {
              "outlinewidth": 0,
              "ticks": ""
             }
            },
            "type": "scatterpolar"
           }
          ],
          "scatterpolargl": [
           {
            "marker": {
             "colorbar": {
              "outlinewidth": 0,
              "ticks": ""
             }
            },
            "type": "scatterpolargl"
           }
          ],
          "scatterternary": [
           {
            "marker": {
             "colorbar": {
              "outlinewidth": 0,
              "ticks": ""
             }
            },
            "type": "scatterternary"
           }
          ],
          "surface": [
           {
            "colorbar": {
             "outlinewidth": 0,
             "ticks": ""
            },
            "colorscale": [
             [
              0,
              "#0d0887"
             ],
             [
              0.1111111111111111,
              "#46039f"
             ],
             [
              0.2222222222222222,
              "#7201a8"
             ],
             [
              0.3333333333333333,
              "#9c179e"
             ],
             [
              0.4444444444444444,
              "#bd3786"
             ],
             [
              0.5555555555555556,
              "#d8576b"
             ],
             [
              0.6666666666666666,
              "#ed7953"
             ],
             [
              0.7777777777777778,
              "#fb9f3a"
             ],
             [
              0.8888888888888888,
              "#fdca26"
             ],
             [
              1,
              "#f0f921"
             ]
            ],
            "type": "surface"
           }
          ],
          "table": [
           {
            "cells": {
             "fill": {
              "color": "#EBF0F8"
             },
             "line": {
              "color": "white"
             }
            },
            "header": {
             "fill": {
              "color": "#C8D4E3"
             },
             "line": {
              "color": "white"
             }
            },
            "type": "table"
           }
          ]
         },
         "layout": {
          "annotationdefaults": {
           "arrowcolor": "#2a3f5f",
           "arrowhead": 0,
           "arrowwidth": 1
          },
          "autotypenumbers": "strict",
          "coloraxis": {
           "colorbar": {
            "outlinewidth": 0,
            "ticks": ""
           }
          },
          "colorscale": {
           "diverging": [
            [
             0,
             "#8e0152"
            ],
            [
             0.1,
             "#c51b7d"
            ],
            [
             0.2,
             "#de77ae"
            ],
            [
             0.3,
             "#f1b6da"
            ],
            [
             0.4,
             "#fde0ef"
            ],
            [
             0.5,
             "#f7f7f7"
            ],
            [
             0.6,
             "#e6f5d0"
            ],
            [
             0.7,
             "#b8e186"
            ],
            [
             0.8,
             "#7fbc41"
            ],
            [
             0.9,
             "#4d9221"
            ],
            [
             1,
             "#276419"
            ]
           ],
           "sequential": [
            [
             0,
             "#0d0887"
            ],
            [
             0.1111111111111111,
             "#46039f"
            ],
            [
             0.2222222222222222,
             "#7201a8"
            ],
            [
             0.3333333333333333,
             "#9c179e"
            ],
            [
             0.4444444444444444,
             "#bd3786"
            ],
            [
             0.5555555555555556,
             "#d8576b"
            ],
            [
             0.6666666666666666,
             "#ed7953"
            ],
            [
             0.7777777777777778,
             "#fb9f3a"
            ],
            [
             0.8888888888888888,
             "#fdca26"
            ],
            [
             1,
             "#f0f921"
            ]
           ],
           "sequentialminus": [
            [
             0,
             "#0d0887"
            ],
            [
             0.1111111111111111,
             "#46039f"
            ],
            [
             0.2222222222222222,
             "#7201a8"
            ],
            [
             0.3333333333333333,
             "#9c179e"
            ],
            [
             0.4444444444444444,
             "#bd3786"
            ],
            [
             0.5555555555555556,
             "#d8576b"
            ],
            [
             0.6666666666666666,
             "#ed7953"
            ],
            [
             0.7777777777777778,
             "#fb9f3a"
            ],
            [
             0.8888888888888888,
             "#fdca26"
            ],
            [
             1,
             "#f0f921"
            ]
           ]
          },
          "colorway": [
           "#636efa",
           "#EF553B",
           "#00cc96",
           "#ab63fa",
           "#FFA15A",
           "#19d3f3",
           "#FF6692",
           "#B6E880",
           "#FF97FF",
           "#FECB52"
          ],
          "font": {
           "color": "#2a3f5f"
          },
          "geo": {
           "bgcolor": "white",
           "lakecolor": "white",
           "landcolor": "#E5ECF6",
           "showlakes": true,
           "showland": true,
           "subunitcolor": "white"
          },
          "hoverlabel": {
           "align": "left"
          },
          "hovermode": "closest",
          "mapbox": {
           "style": "light"
          },
          "paper_bgcolor": "white",
          "plot_bgcolor": "#E5ECF6",
          "polar": {
           "angularaxis": {
            "gridcolor": "white",
            "linecolor": "white",
            "ticks": ""
           },
           "bgcolor": "#E5ECF6",
           "radialaxis": {
            "gridcolor": "white",
            "linecolor": "white",
            "ticks": ""
           }
          },
          "scene": {
           "xaxis": {
            "backgroundcolor": "#E5ECF6",
            "gridcolor": "white",
            "gridwidth": 2,
            "linecolor": "white",
            "showbackground": true,
            "ticks": "",
            "zerolinecolor": "white"
           },
           "yaxis": {
            "backgroundcolor": "#E5ECF6",
            "gridcolor": "white",
            "gridwidth": 2,
            "linecolor": "white",
            "showbackground": true,
            "ticks": "",
            "zerolinecolor": "white"
           },
           "zaxis": {
            "backgroundcolor": "#E5ECF6",
            "gridcolor": "white",
            "gridwidth": 2,
            "linecolor": "white",
            "showbackground": true,
            "ticks": "",
            "zerolinecolor": "white"
           }
          },
          "shapedefaults": {
           "line": {
            "color": "#2a3f5f"
           }
          },
          "ternary": {
           "aaxis": {
            "gridcolor": "white",
            "linecolor": "white",
            "ticks": ""
           },
           "baxis": {
            "gridcolor": "white",
            "linecolor": "white",
            "ticks": ""
           },
           "bgcolor": "#E5ECF6",
           "caxis": {
            "gridcolor": "white",
            "linecolor": "white",
            "ticks": ""
           }
          },
          "title": {
           "x": 0.05
          },
          "xaxis": {
           "automargin": true,
           "gridcolor": "white",
           "linecolor": "white",
           "ticks": "",
           "title": {
            "standoff": 15
           },
           "zerolinecolor": "white",
           "zerolinewidth": 2
          },
          "yaxis": {
           "automargin": true,
           "gridcolor": "white",
           "linecolor": "white",
           "ticks": "",
           "title": {
            "standoff": 15
           },
           "zerolinecolor": "white",
           "zerolinewidth": 2
          }
         }
        },
        "title": {
         "font": {
          "size": 13
         },
         "text": "xtrains_ontology.has.min(3, xtrains_ontology.Wagon)\n is True"
        },
        "xaxis": {
         "anchor": "y",
         "domain": [
          0,
          1
         ]
        },
        "yaxis": {
         "anchor": "x",
         "domain": [
          0,
          1
         ]
        }
       }
      }
     },
     "metadata": {},
     "output_type": "display_data"
    }
   ],
   "source": [
    "one_input = torch.stack([img_tensors[0]])\n",
    "\n",
    "explainer.explain(\n",
    "    xtrains.LongFreightTrain, \n",
    "    one_input\n",
    "    )\n"
   ]
  },
  {
   "cell_type": "code",
   "execution_count": 9,
   "metadata": {},
   "outputs": [
    {
     "name": "stdout",
     "output_type": "stream",
     "text": [
      "This is NOT a EmptyTrain because : \n",
      "  has ONLY EmptyWagon or Locomotive is False \n",
      "    found [FreightWagon & LongWagon]\n",
      "\n"
     ]
    },
    {
     "data": {
      "application/vnd.plotly.v1+json": {
       "config": {
        "plotlyServerURL": "https://plot.ly"
       },
       "data": [
        {
         "hovertemplate": "x: %{x}<br>y: %{y}<br>color: [%{z[0]}, %{z[1]}, %{z[2]}]<extra></extra>",
         "name": "0",
         "source": "data:image/png;base64,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",
         "type": "image",
         "xaxis": "x",
         "yaxis": "y"
        },
        {
         "fill": "toself",
         "hoverinfo": "none",
         "legendgrouptitle": {
          "text": "Found :"
         },
         "marker": {
          "color": "pink"
         },
         "mode": "lines",
         "name": "1 [FreightWagon & LongWagon]",
         "opacity": 0.7,
         "type": "scatter",
         "x": [
          56,
          92,
          92,
          56,
          56,
          null
         ],
         "y": [
          59,
          59,
          82,
          82,
          59,
          null
         ]
        },
        {
         "hoverinfo": "text+name",
         "marker": {
          "color": "pink"
         },
         "name": "0.93",
         "opacity": 0,
         "showlegend": false,
         "text": "[FreightWagon & LongWagon]",
         "type": "scatter",
         "x": [
          74
         ],
         "y": [
          70
         ]
        }
       ],
       "layout": {
        "margin": {
         "t": 60
        },
        "template": {
         "data": {
          "bar": [
           {
            "error_x": {
             "color": "#2a3f5f"
            },
            "error_y": {
             "color": "#2a3f5f"
            },
            "marker": {
             "line": {
              "color": "#E5ECF6",
              "width": 0.5
             },
             "pattern": {
              "fillmode": "overlay",
              "size": 10,
              "solidity": 0.2
             }
            },
            "type": "bar"
           }
          ],
          "barpolar": [
           {
            "marker": {
             "line": {
              "color": "#E5ECF6",
              "width": 0.5
             },
             "pattern": {
              "fillmode": "overlay",
              "size": 10,
              "solidity": 0.2
             }
            },
            "type": "barpolar"
           }
          ],
          "carpet": [
           {
            "aaxis": {
             "endlinecolor": "#2a3f5f",
             "gridcolor": "white",
             "linecolor": "white",
             "minorgridcolor": "white",
             "startlinecolor": "#2a3f5f"
            },
            "baxis": {
             "endlinecolor": "#2a3f5f",
             "gridcolor": "white",
             "linecolor": "white",
             "minorgridcolor": "white",
             "startlinecolor": "#2a3f5f"
            },
            "type": "carpet"
           }
          ],
          "choropleth": [
           {
            "colorbar": {
             "outlinewidth": 0,
             "ticks": ""
            },
            "type": "choropleth"
           }
          ],
          "contour": [
           {
            "colorbar": {
             "outlinewidth": 0,
             "ticks": ""
            },
            "colorscale": [
             [
              0,
              "#0d0887"
             ],
             [
              0.1111111111111111,
              "#46039f"
             ],
             [
              0.2222222222222222,
              "#7201a8"
             ],
             [
              0.3333333333333333,
              "#9c179e"
             ],
             [
              0.4444444444444444,
              "#bd3786"
             ],
             [
              0.5555555555555556,
              "#d8576b"
             ],
             [
              0.6666666666666666,
              "#ed7953"
             ],
             [
              0.7777777777777778,
              "#fb9f3a"
             ],
             [
              0.8888888888888888,
              "#fdca26"
             ],
             [
              1,
              "#f0f921"
             ]
            ],
            "type": "contour"
           }
          ],
          "contourcarpet": [
           {
            "colorbar": {
             "outlinewidth": 0,
             "ticks": ""
            },
            "type": "contourcarpet"
           }
          ],
          "heatmap": [
           {
            "colorbar": {
             "outlinewidth": 0,
             "ticks": ""
            },
            "colorscale": [
             [
              0,
              "#0d0887"
             ],
             [
              0.1111111111111111,
              "#46039f"
             ],
             [
              0.2222222222222222,
              "#7201a8"
             ],
             [
              0.3333333333333333,
              "#9c179e"
             ],
             [
              0.4444444444444444,
              "#bd3786"
             ],
             [
              0.5555555555555556,
              "#d8576b"
             ],
             [
              0.6666666666666666,
              "#ed7953"
             ],
             [
              0.7777777777777778,
              "#fb9f3a"
             ],
             [
              0.8888888888888888,
              "#fdca26"
             ],
             [
              1,
              "#f0f921"
             ]
            ],
            "type": "heatmap"
           }
          ],
          "heatmapgl": [
           {
            "colorbar": {
             "outlinewidth": 0,
             "ticks": ""
            },
            "colorscale": [
             [
              0,
              "#0d0887"
             ],
             [
              0.1111111111111111,
              "#46039f"
             ],
             [
              0.2222222222222222,
              "#7201a8"
             ],
             [
              0.3333333333333333,
              "#9c179e"
             ],
             [
              0.4444444444444444,
              "#bd3786"
             ],
             [
              0.5555555555555556,
              "#d8576b"
             ],
             [
              0.6666666666666666,
              "#ed7953"
             ],
             [
              0.7777777777777778,
              "#fb9f3a"
             ],
             [
              0.8888888888888888,
              "#fdca26"
             ],
             [
              1,
              "#f0f921"
             ]
            ],
            "type": "heatmapgl"
           }
          ],
          "histogram": [
           {
            "marker": {
             "pattern": {
              "fillmode": "overlay",
              "size": 10,
              "solidity": 0.2
             }
            },
            "type": "histogram"
           }
          ],
          "histogram2d": [
           {
            "colorbar": {
             "outlinewidth": 0,
             "ticks": ""
            },
            "colorscale": [
             [
              0,
              "#0d0887"
             ],
             [
              0.1111111111111111,
              "#46039f"
             ],
             [
              0.2222222222222222,
              "#7201a8"
             ],
             [
              0.3333333333333333,
              "#9c179e"
             ],
             [
              0.4444444444444444,
              "#bd3786"
             ],
             [
              0.5555555555555556,
              "#d8576b"
             ],
             [
              0.6666666666666666,
              "#ed7953"
             ],
             [
              0.7777777777777778,
              "#fb9f3a"
             ],
             [
              0.8888888888888888,
              "#fdca26"
             ],
             [
              1,
              "#f0f921"
             ]
            ],
            "type": "histogram2d"
           }
          ],
          "histogram2dcontour": [
           {
            "colorbar": {
             "outlinewidth": 0,
             "ticks": ""
            },
            "colorscale": [
             [
              0,
              "#0d0887"
             ],
             [
              0.1111111111111111,
              "#46039f"
             ],
             [
              0.2222222222222222,
              "#7201a8"
             ],
             [
              0.3333333333333333,
              "#9c179e"
             ],
             [
              0.4444444444444444,
              "#bd3786"
             ],
             [
              0.5555555555555556,
              "#d8576b"
             ],
             [
              0.6666666666666666,
              "#ed7953"
             ],
             [
              0.7777777777777778,
              "#fb9f3a"
             ],
             [
              0.8888888888888888,
              "#fdca26"
             ],
             [
              1,
              "#f0f921"
             ]
            ],
            "type": "histogram2dcontour"
           }
          ],
          "mesh3d": [
           {
            "colorbar": {
             "outlinewidth": 0,
             "ticks": ""
            },
            "type": "mesh3d"
           }
          ],
          "parcoords": [
           {
            "line": {
             "colorbar": {
              "outlinewidth": 0,
              "ticks": ""
             }
            },
            "type": "parcoords"
           }
          ],
          "pie": [
           {
            "automargin": true,
            "type": "pie"
           }
          ],
          "scatter": [
           {
            "fillpattern": {
             "fillmode": "overlay",
             "size": 10,
             "solidity": 0.2
            },
            "type": "scatter"
           }
          ],
          "scatter3d": [
           {
            "line": {
             "colorbar": {
              "outlinewidth": 0,
              "ticks": ""
             }
            },
            "marker": {
             "colorbar": {
              "outlinewidth": 0,
              "ticks": ""
             }
            },
            "type": "scatter3d"
           }
          ],
          "scattercarpet": [
           {
            "marker": {
             "colorbar": {
              "outlinewidth": 0,
              "ticks": ""
             }
            },
            "type": "scattercarpet"
           }
          ],
          "scattergeo": [
           {
            "marker": {
             "colorbar": {
              "outlinewidth": 0,
              "ticks": ""
             }
            },
            "type": "scattergeo"
           }
          ],
          "scattergl": [
           {
            "marker": {
             "colorbar": {
              "outlinewidth": 0,
              "ticks": ""
             }
            },
            "type": "scattergl"
           }
          ],
          "scattermapbox": [
           {
            "marker": {
             "colorbar": {
              "outlinewidth": 0,
              "ticks": ""
             }
            },
            "type": "scattermapbox"
           }
          ],
          "scatterpolar": [
           {
            "marker": {
             "colorbar": {
              "outlinewidth": 0,
              "ticks": ""
             }
            },
            "type": "scatterpolar"
           }
          ],
          "scatterpolargl": [
           {
            "marker": {
             "colorbar": {
              "outlinewidth": 0,
              "ticks": ""
             }
            },
            "type": "scatterpolargl"
           }
          ],
          "scatterternary": [
           {
            "marker": {
             "colorbar": {
              "outlinewidth": 0,
              "ticks": ""
             }
            },
            "type": "scatterternary"
           }
          ],
          "surface": [
           {
            "colorbar": {
             "outlinewidth": 0,
             "ticks": ""
            },
            "colorscale": [
             [
              0,
              "#0d0887"
             ],
             [
              0.1111111111111111,
              "#46039f"
             ],
             [
              0.2222222222222222,
              "#7201a8"
             ],
             [
              0.3333333333333333,
              "#9c179e"
             ],
             [
              0.4444444444444444,
              "#bd3786"
             ],
             [
              0.5555555555555556,
              "#d8576b"
             ],
             [
              0.6666666666666666,
              "#ed7953"
             ],
             [
              0.7777777777777778,
              "#fb9f3a"
             ],
             [
              0.8888888888888888,
              "#fdca26"
             ],
             [
              1,
              "#f0f921"
             ]
            ],
            "type": "surface"
           }
          ],
          "table": [
           {
            "cells": {
             "fill": {
              "color": "#EBF0F8"
             },
             "line": {
              "color": "white"
             }
            },
            "header": {
             "fill": {
              "color": "#C8D4E3"
             },
             "line": {
              "color": "white"
             }
            },
            "type": "table"
           }
          ]
         },
         "layout": {
          "annotationdefaults": {
           "arrowcolor": "#2a3f5f",
           "arrowhead": 0,
           "arrowwidth": 1
          },
          "autotypenumbers": "strict",
          "coloraxis": {
           "colorbar": {
            "outlinewidth": 0,
            "ticks": ""
           }
          },
          "colorscale": {
           "diverging": [
            [
             0,
             "#8e0152"
            ],
            [
             0.1,
             "#c51b7d"
            ],
            [
             0.2,
             "#de77ae"
            ],
            [
             0.3,
             "#f1b6da"
            ],
            [
             0.4,
             "#fde0ef"
            ],
            [
             0.5,
             "#f7f7f7"
            ],
            [
             0.6,
             "#e6f5d0"
            ],
            [
             0.7,
             "#b8e186"
            ],
            [
             0.8,
             "#7fbc41"
            ],
            [
             0.9,
             "#4d9221"
            ],
            [
             1,
             "#276419"
            ]
           ],
           "sequential": [
            [
             0,
             "#0d0887"
            ],
            [
             0.1111111111111111,
             "#46039f"
            ],
            [
             0.2222222222222222,
             "#7201a8"
            ],
            [
             0.3333333333333333,
             "#9c179e"
            ],
            [
             0.4444444444444444,
             "#bd3786"
            ],
            [
             0.5555555555555556,
             "#d8576b"
            ],
            [
             0.6666666666666666,
             "#ed7953"
            ],
            [
             0.7777777777777778,
             "#fb9f3a"
            ],
            [
             0.8888888888888888,
             "#fdca26"
            ],
            [
             1,
             "#f0f921"
            ]
           ],
           "sequentialminus": [
            [
             0,
             "#0d0887"
            ],
            [
             0.1111111111111111,
             "#46039f"
            ],
            [
             0.2222222222222222,
             "#7201a8"
            ],
            [
             0.3333333333333333,
             "#9c179e"
            ],
            [
             0.4444444444444444,
             "#bd3786"
            ],
            [
             0.5555555555555556,
             "#d8576b"
            ],
            [
             0.6666666666666666,
             "#ed7953"
            ],
            [
             0.7777777777777778,
             "#fb9f3a"
            ],
            [
             0.8888888888888888,
             "#fdca26"
            ],
            [
             1,
             "#f0f921"
            ]
           ]
          },
          "colorway": [
           "#636efa",
           "#EF553B",
           "#00cc96",
           "#ab63fa",
           "#FFA15A",
           "#19d3f3",
           "#FF6692",
           "#B6E880",
           "#FF97FF",
           "#FECB52"
          ],
          "font": {
           "color": "#2a3f5f"
          },
          "geo": {
           "bgcolor": "white",
           "lakecolor": "white",
           "landcolor": "#E5ECF6",
           "showlakes": true,
           "showland": true,
           "subunitcolor": "white"
          },
          "hoverlabel": {
           "align": "left"
          },
          "hovermode": "closest",
          "mapbox": {
           "style": "light"
          },
          "paper_bgcolor": "white",
          "plot_bgcolor": "#E5ECF6",
          "polar": {
           "angularaxis": {
            "gridcolor": "white",
            "linecolor": "white",
            "ticks": ""
           },
           "bgcolor": "#E5ECF6",
           "radialaxis": {
            "gridcolor": "white",
            "linecolor": "white",
            "ticks": ""
           }
          },
          "scene": {
           "xaxis": {
            "backgroundcolor": "#E5ECF6",
            "gridcolor": "white",
            "gridwidth": 2,
            "linecolor": "white",
            "showbackground": true,
            "ticks": "",
            "zerolinecolor": "white"
           },
           "yaxis": {
            "backgroundcolor": "#E5ECF6",
            "gridcolor": "white",
            "gridwidth": 2,
            "linecolor": "white",
            "showbackground": true,
            "ticks": "",
            "zerolinecolor": "white"
           },
           "zaxis": {
            "backgroundcolor": "#E5ECF6",
            "gridcolor": "white",
            "gridwidth": 2,
            "linecolor": "white",
            "showbackground": true,
            "ticks": "",
            "zerolinecolor": "white"
           }
          },
          "shapedefaults": {
           "line": {
            "color": "#2a3f5f"
           }
          },
          "ternary": {
           "aaxis": {
            "gridcolor": "white",
            "linecolor": "white",
            "ticks": ""
           },
           "baxis": {
            "gridcolor": "white",
            "linecolor": "white",
            "ticks": ""
           },
           "bgcolor": "#E5ECF6",
           "caxis": {
            "gridcolor": "white",
            "linecolor": "white",
            "ticks": ""
           }
          },
          "title": {
           "x": 0.05
          },
          "xaxis": {
           "automargin": true,
           "gridcolor": "white",
           "linecolor": "white",
           "ticks": "",
           "title": {
            "standoff": 15
           },
           "zerolinecolor": "white",
           "zerolinewidth": 2
          },
          "yaxis": {
           "automargin": true,
           "gridcolor": "white",
           "linecolor": "white",
           "ticks": "",
           "title": {
            "standoff": 15
           },
           "zerolinecolor": "white",
           "zerolinewidth": 2
          }
         }
        },
        "title": {
         "font": {
          "size": 13
         },
         "text": "xtrains_ontology.has.only(xtrains_ontology.EmptyWagon | xtrains_ontology.Locomotive)\n is False"
        },
        "xaxis": {
         "anchor": "y",
         "domain": [
          0,
          1
         ]
        },
        "yaxis": {
         "anchor": "x",
         "domain": [
          0,
          1
         ]
        }
       }
      }
     },
     "metadata": {},
     "output_type": "display_data"
    }
   ],
   "source": [
    "one_input = torch.stack([img_tensors[1]])\n",
    "\n",
    "explainer = OntologicalExtractorExplainer(ontological_extractor, onto_classifier)\n",
    "\n",
    "explainer.explain(\n",
    "    xtrains.EmptyTrain, \n",
    "    one_input\n",
    "    )\n"
   ]
  },
  {
   "cell_type": "code",
   "execution_count": null,
   "metadata": {},
   "outputs": [],
   "source": []
  }
 ],
 "metadata": {
  "kernelspec": {
   "display_name": "pytorch",
   "language": "python",
   "name": "python3"
  },
  "language_info": {
   "codemirror_mode": {
    "name": "ipython",
    "version": 3
   },
   "file_extension": ".py",
   "mimetype": "text/x-python",
   "name": "python",
   "nbconvert_exporter": "python",
   "pygments_lexer": "ipython3",
   "version": "3.11.7"
  },
  "orig_nbformat": 4
 },
 "nbformat": 4,
 "nbformat_minor": 2
}
