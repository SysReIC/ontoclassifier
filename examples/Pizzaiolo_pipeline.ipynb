{
 "cells": [
  {
   "cell_type": "markdown",
   "metadata": {},
   "source": [
    "# Global pipeline for PIZZAIOLO Dataset\n",
    "\n",
    "using a YoloV8 model that recognizes toppings, pizza base, and country flags on images. \n",
    "The Pizzaiolo dataset can be found here : [https://www.kaggle.com/dsv/8132725](https://www.kaggle.com/dsv/8132725)"
   ]
  },
  {
   "cell_type": "code",
   "execution_count": 1,
   "metadata": {},
   "outputs": [
    {
     "name": "stderr",
     "output_type": "stream",
     "text": [
      "\n",
      "Warning: SQLite3 version 3.40.0 and 3.41.2 have huge performance regressions; please install version 3.41.1 or 3.42!\n",
      "\n"
     ]
    }
   ],
   "source": [
    "from ultralytics import YOLO\n",
    "import owlready2\n",
    "import torch\n",
    "\n",
    "%load_ext autoreload\n",
    "%autoreload 2\n",
    "\n",
    "import sys\n",
    "sys.path.append('..')\n",
    "from ontoclassifier import *"
   ]
  },
  {
   "cell_type": "markdown",
   "metadata": {},
   "source": [
    "## Loading ontology"
   ]
  },
  {
   "cell_type": "code",
   "execution_count": 2,
   "metadata": {},
   "outputs": [],
   "source": [
    "onto_filename = \"data/pizzaiolo.xml\"\n",
    "pizza = owlready2.get_ontology(onto_filename).load()"
   ]
  },
  {
   "attachments": {},
   "cell_type": "markdown",
   "metadata": {},
   "source": [
    "## Global pipeline with Yolov8 Wrapper"
   ]
  },
  {
   "cell_type": "code",
   "execution_count": 3,
   "metadata": {},
   "outputs": [],
   "source": [
    "target_classes = list(pizza.Pizza.descendants())\n",
    "\n",
    "# otherwise choose only some classes:\n",
    "# target_classes = [\n",
    "#     pizza.Napoletana,\n",
    "#     pizza.CheesyPizza,\n",
    "#     pizza.VegetarianPizza,\n",
    "#     pizza.SpicyPizza,\n",
    "#     pizza.RealItalianPizza,\n",
    "# ]"
   ]
  },
  {
   "cell_type": "code",
   "execution_count": 4,
   "metadata": {},
   "outputs": [],
   "source": [
    "yolo_model = YOLO('data/pizzaiolo-yolov8.pt')"
   ]
  },
  {
   "cell_type": "code",
   "execution_count": 5,
   "metadata": {},
   "outputs": [
    {
     "data": {
      "text/plain": [
       "({1: 'DeepPanBase', 2: 'ThinAndCrispyBase'},\n",
       " {3: 'ParmesanTopping',\n",
       "  4: 'SlicedTomatoTopping',\n",
       "  5: 'GreenPepperTopping',\n",
       "  6: 'OnionTopping',\n",
       "  7: 'PeperoniSausageTopping',\n",
       "  8: 'HamTopping',\n",
       "  9: 'PeperonataTopping',\n",
       "  10: 'RocketTopping',\n",
       "  11: 'SpinachTopping',\n",
       "  12: 'JalapenoPepperTopping',\n",
       "  13: 'AnchovyTopping',\n",
       "  14: 'MushroomTopping',\n",
       "  15: 'PrawnTopping',\n",
       "  16: 'OliveTopping',\n",
       "  17: 'SultanaTopping',\n",
       "  18: 'GarlicTopping'},\n",
       " {19: 'America', 20: 'England', 21: 'France', 22: 'Italy'})"
      ]
     },
     "execution_count": 5,
     "metadata": {},
     "output_type": "execute_result"
    }
   ],
   "source": [
    "yolo_base_names = dict((k, yolo_model.names[k]) for k in range(1,3))\n",
    "yolo_topping_names = dict((k, yolo_model.names[k]) for k in range(3,19))\n",
    "yolo_country_names = dict((k, yolo_model.names[k]) for k in range(19,23))\n",
    "\n",
    "yolo_base_names, yolo_topping_names, yolo_country_names"
   ]
  },
  {
   "cell_type": "code",
   "execution_count": 6,
   "metadata": {},
   "outputs": [
    {
     "name": "stdout",
     "output_type": "stream",
     "text": [
      "'[ REMOVING  NamedPizza : no property to work with. ]'\n",
      "'[ REMOVING  Pizza : no property to work with. ]'\n",
      "Removed :\n",
      "[pizzaiolo.xml.NamedPizza, pizzaiolo.xml.Pizza]\n"
     ]
    }
   ],
   "source": [
    "hasBase_feature = OntoFeature(pizza.hasBase) \n",
    "hasBase_property_wrapper = YoloV8PropertyWrapper(yolo_model, \n",
    "                                                    hasBase_feature, \n",
    "                                                    yolo_base_names)\n",
    "\n",
    "hasTopping_feature = OntoFeature(pizza.hasTopping) \n",
    "hasTopping_property_wrapper = YoloV8PropertyWrapper(yolo_model, \n",
    "                                                    hasTopping_feature, \n",
    "                                                    yolo_topping_names)\n",
    "\n",
    "hasCountry_feature = OntoFeature(pizza.hasCountryOfOrigin)\n",
    "hasCountry_property_wrapper = YoloV8PropertyWrapper(yolo_model, \n",
    "                                                    hasCountry_feature, \n",
    "                                                    yolo_country_names)\n",
    "\n",
    "fe_yolo = Yolov8FeaturesExtractor([hasBase_property_wrapper, \n",
    "                                   hasTopping_property_wrapper, \n",
    "                                   hasCountry_property_wrapper, ])\n",
    "\n",
    "ontological_extractor = OntologicalExtractor([fe_yolo])\n",
    "\n",
    "onto_classifier = OntoClassifier(pizza, target_classes, ontological_extractor) #, to_ignore=[pizza.hasBase])\n",
    "\n",
    "pipeline = torch.nn.Sequential(\n",
    "        ontological_extractor,\n",
    "        onto_classifier\n",
    ")\n",
    "\n",
    "explainer = OntologicalExtractorExplainer(ontological_extractor, onto_classifier)\n"
   ]
  },
  {
   "attachments": {},
   "cell_type": "markdown",
   "metadata": {},
   "source": [
    "## Inference"
   ]
  },
  {
   "cell_type": "code",
   "execution_count": 7,
   "metadata": {},
   "outputs": [],
   "source": [
    "from torchvision.io import read_image, ImageReadMode\n",
    "\n",
    "images = ['data/img_01836.png', 'data/img_00206.png']\n",
    "\n",
    "img_tensors = []\n",
    "for img in images:\n",
    "    img_tensors.append(read_image(img, ImageReadMode.RGB).float())\n",
    "\n",
    "inputs = torch.stack(img_tensors)\n"
   ]
  },
  {
   "cell_type": "code",
   "execution_count": 8,
   "metadata": {},
   "outputs": [
    {
     "name": "stdout",
     "output_type": "stream",
     "text": [
      "[('https://www.univ-littoral.fr/lisic/sysreic/pizzaiolo.xml#GenerousPizza',\n",
      "  'https://www.univ-littoral.fr/lisic/sysreic/pizzaiolo.xml#Napoletana',\n",
      "  'https://www.univ-littoral.fr/lisic/sysreic/pizzaiolo.xml#NonVegetarianPizza',\n",
      "  'https://www.univ-littoral.fr/lisic/sysreic/pizzaiolo.xml#RealItalianPizza'),\n",
      " ('https://www.univ-littoral.fr/lisic/sysreic/pizzaiolo.xml#AmericanHot',\n",
      "  'https://www.univ-littoral.fr/lisic/sysreic/pizzaiolo.xml#NonVegetarianPizza',\n",
      "  'https://www.univ-littoral.fr/lisic/sysreic/pizzaiolo.xml#RealAmericanPizza',\n",
      "  'https://www.univ-littoral.fr/lisic/sysreic/pizzaiolo.xml#SpicyPizza',\n",
      "  'https://www.univ-littoral.fr/lisic/sysreic/pizzaiolo.xml#ThickPizza',\n",
      "  'https://www.univ-littoral.fr/lisic/sysreic/pizzaiolo.xml#VerySpicyPizza')]\n"
     ]
    }
   ],
   "source": [
    "results = pipeline(inputs)\n",
    "labels = onto_classifier.getTargettedClassesEncoder().inverse_transform(results)\n",
    "pprint(labels)"
   ]
  },
  {
   "attachments": {},
   "cell_type": "markdown",
   "metadata": {},
   "source": [
    "## Explain results"
   ]
  },
  {
   "cell_type": "code",
   "execution_count": 9,
   "metadata": {},
   "outputs": [],
   "source": [
    "num = 0\n"
   ]
  },
  {
   "cell_type": "code",
   "execution_count": 10,
   "metadata": {},
   "outputs": [
    {
     "data": {
      "text/plain": [
       "<matplotlib.image.AxesImage at 0x1680530d0>"
      ]
     },
     "execution_count": 10,
     "metadata": {},
     "output_type": "execute_result"
    },
    {
     "data": {
      "image/png": "[encoded data removed]",
      "text/plain": [
       "<Figure size 640x480 with 1 Axes>"
      ]
     },
     "metadata": {},
     "output_type": "display_data"
    }
   ],
   "source": [
    "from PIL import Image\n",
    "import matplotlib.pyplot as plt\n",
    "\n",
    "img = Image.open(images[num])\n",
    "\n",
    "classes = [pizza.search(iri=iri)[0] for iri in labels[num]]\n",
    "names = [c.name for c in classes]\n",
    "\n",
    "title = str(names).replace('[', '').replace(']', '').replace('\\'', '').replace(',', '\\n')\n",
    "plt.title(title)\n",
    "plt.axis('off')\n",
    "plt.imshow(img)"
   ]
  },
  {
   "cell_type": "code",
   "execution_count": 11,
   "metadata": {},
   "outputs": [
    {
     "name": "stdout",
     "output_type": "stream",
     "text": [
      "This is NOT a VegetarianPizza because : \n",
      "  hasTopping SOME SeafoodTopping is True \n",
      "    found 4 AnchovyTopping\n",
      "\n"
     ]
    },
    {
     "data": {
      "application/vnd.plotly.v1+json": {
       "config": {
        "plotlyServerURL": "https://plot.ly"
       },
       "data": [
        {
         "hovertemplate": "x: %{x}<br>y: %{y}<br>color: [%{z[0]}, %{z[1]}, %{z[2]}]<extra></extra>",
         "name": "0",
         "source": "data:image/png;base64,iVBORw0KGgoAAAANSUhEUgAAAOAAAADgCAIAAACVT/22AABweElEQVR4Xu2dd9wdVZ3/P99zZuaWp7c00isQQkuQFoQIKgihg0IEy7qr6yqu6+qKZQHLrgqurq7u+lPXQllI6EUQpQpSEnpCSS9PkidP7/dOOef7+2NumZk792npwPv1QO79zpkzZ8753NML8C7vcgBDUcO7hFm9/PAqtz5N2iMlTUg2lKtJgKQmKI+lUF70HgDIGaU0WClmzUIYWhsmaSLtsseiMaXXuO4Rl74evvFdQrwrUADY9JtTa6qE53kgzUQEAjQYDAhoAAwATAAzCAwCAUKwIJKCAJ2PRwb7zpkAgJWGZtaaGRAAswb5l0AAgwWgAfKfAJYAgw0Du/oGZ3xiS87XdzDvUIF237w4awrW5MuIBECA5oQpDAnNzMwAmAHWzCh8A2vOiQ/wHfk+5D9EBAo/iin3gcAgJhDARCCC8D8A/ldPseMqQaxBAAsBaGgBuIO1y7bmHvJO4h0k0F3LT9WQApyTGmBJmIZQmrXWmlFQoq8w/y4qiDCfyYXkmP8whEBz9lxcF3zO+x92A0ASE0EQhGApyJesr2kQG0Knavrpg7vyd73NefsLdOfv30+pnCxYczIhCNpTrDUHs0D/n0JRW7Tsc4FS2A0BglgIMiQAnbGZCEIwFCqkRW/3KuzbWaDbbl1iCAPQAJKW0Fp7ypek9h2UEYf/NW/Z3wLNW3w0EQxJpmDbZc0MsFJUu2xD3sHbjbehQLcuP0HqahJM0ElLqrwug8ns/1NGHP7XvOUAE2jB4ivVEJxxmKHBVCUdurQ57/JtwttKoG13n+vZWRCkINOA42mtC4kdn8x5S8RN4K4DVaB5CwuCZZCntNasmKtSCTr/rfzVg563iUA3/ebUREVCEBkGgeF6upCWI0zmsIWJWApCWKBK+6373RJo3ufQE7X2y+uCJReMoBsAQ4RcgE2DCHCVpxkVaYfO3Zl3cxBz0Av0sWtOPfTwJEmSAgRyPOXbaawCtUxhSgwMugwCQJpBAAHEBlEiAU9p1vBUQUYYiUANSVLAFMg6WjGDta9DEux7UJkmR7Hj8tgEWrBYBgNQWrOnUxNn0pIn8i4PSg5ugTav+JAAGwJSwHG1n9T+pTEINGEK1trJsNEi1WambZIzGh5DABahApihxAStG5RIcsoSfi+A42nmeIESsRBkSiJwxtawCR3SbSFvc5L7iR2GYkhQioypjjXdowm2lYIUXPIuw4Q8bNEEWAaUZq3gKVX90YO4YnqwCnTD8jOSbAoByyTH1cX+ojEJNGGS1uz2gV4jvEDIMgAIMCHXM+r3kDJAgEkYx8Zhiqe5soohkDBJCjie33UFIdgywBq2p9ghPUi8xXDeNNQuAy6YAcrlyrlgM1gDIEpyYqGdPGrQqtBCwnaj4SwNedm3YyZC0iDXY81sZ+26TxyUXacHn0Afu+bUefMriXTClLardC73Kk2wEQmUCJVJOTio+DXivxDZzLIYK4y8QAMPyIlVA4KomuUcjdmuqGZtacNiMDyHhSO4h3i96WwjbpesGP5gVSAQQKAfNvcsQAEWpd47WHHkYDqN/qzm0fU/oCBQAAQIQsKE7bKGTveMp0+/kHd2cHCQCXTjrWcnJRmSmblQCxyzQP3GL3UQPUDcxpAlAkKcQIOfdS7zgwlKMpIMZs4SZ4ldAAwBiDL3lgo0/0krMppU1dm9ssE1DXK9wruMWqAAADYkCWJXKQ1Z+ZGDacj0oBHo1uWXEAYNQZYhbNfLJ20hGUoTbBiBJi2hPK3XgP5E0Mwi7LrweWiBFj7ng+P3uALFdlPhYsznWIH6nzUgqOKM/oojMqbJWce/PkaBAiDihAnlscecSuuDpY1/cAh02x1nC00Jk1y/ngf/D7moz38oWDCkQKVgU5LTz/gjxHqGLCMmpbXW0BogEsSCIHIqLroJf0ZAc+XcMOD3KkEzswYRCQHpN+YDbgAwWJE52635YHeyil3FSo9doAADbAiYkhylPDYOiqz0QBfoql8sHF8/URKZkmxXoSjHQqSPTqAJU7BW3g6I+4EehhFwUXDtecwsx9fT5HGiqoIzGd3Rq9q7dXcvFEhKljKS+AXKCpTBSkEplpA11XJ8rWysoWRS9fR5W3d5u7qYcsPt0Xs9ohpVu7Q3dYgrSGdd/5VL37dgGUqgviVpwvEYUInxLbQk5+jA5IAW6NblSw2CaQhPaZUfExqbQImQMAiAl9X0LGglA3HFutba84x505MXnZ08+URRXwdB0Jo9rVp3ums3OC+87L7yprd1B2dcEJEhmUQwFkMCZYCZPY+ZKWkYUycljj40cexR1pzpcsIkMiSEgNKqqzPz1DO9t//BeWsrGQZESW6qAVBq0WDlSX1WkgG4XqFfv/C+hZuGFyj8vjkJx9O249Ve2ZYzH3gcuALdvPxsk0TClLaj/N7FnNRyH6IWf+DHtwgBy4APgR1XK8XkgTfCeJLRqyMZZ+6D46IqmVp2XuqSS0RlHeAV6nwAAAkIQHOm192w0V75ovvSanf9Ft3dz64HBoQEgZnBgFZMINOgmrQ5e1rimMOS71lkzppJ6RqAAAWdG1AAACEAqfs6+pbf2XPTfbovC8ssXCwG0oOoUpWn9iVmZYXBhiTLpEIV2VX+uC78MCtViBnEChQAgZMW2a7WoPRHduSuHGAciALtvv/s/oxJQot8RJfK0f9sSAhBliTlcdbzAAK0ZOE5LLSGBjxYGl4LjGbQZqBfs9CRdAPAzOw4xpFzKr7wGWvBsYAH1oHrEQgkAQGdUW3t7rp17oZNqnmX2rVTD2bATOm0nDBBHjLOmj3DnD1LNjVCpgENVshVIuN8FgIk7Fdf7PzRL7OvbiDLAhFCTpk1syJZqa0ZrjXFTkxwldQkGRIklGmyJgAahKQkaUAp1hquKjw0MkjLACxJijU0W9qiA29O9AEn0G13LCUlE1auqV4aob5ALYMYUJ7mfjZ7wJ0smpkGmWxNLpNNrAANKLAvcYLfE8lczBRzaa80k0qc9/6Kz/ytqG4AOwUH8UoCcvkWEUjkc1YP3iArBYCkhJEE/Jl+CqwK+VzYvzjPpaF7Orr++3/77nqUISjUeOJc/cEfKNWU+6VIhgCZLCwNA5RkkdLJqYNmvRK1rlXp+RVmx9OxAiVAEFsmsi5YqfSy1pyTA4MDSKCPXXPq7CPqJcHIDaJwbIQaggwJZ8AzNrL5khbtCgpgf2wRABCojoU+A0BUoGw7oqkm/dmPJc9eCgAcKHlzxMkIKGqugL90Awz2u/KDBGUW8ymEJAD9993f+V83qfZeJKz8hbxA/S+BT8HPGoA/ng+GhNnoVSzsq5g5kKpkzex6xZj0/+//4AFOmORp9jydequVrsv5t985UAS6dfnZIDNhCFXsTGGUCNQyBTss1ivrcZcGmAX85T4FF0N/BgICVUorzzjhqMqr/t6YdRjggLnEeYE4e1SFPuU8CRuL3+IcE0OYzro3u37yy4FnVkNKkhLlBFruMzMDrAFNRqWuXdJdfWi/YSLrFELICAgUgBQsJXkeK9tJf6yr4NN+5IAQ6JblF0hCwhS245fHhegLCTSdENl+L/FHz1yviqM+kdbskJ8BMGsoza4rJjYkLr8gdeEFZKXBbtBJ4HOBWGPx6WFy6V1C2Fj8VsaxNNge6L3zvp5b7nW3dwjT4FxD0L8cdBr3OSxn7VFqlj1uaWuqkjN2sSocFCjABCQscj2tmFMf2f+t+/0s0LX/eWZiYtIUUgg4niop0IsCTSdktteruMMVrYrzLXQGRipQZmhm5TEr0VRnnn5K6sMXyUkzAMcfrAwTqxiUtcfLtNRbRH0IKigGhiCQ6W3f3Lvinv4//sVt7QYT/IFLGk6sQYECDLBHifHe+Et2pmt0xmbfbUSgvsUy4GnWGltbq+d+YX3Am33N/hTolpsvlBbM3PiQRjE0hcjKCTSVEO6gSt5qy3bNuc7svLtcu4HZr/kxwJqZ2e83JWJBJCQSBtVVy9kzjOOPsU46UU6YCjDY314hVknIB6OUEnu8QBFI+HKE648xMMCQEhDejm2Df3128JmXnfUbVWe/tl1WOvfiELlly4KYiAggEQlWLk4VmU3uIZfvTFbk8tFYgQIsBQxJjqczimr3X8tpvwl0660XCoMsQ2QdXyWFqMl99mONgKQlnKxO3esYmz0YoWRkAJ7HngfLoIoKVCRRU0FVlVRRISprqKoSKRPVaTFunDFtJtVWi7pGwAC8ksZQrJJKLRHCDuJlGutzmOKNsS7zPkgJGICrOtp1d5+zeYPX2qZ6Mjrjqf5e7utRAwO6b8Dryeh+Ww/0s63YMEhGh2fZo8R0e8KFLYkEbNffcqIQSEZRsgCQsOB6rDUlL9s/Gt0PAl31i79rqu+QgiUJ1/Nb6whETe6zH2uSSAg2nvOSTzl+yV5MQ2Z2XRzSZJ56sjx6gZw9S1TXwJQwDBISMAE/s/VjXwOc790cUgchy7CE3cRotNTbWEaWlQIAQQqAct1mOVxoF0qxp9jTuqfL3rBh8MU1/Y8+62xvJ9NCuDdDe1R7anfDCV2s/SAXPGeEBQqwaUApaM2Jvnb6dN68r9jXAt18xwWkRcKQnlL5kY9I1AQtnE5IZ5tXdWuW8x2C+X8Y2pPnn5n8+MdE4yQAgYGf/O25qI8l1l5IJ//zCAm7jJarI/cneG/sXeV8YwB+r37g/xLQqm1nx69u6r7zUZCMNLBY08SP7qydYmdzlVHfZ0aJQAEIAVOy67GrUXF5R/7SvmCfCnTT8ksMAcsQtuN3o/tEoqZoSZikBjj9f1nZo0Lj5sysPevTVySv+Hiuk7x4MZyEuW/l0zVKMLVGTuShhTcarT+Fe1Hm3nJ+xhr9WgF3/u/v2/77NgiZk6/vi4ZZqyZdsSOV1vleZ/9KjEABCGjTgueBma2PdOav7nXyyb732briEtOAISmb60saBiFIeTBfdI0uLxpMxzE/fG7yik8ACKgTAEV/crlvsb/DcsZY+2ggKq+k4Si2zWODUS54sUZAedBc/8kr6y87k53gCBlIwO00up+v9RTnZxEOBQOOA0MSAfb/1UUv7zVGELTdhpdfsnnFRUISkXDy62yGxTKEblXJ5x02wrHvuLToiOSn/g6guAZ4SRLmDCHj4GAGgNYcdQyMSVh7xJM8uREpxHkLgMqkWsmL+0ZmMBo+84mK4w5jJ9jdCzK457nqTEvCjMRweRzXnxZL2ZvreXn06t5gpCEbMy///qO1aTtpytx0m1y9EyXzNQuFCwBOmNIZ9Kpuzcgu7SdH7jaluKYi9dMfGDMPB/zojpVCXAbGAPjG375y6Hzjzdezs2YbO7arU5dM39bccewxswOOSkU/EgKP4zF7EiBaly0l9hGxLgFpOmvXbP3sN1VPNjQ5WsOoU4csa05WaNvNRRoBAX9yH4rpxSwEDEGe0oY06NK925kf+1vcY6xdfkltyk5ahuMVmkTDY0hyPZX6q2d0qEgAWSnrYx8OqBNlfmNx2QkBoCVnjHvrdaU8bN1kPviH+196RT2/auejT25+5InO5u0tTz425jVlwceN9E2HoiT4JQRb8QXiXhyAcq25RzR88iKObLcr4HQYnU81ui7ys6WHR2u4ig2TXOX1/X589PIeZS8KdMvtlycEpZJG1lEx3S9lEARDkFynky/Z0cLdduTxR1nnXwhEejFjU4VikpAwYcJ4KY1EIqWUqq6p++AHpk2cOFXKpmSyYktzHYDf/PwBZnbdUGlYYMP6La+98tZrr7zV09MXHqlBmWCMGcr1vefmTMX6XO6JcUbt1V50fuWJ89kuKehfrOxdW2mQCDT0h4EZrsOmiaRpZ26uiV7ec+wtgW66/TIITlgyY5fODyqLaQhDkNroVj04mOvELKA1aiutz32GrIoypVts7JYkIWHmHO26ttLer3/z71WVtd/51me11raddRx73eu8/rXe3/ziicf/0tvb279zZ6j8sm37lv957o5fr17+y5fvvu1p27aDVwOM+Oc4cqjkRXIMYQ/DmhIV4676lKxLIzdDNAdJbn1gXNf6lBDCzA8jjwTXgWGSQcjeXBm9tocoeY09webll5CUlintfK282E9cpg5qSjINyg56iZe99F+zvotgOmvHtr746cSlH80328uJINaeq135uK63/OYXhUy3t7VUVFan0hVW0qof1wRASLlpzdq+zp75Jx6TSCSJqKl++8Cgc/SRs3/wzRWZXqmUp1kTkRTGV39wdjKZLD4kB5cMU+05OPQiYWJ/tCWOZaLr/25sueF3ZOZm8eVcMMCoW9xVu6grmYL2tJt7iZL0ypcbhfQxTa08KBaJy7tybvYcez4HXX/HpSR8dY4onQxDpBJSK3ib3erldsVT2dJMgW1bvu8k68JLAoV7iaMc5YxFu2kax53YVFHdX1PbYBimnc30dnUP9PU5tsNav/H8K83rNwOwHRtAW+ch/X3uils3APA8V7MGwMxaq+Ztu9av21Lwdp9Q7q1RJilLHGun9uKLq08/ju1QrxMIIO54om7bTVN6NiaVpkSCEiYFZqSUxXUhDRC0fWtF9NpuE/tWY2fT/33YgLCs4dVJhIQpU5bUtvbWOdUrBmtWDBrtXrTeCcBxae605D9eRUaiJEsocQyUNxZfdu68GQAgHJ1fG9TR0gqAweOnTkpXpqWUYM5mM9lshow5TVMmzTrqPceefmLBB836pv9a9ebqrVHRRCumexRCvqyPfcfYqmo0eGRa4//ps8l5h0R6nQCQwU6b2fx/k7beNLVrbdrJgoGENbxMXRemCQnJe7qsH+7Jo2HTXR+GEglTOm6hqZgrF4JFvC9N1/E4q9PrVeIlW3YqFjn9MIppzABcl5vqUjd8V86ZH+6TD1JOE7H2XJBc1+vu7vnzgzsB2E4WgGmZWunXn3n5mNNOrG2qNxNWsBkkhADQ3dbBwAt/ftqQ5pS5yb/53DkFB7nHsSrz3D3H7o82SSv7xmvN//Qtt7UXhVpn4G1ZE2sYVbruuM6a+b0yqUyLXZeZi08PVMFyUWqarDw4SqQ/2p2/tLvsMYFuXX6JkkbSkllblQbdtxAhIYXrajHAiZezqVdtYbOW4V84AgJ1HExsTFz3dWPBwkDhPlzsF4k1IpiEr776Vltr385mk5k9z2WtN726bsL0QxactEhpxeGuMV+jXa0dAF554tkvfuvMmprqoAPAr4CWe+6eY09oNPPSyu3fuMHZ0Un+qpJwrwTDfxsSFtce01N/bJesdE0LrqMHstjaLlQxcvKpTCBDe44nBY75ykD+ag6SRpkxK/aHUKNmAHtKoGv/8HlrsD2RkFlbIe63Rf6yYIIY5NQLduqFDDzNkoJOfRgAM7Rmx8HRhyX/5Z/lzHkl/UrxLxPHEEmVsz/y51V9vU5fT1p53qbX1lXUVs5btABAdV0tOJJqgC9TIpO2WRaOWzQvchXslXninmXks58iBIzSste90fLvPxl4aR2ZJii/egZA0B1DKyIDDe/pbjiu/flm/Ms96c06qQWFVEWkBtw6UTV9+jT/7vw2KLnLm7ZsrezsrhcyEiwP+k0n29ndoZ1s+AqwpwS66Y7LEoZh50v2UoEmDCIFbHBq/tgvslrLwmheNBZZMxybayqNi5aaly8TlTUl6kTJTUPjOy69JZSEv/nVkwA2v7q9uqGm4ZDxrHX9+CYiVNXWAjEytawkEVVXbK2qTE6f7k+nAoB9J9D8/4pfYxiuaS9N3dfVeeP/dax42OsaINNEvi806CMD8HPTpL6iq6XztInW/Cpw8EcCMqj7hbbzrff+4uc/LloDfOLzX1x82x8uT9dkw6GVoLtgfyHT0dO6PWj3GU2vVxk2rlgmhb+qNZ5UQtoZr/LJTMVLWZaIaQb5aA3X5cqUPH2JsexyY/ahAAAGqDS6RkPhcZEb/dZDLtgf++RirfXPb3ikdvx4rTwS1NnaBoAZzFzTUAcgWOI7TjaZTPUNTq2qbG1v72psrMtfiYR2L0FAbpcycP5rDCJOo8XboFxRWd342c9WnbGk48YVvY+v9PqyFJjmXIRABrNL27RZOzMNhNS5OzD4VJiTzGRP9Aqw+wLdfMcyAhNEcDlvENMQdlZVPzSYeitbVpqegvLQWEennJA49xzj0CPCMR6I0LHHyjBJKIiElJ/6/Cm3L1/LzEQkhNBad+5qqxvX2N3eWdtYT0TBrDSbzQDY1tLo2pnTTtF+DXVPFUqjJxhLQQTAcfY8WgM6MfewSd/+ev3rr3fd+UDfE8+7bb0sjcJeUUVyP+qxqNPxPH+DgMitDKjysbZbAl21/BKtkbSkv61XKUQgjcq/ZNNvZrUZFwbXY2hMO8T44BnGGWeIQ6bmL0Tewr83/jcwYsolFRXWzVmWuf2NzUp7k+dNB7lSJojQ1doOwHNdAI0Txuc0SrkamOvYJOQjT+wS6Dt9yVyQGHJXkr1ASJmxv8NY7YaNygVR8vAFEw8/ovFjm3sefrT7wSezG3cAgkY1uFSesxcunHLP4140GMOwW8+ug5VMSDu3qCiGyoRpr8tWvjjIper0FEPT4bPNC86Vi08R1XXhy5GI5t1WZ4HYJMxhGMaUOeaG1+xsf/Pf/MPZd6xYaZicHawgEv09vQBcx9FKj588SZpmIUMlEslkfdLsW7lq7XGL5oJkfjneXiX8IsVvsS8Yq1GEHDNDuQDMKdMb/+ZT9Zee3/v4X7puf3Bw9SZGcee9MXP0jOmmYcbPcCxPSVVjxKxfscw0aIiqZ8IUgwNezWODhcnwRRwHk8cbX/9S4qc/MT90bok6fQrvsWfVWfh/nnDl5MhFM9O1mDSl5sF7n/rI5ScCqK3PEFEikQJgZ7IAdm7Z5mSzA339JIiItFau6zhqpqNmZrIukO/U3etQ6F2KH2MlEHZcpMSoPChHVNbWLr1g+v9cf8i1n01MaYjMdx4DP7j77iezA9awnf5hxhiPG5ZfIoiFpHKT6AjwNFtvOGanh0iYXJdOPcH6yY/Ms5ZSMh26FMW/Mf4Ru0c+tUqqzkcefSiA1X/tPvei0wBcfMlJ5yw9YdIUZ97hZJimEMJzXc26ZWtz246d3e2d7TtbACilHCfrONlnnx985LFNENaY43b0hDWa+xaUo/+Zyv9ygo7zaA3lUDJdu/SCGf/z/Zr3HcPubmm02HEzGmKDOzyMRNIyh5geL6XwsrryFTu4VgsAHAeLj7Ou+VcxbkLIXpaxvNVoiFH/Rz61+LTzpz768LMFy2mnHTtv3vSd67bt2riDmZXjEZGQsru9o7+3r2VrM4DsYIZIGGaytla3tHRCJEC7WyyWEKckIGosfit1T/B3ZYkhzqgZyjYnHDLl21+vee/RpaOje5ux1EHfvP0ygeDO/jGYhkCfa7Z7LAMaUJqb6q0vXEXJkc8qiBHQHqOkd9NnypRJU6ZM8veSKFBZVek6fUoZm15dN2n2FNdxU1UVQkqtlGPb2zduZub6cU1ONjtp2rQ33rJ3NL/+8nPrP/qpD4Idq7Bb6W4RVFtpyCnOWA6/76LUfawnBOVSumbCl/5+8I1/wdae6PW9yVgizmSZTBrZ8LzXCErp9NrcoUBFq+eKsz8gJk0pWkZEaZTtKYbyOd9tlKOrs4eE8AY9pb3mtzaz1rXjG5yMPXHWZAasRFIK2dnaJoRcv+Z1Zq6pa8hmar73L7drbRx9Uu261R2fuOo0AIEe03KUqsSPw0JM+h9KAx+4sdSPKKPWqDVlVt05p+LnN0Yv7k1GXcRvuPMKIYRTvuUOwJDCdXRyk1MYlgBAzFyZlmecEXA4Ekoja08xGp9J1NXXXvWNc4UQ/tweEqJ7V8dg30DzG5uqKvuOOa7yzKVTzYSSpmNIE0BfT1dXa7vjaIBf/msXgJ9+64k3Vm/++Q8f8JfslYdAEiRBAiRyH6LlLwGlRt9OwAhfLtYHlDEC4NoPLona9jKjEyhfcw15nDBFmaZRDikINhvtoeXC7Hk0Z6aYNr1o2j8EY3/I1yghXZEeNyVhmblJyoZpERFBApg5czKAyz96Qk0NPHcXQFrz5EOnT5433XNdz3N7OpXS3qN3b9u11f3+1X8MeluevNqAaEMzR6wR5e2l+EIvJc4H7SVmzIwa9zKjK+I3HbVRggpH9JVDCCRaPFIcGjrSTMccSbK4+/r+ww8VAzQyjRaFcsKSeffd+Nr7zp+7bvVOANs3Dk6ckXjj+c4Zs9ctOv5IAEvPOwnAd7+63BtUlQ1VPW1dudmUBCFICLHo1IbjTvRHccuhwSJGkfmhgTAC4JG9RSx+DMR6UhI5zDCH7nXZ84xCoHzNNZt4k2mK7JCTkYmgFRItHoLvx2BTyKOPKbobKb44xpwAQ+BXwkaBEOLY445IJM35C+YteT8X5vG+uHL1nHnTgy4v+9vjAfzuR08BxNA19eaZFx/+1ppm/+q4cQ1Bx3Ho/MZSYeI1Wvi97Q6xnsQa9ymjEOi6ozaaPHz2aUiRdVTtejfUwaQ1NdSJ6dOKlgOCEUo/lJnNXzAPQHCW+bHHHVG8DACYOWvaA3c9Xj/RaN9uA+jtch+4bc1Xv3t+xNlQMEBxwdvXGkU4lobKm/YGsfWPGJhhaLJMWTrxLIIQJB0t+8JL2rXClImiaYR9n0H8HDQkkT3HyLwdmasIHzr/1Ku+dimITcMCyM0Yw0ZdHHHPJoqpAIBGnprlKRfVeWO4620fMNJX2rjicgaG7vv0MaQw2zQ5YZdKiQULQpZREBtlYyPsFYmRx8BoISIi+ujnFi84uUlKw/Xch+57JupoGPzQjur1yzXMR86QGmUGA2Jso0I5r0v/gn3lEUaaPCzMpCUDs/zjEUS27SXXOaEXYGbLoMMPC5iGJPozLbzI7lDwIewPlRtWyRPTxTMK5h02C0BVHRHRYUfNjl4ui79ZQyG24wIQn49iD8VVrDAIoOmNE92Ng8BYNBqrHgI9AXeHGzOdHiN8k9fvWGZpaRikVO6AEwAA+08MWixTuP1qwu+7RDZwzLnyUF9j/OaXom7YxoHvq0awk5z9YOrRtmnCRN40HFe5hURBI+VVgqjjUeKX7NdedUuiCl/77iXIneA0BBT42UQeHReS2JrDqKf8xTqOxAkAPLvq1S9d/W+benZoGV3yoQdDSz7C0KbN0SUffna3B5Z8bLj9ykR+JfHQAk0nDH5psOHhXr+DKXfBtrHkJPM736Fceo+ZsWm03DuWRmIwPYJ3lbocG+wvCLn5llsrKtLf+u73//Log+vXbzzqqGAby/9VxKoz1gIAY9Fo4f2KTmIdB+MEAEA02D/w7D9+reuvq4sHTgKsxLjF7VVzu9jzCsHJa4MBzi+aYwDChOfwcV/zZ58MtWhu+Fb82j98nvt7IusbY0lYMtPlTHhmgGVIE0yQp56y2+pEvtwZoUb9MBQeWhLRMSKgOOPwLz5yvnL1N2++5ZbC13/66jcTicQP53/XNEfYPVwaPADIlfWRNCYB5Lb4jhJMHyr4V/wUoOSJzOnquoUXfmDLS28ivz0JAGaI1eNnv6c31cBepuCj/8GPfA1o3yIMKE/zzQ5dWvAgnuFFIwf6DEPkz3ssi2UKL6ua/jgg+4uHYQKA0pg0Thx/QsC0Owiwn8GEfgMBCBCBv6A99pZyxlj72Nm0aXM2m733vvsAMDMzK6VeX/P6Sy++dOllH426zlEuGLFGxFVJRb6WEoB8bwOOix9LfUDUMQB4lSeeYB3SyEFVEFRWbP/DFG+QjOF+bqxARHBLNw6KUhL6GNg0ROzvsIAhCR4qnssmttjBDmYC4DnizPeLmrqiNcKQPsdAArnjMUv/ZOBSKaUR7RNrRHn7GJk1d25vb2+ws+mtt9a2tOx64cWXi45iiA1GrNEXX9SUH9anknbVWDWqlGyYUH/2aQjvAUiS+zelWx6boBwx9AR8ZggTXuyjwsQmZJENt3yEwe6Qe3ZbphQeEs8O1jzXH1kWx57iqZPk+RcEjVFGEMo4qESdIuxXrL/hiC4Sa0R5++hYuXLV4lPfG/FNCGEYRn9/v1Kqvb09eKmE2GDEGhGnUYzoxYsfy7kMxDCr+ovPS0wfx16o654MbnuhYdczTa4rhslHFUiDfz/MxMthBArTskypypfvlinZ0alnBmuf6Ysu2mRmYvmpj4uGxpB93+GnSiS6/YgupdTlHmPcuHFArjkfwe8ubWwcNopiw1YmzPEaRb4uGPkLUIiwaF5bIP9ErYymyRP/fhlEtJorDN3y9LiWJyd4LslE8EoIVpAWYA0zSz82qYowhtrVNJ00PEfXPNBb83w07wQAxxGXLDXO+GDUvtv4p16PhtKELPfiEWcxkhotrusuPf+8WHUW6OzqDqgjUhQUiDUi3h6V15g6QGJqBQho1Kk580PjLjtLlyxXEoZuW9mw+Z6pyoZMxgXPj1kBrcolRI6hLq9b/lEi8sqMHqWTRmZQNd7Xk14ft+A9m+XTTjL+9u+i9j0BxW/xMyylGi0J9l6gXAtdKeWr9pYbf1dfVx8QKMrLtNTiE2fPNYYQk1OOlliNMgMY/9m/qzt9oc5GuzCFofvWVm2+c4Y3AJmICx4ADwxkfls+mx1aoFJaiTKjRwlTZgbdpvt6Uhvj1GnbfMKxxr/8y3Br4sYE89C50ZDERXSUWOPYyWQyHR0dQYtSOpvNLl58cmNjY0NDw+bNW8s8MTYksUaUsfMY885SYjWqtUhVTv7Xr9acvIBL9psmg3s2VG66Z4aXQewsS9aQFsyh9FleoNdccw3reCVYpvBs3fSHvtSm8uq87lpRUxO9FCTO5xFBNNYcNJbYdEUZ41hIpVJNjY3+7CfXdY8++qhvf+faGTNnzJ9/eH1D/Y9uuOHKK5YBKPPE3QgeK8AfIdtDRIt7AgSUJ2sbpv7bN6tPnM/ZqEaFwb3rK7fcO92zY2YC50Kmma8JXwhQNqWvPGo7CKXluxDEjPRLA+n1mXh1vvd489prRfWQ6sSIYnhfMYQIYu2jZvLkyYXf+oSJEwCcddaZd99z72033xRyF/+4csEY0rhvdoEEchqta5r2vWtr33eMLslHham711a3vjAOHBrAzqFABMwtdvhHiH1JAFh3xydTprCdwl5tubetTEpvfWbiHZ0sQxHAAByb33+q8ZUvU7oycOUApFzKRX+NAPbIDEilvKkzZgJIp9MTJk6QUgKoqqi89647gvNK88QGr2CMXI1zPPxw/+4RU7AypNT9Pc3fvb7jwWf942vzFwCAPcy8eEv17B4qnviSuyIshk20LKpsn1JJA8Dy5ZeQ1qXBSJhysM9r+nMvh7aSBBhwHD7n/cZXv3rAqxPl86TY2Ih1OTqkNO65887Vr7zsuu6lF1188oknPf7nP913911lhn9jg+cbqaTxVOKSee+qEyipjwIgKCUqa6b869VN5y7Wjh394RBve2iSyggqKejB0KFN2ULEj8UfKyqAmPJda65akzW6S3aSdxw+8zTjS18ia/jBqwMGist+BMBhe6yzUbNo0SKAN29YVzTlPB6D/75SC6kT8WEPZPljgqAUpSoO+dqXlac6HvirSBSbPyTY6TXbX2uc+J7W6Pv6hfQtFhDtrkKZPANMnLCMSBZqGdLLejUvDHBkFMtx9AnHHmzq9CnNCZBP/nJfR0K5W0rsOUM5x0MTTLu8z0PPYNqTxAaPoBQlK6Z87Z9rTl6goyeG6bbnGr0siXCuyAxhQcXkykCsQJcvvwQsSl9TSkq0KNnvhcKmNI9vlF/6IlWMsmTnsewxuReIjZeIkmK7JGMJ3hh7i+8gfIkK9iAjiZ3ILbTXC/cQpWEG4Jf1dVO+elViYm1wNgkR3H6jv7kqshzQf08JHXs6bYxAj0E1AZHpS0SkPJ3enI0GSbl02cXikMlh6wjg3H8HAKWxDIDCkSNGINPSq2WSsNSYM5TYhyHiPlI52ZsUn1waZoLyrKnzxi8719/PMQD3balAyXZyUNBANhvTIxojUBLaMmVk2zpDku3q9BY3FB6leVwjLVkSMI0YUTqGth/xRVP4KxApRn2ZluJfKvc6sfYSf2JdDU/wtn2ZfQ6tUYBV7fuXWOPqQscuCvRuqtEeRXdV0xAGJWVM+EuiCQAQ1/cBAmRWcfCSVjxlkmgcV7QcGHR2dkZNoyOi0eBXCszo89UcdBATbwDyLv2/AiWaJv8/Gk1GWO6JIVaufCNq2iMUH14SDFbGuEnJaeM5sMKMiL2MLG2wM3wPSi6UtuLX3vEp1qq0/Q6AmIWjORh7zGiqD7oZNcyjyEc5Jh4itLe3ff2b33jgD/fectNtmzdv0kpPnjLljNNHuyEUwiohAJ2dnavXrN68ebNWavKUKUccccT4cePiwu6bgnEdceT77DsocZwzjEqjIuBhDDf+bu2hh2Mwk335xQ0nnTw/enksBIJX/BgOMwOSzMaaSKepcgKntAZR0Ay+EXRFyBwVKJgTlnRi95wvtTFgxdQbRsEINDdCXNfdvHnz6R9YopTHzJctu5SZGxoa6hvqjzjiiPHjxscWCyOhvb3969/8+gN/uI+ZC352dXVNmzLtX7/xr8cdtyh6AxBIrdiHBnVZotE8ruv6E03a29uHm48X+xQAaG5uMczBt96oWPfWjukzoHXhsIfdJKxR+N8ivyuiZCJsAADWMT8/1hAmwTWBULU1GlbBLMolZOkcaQJKprGMjvJz+WIY0u369eu/8tV/SiQsf19PX0wVFenGhoYPnHX6ueefs3Ll89F7hoEArFu37tjjjr7/gXu11kE/zz/v3KOOOfLLV3/569/8ZmQn0Tw0ZIiDVymaEIQ33ngTwAUXXzp15hzf1tnVFXITJf5xEyY0gWs8zxVEWzen//zYYFvb0P6MnPDjct+CwWDO2iFXvixFVJ05CDoyABSJl/V3fAYEr8z0ZCbSZrj7iQgD/YHvu0FpxSTCkNdfeeWVH//XDe0d7T09PYWcUmu9adPmxx57/Pzzzj3qmAVfvvpLX//m18L3DYPrul/56pcSiURBgkTk+/nAHx6cOnXKlVcue/KpJ372859HU2tERG4ppsXAQObHP/vZl7569eo1r7uue9TC90yePivgshwxYTAMqVWfEOK5lY/86c+3b9z0xrbm7kefjDkya8QEnxKrUQAEAjSr/sGIG2lw/PAZAAXB4N+HbCG3nusYUnjlF3hoKzwAD6LeweD3scPDSHBoZs+eDaC3tzdYfkkppZSmaU2eMnnmzOlKqQnjR7f3zvr1G6ZMmzJhwngVmCItpUwmk83btt991z1PPfXXlp0tP/zRDwFEU2tElGqUAJxy2hIATzz+RE9PDwBm1lovOHrh72+8Oew+QkmrC3Dzx/8dc/TiFXf+z99/+sxtO9KMWjtyHPdIifoftQQ1yvB6w/2SDGGVTWbWgEEIr2YKCdSQMEqPGMtDRDpJgVXwAIF6M6UTAceCv5vKWGVaUVGx8vkX2ts7SitYUoqAkq6PXB0ax3Fs247o3kdKsWrVC/fde39/f79bXDtWmn6jhQD61298/f77Hti1q7WwXy4ArfX1//Gj3/72xqDL8BMpWlUATNM47oQa07B6ujsXHXvaokWn1dY1GkZy1SuJ5u27Io6HhPLdF6XvGA5G7iNpO+P1ZoONYAYZKS98JmgYCR0+FKb4ZfXyzwJQ8dUpeEonJGUnGOEiXnB/L3e0Bky7h/+mvky1BgOacxtQlEZLmH/9xrVRU544JY2I2bNnl9M9AMMwTNMsaXsNF9DhuPnmWwf6B5lZCBF87rRpUwH85qYbW3btKvuUaAcjALz5ZofruTW1DVde8aV/+sINzFopz87YG9ft/M1/PxR1HYOv+0JIIr+KAmGNCqHad+n+3lD8aKQaBoVRerZKHr/5ENjft/j+JmWYqGwFlEEGeTXhIl4QMoPc3R0w7Qn8GBACBAgaYUNqoL8fiO/BLaOk4amoqBhC9z5EdMxY9j31iUnsZcsu+8rVX40YAaxdu27u3DldXV0f+NA54StBTwQo2jNz1llHghytFQArafX39hKRtOS61yVTJQ9T+6e4XDMm2ADCRuF296iBwfAkUEqOy8CgsgL1Z7G2F1+heLNBImXFdKIWYEAnwz9QImQd6t9D1dDdY9myj6567qVll19ZHTdXmoiOPWbh4488Gb0wHOefd/4P/v0GIorVNxE1NTb976/+N3phdER9Xnb5stjHbd6y5dxzl06bMjV6AQh4YkQ6XLq7e6VIJawkgN6u7oJdWsZAr/Hnx/t6e4do6ZYb8Bteo6rPVtnwzA3ATPMQDWJmiARUQL85gTJD83C/JUAlKPI8UhqZsVW39zwTJ078wfd+8PILrxIhJykCijL67cyZI2kLRwlKP+hzY2Pjl7/0L888/dy4cRPKpNbICaX3vffdW1VVFbgKAKZpffrTfzt16pS+gf4yj8sbKaTRpqb6BUfBT10hREdLKwis9RvPvwIgkax8eU165862gvsA+Y1JhtJo6aWcUQ1mOdrgZpkc6vgNAGDIQEMnl5duXvExlO9g8mGGSpdWcUh3dcRU0PYfyWTyqSeebW9vAzBu3Pil53/okx//1Kf/7jOpVCrqdMT40v/B934QvZCD8+k03E98GMj34eUXXpg1dw6FD1dm1nffdc/Fl1x48okngVBmtCmoUSos/DjyyNkbN6zSfTWu61gJq31767a1G9OV6ar6ak95CSvRP1Da0qWYbXOiBNUZCQx5nSV1ZYJMlo73hFHQIPEb4BNAQaDKEBIiZg59GBW7frRkWfR+Z8aMGTNmzPA/v/rSmvDFvYGvlYJGY6UTS6kzAjiZTN59x13nX3Rh8AIzr1y5at269Vd97nN5h+Ue5IfEAElA5yeJEjMbhmlnslrptuadSy45O5FKKqVsO9vWNXXg1fVHHzkTgG3biURyw4bmWbOn5fwbRhiFFw8Re7ynTLolDsP4S5cS0h+6zAlUK0om5dBncwHINajfpSzxSVWeWIURwMcdt+juO+4876ILCtdN02TmwcHBH/7oR5//3GfzDmN9QOA3I/2m/fkXnvybX/+FuGLLmo1aqclzpne3dTZNLnYM9/e7K27bumnNC5leQ5iecuRFf5OdOn0SmGtqovWNOEpDEhMw1n4UlYUZZBYn1xf7DsodC1uACFZ/af7MVDGS0L9DoHyPzDDJECDWJQE47rhFWzZsbMwvWSYiv9fppVWrindR7r84Qnat9bY3mre++VZ1Q01VQ83keTMmTDukUIXIZjMeZgHo62QAdkZ7yl3+y1fuvu3p6uoRTkWnyBNlRU3wKwAw3L5E2fAWYBTybAHg1Xv+BsAQGzD5ECB7VeRXwYKovi5keocSTJ5oUg1HrOOcJ6++9NL6t94a19R0zNFHb9206fFHHqmrqwOo+DOgouMSikYhxNe+d0ltUyOAcVMndba0dbW3h/sKuGnKxGNPP9F1c/VRKYxNqwdHM+YUigSzsYmiw+7k9ZVdYVxEASB/zNMAYDpCiLhFnAEMSbaja9dlQ0MVzKhIc2NtwPQuPn40DfObD0CxBaJpWgCnUqmXX3zRt8yZk5s7AiCvBs7fHetJ0eg4bipt146fqpXflCYAhaaYVjo3cJVXrdYqWSGSyVFNWPM1qgFtNFXLiqTK6mJPNnHnmzWNR7WRBJcWxgW4+OsTACzSljlUDygA0xCiXyV3OKHTj5TG+CYxdXrR8i5FBCCDeVieYDYTJNaI8nYfyiVmztdYxzmjZZntzVp5LgAS1Nna1hceZNFa1zY1LDzjZP+rkNLJxno4LAJQiekzrAmNwSMxSHJ/c9rus0oGE0IwAyZ8cQoAiuNfqwARPI+rV2fIC6tYeTh6ASUOusWc+wxfPX5uUPgrXCol6KDAkDlHjvyNOY2WekIAGYYxZY65/a0tRJ5fuDOjp7OLwmN1dU0NC08/2TAEGItObQxeGgUaIlVbuXB+PrfOmz10vNKgS5cllUIEwODHrlnX3jx0AylpyWyvU/3qYGjzeWa2THHqe4uWd4nBjzGKK+6pjPiC9lgHseTvKucr8OrLb214rX/8jESmt6WqYZzyUp272mqbGoJutNZCSq3tL37rLIBrRtpCisWofd972+96JNibKyS3vtjYuGiXVaV4iMotA8z8GMSGzl0AhmjCE8F2de1rWZFRoV+mpzBnJi04MmB6l1gKGi0l1oi8vWyilCHvGwU+BzjiyLnpWkyaUv03//AhKZkIpmV2t3V0trYHM1Gt1PjJ09eu21lTUx24ezhiskS34qhj03OnhnZhJngZ0fHiOO3G3VFAAyB0QnjaBZWdxAQgYUrO6OoXBxA5u4M1zjmTdnPJxzsIKtP9VGrxKWcfGTmNhjzZvr3F7bfOvWiJaRofufzEVMWgv/eOVqp9565gi97//NrqjUOKqISIY60pWdNw3gc53CASUresalIZGbMNTgFfjxkIKUEo+1slgtJc81pGZhQHn+4pTJssl7wvYHqXISjEXVQ05Y1jIOxJzteiccqUSaedP/XRh5/1jcmkOGSqk0gm+3t6dX43XR/bzrh6VlVlKupnOQrSDHQCAAC82jPen5o+gYPLMAkqI9pfHgdd3ns/LCwFNAwZ7a0qYBnSG/BqX+iPHH0E5eGCpRQ3b+hdyjC0RlHGOFK6urpXrVq1bt364OR/IKrRE04++rQz3uNfOGepfzYQARjsH9ixeSvr0CLbbS2N7e3d0XxxJBRu0UrWTRh3ydkc3sFBSN2ystEdEJFtcEJIQLIgFkPsQi+IKtfZIhuufSqlp08WHzwzYNoPDA4OdnZ2Ra0HB3tSo1rrn/7Xz45ZtPC8Cy887fQzzrvgotbW8BTygEYjk6BPO23hQPc2wzT9y1or5bp++Z7NZlw7U1GZKlMzKVBmPl7ByF7d2WenZk6M1ERVRna9VR9/r48AwILDBy4GMQyRzXo1Lw2E+j4B1goXnEvVo6lB7wXS6fR/XnNP667YeWIHPkNoNNZelm9ec+3yO1aYpumvO33p5Zc/cOaHoo4CGg3S3z/QtcvTSjHgue72TVuCGTAJ+dQznVprkCietFS8THlLmTD7V1nJ2glNF58NHepvIsG7VjV5meheYkUY0CSAMht9A5YhrHbP6vJCo0dK8ZRD9nv2+ZfHnvv5Dbcxq//69r3Ra2PFX7rZNczq3t0hkork5xJxxKV3GGZeet55p51x+qw50+fMmd3d3Z3v2uS29vaYbC+n0ZDRdVzX6d2yZoP2FAjMvHPLtu6OTr9RTyQE+h97Yn3+fgGI/LFghc7dAkOE2as/++zktPGhTFSw3ZHItidL92bIwQAgmClWn0SUdbyqtZloBut5+MDpYr9mn+3tHYctmN22NWsa1vFnzIheHivfvOYbP/2vnxyz6MhVq1auW7c2enlvMYRGh0hy7Gpt3bJt6+LFJ3ueatnZEmyDNzT4XZslPuS+FY3//YOH7EGyM9ktr2/M9meEyC8rZwDQWiXTM6urSvVRLmBxdiKwlnUTG85agnCnPTN3rmlQoXV1ARgACSLEjsILgnY4tdUOLQli5toqccbpRcv+4Dc/vv+n197reo7tZDODpTNtRwczr1z5/GlnnDJrztSf/NePbds+78Klp53+3mhrYy9SktvlKKddAFi9ek1dXZ0g+sUvfvnCCy8ZRjEjau9oz38cRqO1DQl//F0r5WTtnvYuYcju9o6dW7YVXDlqViZme47YAKO8Xdee+QGjtiKY35FA7+ZKVhSzJwjyOWi5HibLlIbLZk94TYnnYf7hNIbNFvccd9/28EAvM2siklJcfPlZAMrVUoalZVfLUQuP+NZ3rlu8+GQAp7x3sed5vm+Rs2P2ECWKyVHOHpt0ANC8bRuANWte37RxkwwvFg+vy6Go0HOPIr9K4+Xb17s2bbcHs76AHNtu3rjJHsw6Ttax+8v8hMqFOdaoEtNmVC6Yq/Pr9AEQsdOb0Fmj7FsSBFB2f3DyGK4OdX9qzfNm7dFTYEaH47gvP70TgGbNzJU15veu/t2jDz/90H2PP3jvY5s3bY3eMByrV6+uq6s75tgjH3zwodtX3Hn/fQ/4dmb+wJl7r6CITcJy6R074wRCys6Ozu3bt5c5KEyHs54SHwhCyBOWzDWN4vy37tbOLa+tY60Nw9RKO7ZNJAwz9ddntpcP3siMzBAV6flzQyuOCcol7ZWREwOAwTGe5bGjmyCzEJg4us059izf+8rvzWQy0z9omIZyVW+XA+Cxe94gEkT00rNbvvZvH4/eU57f/vY3P/zx9cjnQ83bthcKSiL6+Mc+GXK9h6G4sssXQemonl/QhdxPnz6jo6Ojvb3dPzMkjO/YT1s/+X2fw54QEgnrmv+89NGHn123pmXHpqxSHoBxEzUw2Ndd1dna5mSzk6ZNq63xazu+UmKDHWtE2M6JSU3R3E1DO2UECiCa+R/AtLS0vrjqtcbJkwFMnje9qr6GBIHBzFIaQojqevm5r14YvW1IhBQdHR0VFemnnno6mUwGC0pm/t/f/irgdm9QLk+KTRRfav4tBNAR848gomDbKA72Z//miT5x/pFzAVry/hMuWLaYmafPqybI0884asbMRl+sg/2Dm9eu6+2f0NLi12ujPuQZwh6gTFk9BOX76AGULjLWGjtbQqa9TCaTBfDCi68D2LLFSNdWTDl0Rj5VqPGQJBEu+/vFR5488Z+uvaJ0qe4QdHZ2Xv31fyGiLVu2xmRCFGxq7FViUyC2zoegsb6+LladRFRVFeljCRb3JUoiENG4cU3f+ullx540i5lTqdT8+bMvv3KBaSlDGp7rdrd3PfPXgf/92f15H2J/QuUoPI7sne3B/WwBQEBYpSVGEQNgCi9vLcAGwRSkuFgNFYLeXM9aRzPqvcO2bTsaG+sfefR1Kzl+w2bR290JQGtu39HiDarjT5+2/vWdV1+/DMC8w2ZHbx6O+vp6ItJaxycz6O477o1a9xaU11BQPf6H0nQh39je3sbMzOz3NgSHiM5dujR4Q96T8j7nDHTsovlz5k1b9dxri45fAKCmVnfu2iWtcX09Xf2dfe3NfY7jNW/bMXPW1NhaR4zPOQgE6MGBNWtDS5kZ0mRhlBEoAVz2lwrHVZ5Jbk14MybDwOtv8PZtAdOex29drly1Zuv29IuvZKXZCGDz2nUAmYZF3A3gii+cevYFp3/h6x9Np9PpdDrswYhob287+0Pnxqszzrg3KUgz8txSiw8BaGysk1JWVlbOmzd34sQJUkoiuv5739u+ddMPvvfd6B3gcNU2zmcCQFVVlb46hRBLzz0RgOd5ACrqKx1H/9uX73r1hQ2BG0o8AcoYTXvLpoHX1gqz2B3GTFa1LZJezN7IPgzBjNgdazVDWJSZmggtNSai7j79p0eLllHS09Pb09P7u1/cnc1m16/beP+df77/zj8Xrra3d2Qy2cef3PmnR9dnnQkAHCebGRjobGtzbBtAdV32Y3979te/99GZs6YX7hozDz70gNba87zC9p95+KknnjnuOH9Sxd4mWPiWQmXKUw3wIw8/dMT8w4859pgTTjxh/PjxP/vpT5Yt+0jUYRFGbuujQoZa6nM08/vIladseXV9pn8w0+dvcMQvP912/Tdvy8fYyDUquh582OseCHbKs0b1zH6SHC9QAgCDwLEZBjMnE0bfvFT1i/2hC4aBPz2iL75obINJNTXV1/3jb1nhe1++VWslpJwyJ1dxfG31W1WV6TfWEQlpymrXdQD45Vdna1sykVLKO3vp4qBvu0NjY9MjDz/2oaUfnDBh/Lp1/mgeiGjZ5Vfee9/dEydODDvfv4hw/udLDXPmzL7rjhUB+0goCMtXZ8TnKNubd2mtd6zdxtCGaXiuK0j0d4vOzu43Vm885bRFeY2WekJFuZNU3Ts6H3wUMjSsSUT1h3XIJLh0HAC+QFmAijtQRnA87TQYTp0RerqUtG27/uNDAdPoYAWlPU+5mjUY29b19PT0rFy1pm9g/I5dVa5jM7PWyg9V2/adbTt3mqYF4OzzDw3OxNl9pk+fftaHzjx8/uHjx48rRMIXv/DFN9esTSYPtIVWwcpYbIYzKvwS3xdQ2WoegJmzpr7n9IkM1lorVxERg5X2fvbtR157oTngMNaHgtHovP+B7NZdFNycVlOiwU42ZhEa/gxAAEFQ+WM2PE8nk0bPsRUUXhBCQuKue7m3N2gcIRvWb9JaFXoHPOUuOOXY1Wu22O4kZmSzGd9ORCB0tOwC4PcYV9VlRrn+dXhM0/z7v/38Z//uKinNn/30f67/3g+3b205wPLOIH5eFalNjhnfH1+mvs8xMPP611uZFYFAXF1n+pMzNeuWzZlrrrot75DKCJ1AhurZ2bbifoSnLbGm8YvajBSHJzkFIIDYYNJal82WNHP/7ETDU5JcXXy6lGJzs/7jQ/KSS4OOR8LkKZPMpLAzuUAtPONkMFzdqFUxlyeigb5+13H6e/pA8HPNTG//DVffzsxf/PYFVdWj6E4amsMOOwzAiytfjl44QKE9pM4CfpW0oK1oHZSI/vYfz7n+6vtcz6msNpXi635y+e23/ClVkXjuz81T50aap7GemJ33P5DZtFMkEsULDJlSdfM6h+oZ1QDIAMNTZffLcTxlVBjdCyvrn+4JnXAsDb7rXv3BD4pRTqp/4pHntCsIxKwXvX+xv6RQB6dlEHmua5hG246dwpAAWrfscDL2xv7BhJU856NH70F1HgCUT5549J4o30vR+UzUz6FDbNuyY8FJDa/+td3NyJPPmgLgosvOIKKzz0Op46hGSaruHW0r7icZGo/VShxy3C6zQpfNPgEoQJNQLhhlS3lmSEE9C1IqJUM7ixuStjTrxx4NmEbEBz703lQ1jl5ywsIzTs6pM9yCZqV3btnWsrWZBIG5p62ze1fHYN+AlIbrucced2TQ8TuPUkHsKThQKw0x77BZyCeTnXWAYDdcrG58ofsY3X96OLO5hYxw92dKNx7dmutLjcX3gJQwEiY4V4zGYruKUqL32AqENyMlkrj/wTGcoHDSWUdrz6sb36i1DqrTf+1d27cLKQEox8v0D7Zu2Vm49LlvLi04fltQLnGGYM+W7yUUpRUK2wWXvo+IPOWdde4pQTuA8hoVIMHZ7o67H4oczamVmLCoTaYUD7GZoq9HDTGrfjyAIZYlMSNhiu4FSZ0Kb1BvSKzbrFe/FjANw7p1m19+5U2SU5umTNKR05QFAWjbsdPOZD3HISJhyB3rtwHwR60EiaZxjcFb3pGMQdOjp6jR3OP6+voTlZyoLPf0YJYZJDHwykuDa7eEGu8MI6Ubjm0V5lD1TwgAjCkwaMl1a1f8TXl9AkDWUUba6D0yXftcX7EmSkS2zY8/gYWLQq7LsHPnLgCD2Qm2nWuqFyBBna3tWqnB/gEA0jR3rtuWzWSgwcxEZBrWKefMLtcd9s5g3747FcTJAFVXV33t3y4LuyileE8e1f3IE8pWImkUxKgVTTi2zUjrobJP+J4RLfFz0uisuijMMAzqPSIVaicBkBKvvDaSUt513XUbZWtHTaEjyYeISFBPR5cQor+7N5FIJhKpwxdU1I23pPSSlcI0LMtMEonxExuCN75T2WcyLf8gKpdfImQnoTM9fS+uFoGp/gCEgYajOkRRsUPA8LdfJIMdV1H55Z0AXE/rSpmdZCWb7eLcESmxq423bqI5hwYdR2Dmx5/ckUhW2HZWSllYSuHniL2d3V2t7QBMy2TmQ6bywoUL5s2bWVlZ0dXZZZpmuiL98gur5y8Y6hHvsueJFYRfiBGQE0GJg2I+Kp0tG9yWtuAxNKyoatpAosrhIRrv/kNc+AfNGwBElpQJU5IqDVAeT3HKkv1zksmtdnGCPhEGBtHejeCelSX89r/vWv9q+4Tpk6vqq2ccPtdz3GQ6pbTq7ewmQmdrGwiGYSTT2WRKnrbkFACVlRUA6vJb477jG+/FLGHvdDPFUlhkHKfFnA4Lciy9Jpy2XjWQhRkYXmGqP7QXJobaNgwA5Tu+/LrorMt/TYTIupZSGPCqjUjuTpq5sztkCtDcvPPJx57TugFAVX1NZ0v747f/obutE0BvV3fnrraOXW1CCCkNIbOei3OWljYS38aEo3JEyHz7dl9CAMUMFA0VfALgtu0qObCLjaqhtQkAkAAzXQn4OSgA0FANeR9meJWlsUM80Be1AQBs2wYgU3NnHmnPPuZw1rqzpe3wE4599S/Pt23fWVFXDYCIWDOEc+llp5iBiVjvGGJzoAiRdPFPGBj2rt0nlxGGLX7mFjDAP9QoJjx6oDcaeIJZZce5DUMo9MznNEFaO/5UgPKlPIChJ+BHePrZzcwVRFnyV7XazjFLTmhevwlA67aW6sFM45QJWikCbXtj26//665JU2srq9Lv+0Bue993DENrtDTCBWC57sCOHTv8LW4aGxsnTpywR2e3+A/15VhKSYAJ8YeNxPW6lOxaH4UI8IpPzgk0yzqhyJBiiGooAGnHXY3bgfHFF98EqL+vr7qmngj9vb2mldi6doPWesaRc7as2Qigp7U9VeG2b3OVo3ZtynRu8wAkU9ZJpxwX9e5tTjAhCzEck7oAMpnML/7f//zvb3/V3tGen3PDVVXV5y5d+sUvfH7iHlvSWCjQS1PcFy6HLsVplMxE6e0qa4KG7PYhaAUhclXtXAZ+xCW/A4Y6ixsAEeRgaQ2dRV2oA8gfH2rvSK99a/N3vvVZADu3NLftaNmxeYufPZtWYvqRkwd6uz911fsBfPnfLr7mJx+74JOLvnrDh6/4x/e+89QZwU/+eHW2traeePJ7rv/h99vb28Hwl3wwo7e39+Zbbll0/Ik333xr9J5REwlAucCU2CliJKNhfOAyAIChssNV5CQAxuW5b3lFEkDDd4TL0oXIhkA63NElxJ0rnrvtpv9e+fTjb7358re/+Rk7mwFARJaZME3LTGQBfOP6j6fTqb/9/EX+St8jjz5cCDFl6iFBr94liFLqk5/6eFt7W2w1zJfqV66++u577oteGwW+wobKpwLEarT4j0ynS04HJ5WNmqIQRGCxZlFbQiDreENUQwkQ2XAOyoyExZXFOVeDgxkAjm2+/4yLn1v5yHevuxGAEFJrlbCSzDxxMk4/47SC+3cZORs3bnjp5RfLpU6Bb33nu+efN+ZJCwLRGRxDP84XUrisR664l1UJmTSVG5px7A76vVfx3hJBOxAQhaZYUaDpitqB3i7DIDdylAcAgAjssdET3ihUM9IVVFtfMKTTqRt/+5S/RdQxRy8GYBqW67nC0GecNWPnztYjjzys4PhdRkVPTw8AZvY8j4iCmzH5aK3Hjx933HtGNPIch69O5FUW7SIqQ4lGc7BZVysr0qpzMLB5PGdaU3CZRGiHkSIS8IDGYj9+MTOf+MEfApBlpjUZUtiKky3hrZpYU2UV1Y8LmAA2DMNMJFJSKCnUwuPrahvUZctOAvCuOneHWbNmm6ZZWVm59NxzFi1aWHoyoNa6uro6kYhps44A4df+8pQKbggoWisgAFo2ThSVNRxUokCmPa1VaO1xCAGA6INFQ+hXyNBDnMjNzCLLhVPNAIChq1IyEZqLesUnTgh+BTB33iwATeHjTt5ltNTV1X3pi19efsetixef5HlqV2vrpo2bTNMs7DohpWxp2bVtyzYE02h4fHkFJcOjub1AsVwGALBIpozqVLj8Z5U1uKS9X0RBhOcHhwRKwvOUMCR50XPocwg7XMSDUV0R/P4ue5V/+OznWna1/P73Ny9efPLZHzprzZrXt2/fvmXLVr95K4SwbecH3/sPwALckZXR/tBUsQgeqzp9/Ppr4XYyapKhAX2CckICCkIS2mORCLVzQlnt7ItuIlC5ziZiFl5gZRIAZlS+nRZgHOgIIb777X+7/t9/+MpLr919z73tHR0DA4NERERCiHPOPu/FlS/NmTMHEIAFWIABGIAJmNFSGAQYiNk6b8zq9KGAhyQrKyL+aY/ia5/IBZDC69yiFW2l4/ezBeJmKTCwJwcw3mVEHHfce+67J7dNZHkIkIFqJYezt4KMImldJulHR1GglEiG/CQA/pHxcQ9iiNBmn0CpQCHJdpQhRczRXqUdWATYsWvu3+VAw0/4aPIDCGglWDrvJjn1s50NPZQBxI92koB2uXSRfLQ0n3vRr4hgBJc45WEibeX3MPchQltH4Pu+xnXdLVu2rFz5/MqVz2/atCkbs1P1uxSIVWewRC7JkkZKWZ/dtu6IxKTF8U14CRAqroiaS3JQwF9oETUCDKiUNINHzglJ21p0e7tobAy63AeUGZKuOXfp+V/8whcP4M0X9i+5iCox0m6rs9Rn6bVuyW5pIVEseZnJSHmlA5YEgBF76HaMmLUyHVdFZt95ihOmGJxqhsMgqLV1DIuPd5PyQ9I9N9/y+0XHH3PzzTdF73mXIjE6GCsRr4JfRfefHnZaOxFsc2tUz+gRRuTwTkBAexzbBx9jell2gdgMt+WZWRpicHoy+vOTJv7vdr19e9i6FxnZkPQ/333P3dFr71Jk9zXq57ul+EbL2fbWrhtXILxfA0BV0/pRuiBJQgCQMbOcYgR66aUrYrNbpdieIFVleMdQKWhXm77hh+WmLe9xRjwkfW3U9C4hShJ4FPjqLKdRUw90Nv/b9+yd3RTaVR1mpVc5uT/SHeR7oSAiHUw+MQIFQEy240X2DXU8ZSSNnoVpiuTPlkXPveTd8B/s7Is2SmFI2nVdf2/VCFrrxsaG496zMHrhXaIEFRYrtVgiuozcaLDTt+2713X/9RURHmJkTzQd32Yko7uF+RNEZJkcJ16gL+oB5pi2vBDUNz/l1YY3ZARgWfTw494NP+TwquK9wV4eko7H3wGlq6vLP4RuH57xtQ/wFUblxBAmNtcsWAyd7Wv+7nUdD/xFhKexsyarxm1c0IHSPiYDIODy+LVK8WG69NIVmrm0tWW7Kl1ltL2/Onp8IgGWRQ/8yfv3f9/bZb0/JD1h4oTFi086/4LzJk85JJvNBhUTGJLek/inJPqH0J13wZjnsx2Y+LIrHVWKIABRxg0Bpu7vbr72G+13PyasRNQV05Qzm2Uqbr8GAsdvogyUeRgAbLjzCmgpiHRuZCqnSCkgBaWe769/slcH9nHIXbZtfu/xxte+vlfPQtZaf/Oabzz9zF8WLz5ZEEWGpIlISuORhx+bM2fI1dAjZuXK5+++9+4nn3q8ZWdLf3+/P7T40qpXx40LT+Maks7Orvr8KuoDGAa8Mv1QUcWFvxqqp33rNV/rfnSlSCaD1xjQrpi4ZOekE3exBhf3mmUAQrDWLBi0bDQ5KIDfvzITTKWlvNbMzNmjK/oPT1PpzNFEgp54zr3mWj2m7W1HyIiHpPcAzPyt71z39DN/+cQnrvQPSvSNoz2HLplM/Pqndxzwh4dTYICeAJEfLy3NyIIWQ3Xv2vIv/+yrM2AHAO2K2nm94xa2glA6Opkbnlwbr07EPbjIuuWfTCcp6/h12pwW/UWmlilc22u6rze1KevvhxP60di2Pv4Y69prqKY2YD74aNnV8oGzTgdw7rlLp06dcvdd96xa9YI/U5iItm9tid4wJNd8/rfM6vgzZnzovCVExMxEtHnT1lt++ehH/ua0PXIsxN6B83+lMGCo7ratV3+l5+mXKa/OglPtUdWsgRnnbzQS2j8T1NeP74oAMlm5MC6P6WDyiRtJKuJkHUMKUuEtwAE4rk6nzbalNU0PILUhp9EiiYR49kX3+z8w//UblBzLGTEHCP5Jno0NDQ8++FDztu1SisI89vyR16Ng/LTUri2DLz6+PTP40MWXn/XYn/5qZ51n/7QZQGNTfdT1AUQhcaMyACRne5u/9c2gOguwSzWz+6adt8VIQcUpkASUC7ds7gkMUcQDmHPpTcxcWsr7DGa9VFq2n1MzODsZU9Ynk/T4X71f/jpqP6ho3rbNP7C19ETh0Z5D95fHnmvbmlXK85Qzb/707139u8fueeOZhzdV18trf/Lx6r1ZZd9D+CV+MCcigFt+9p9djzwXU7J7ompe3/QLNxsVULGr1QEYACP18Tjx5okXXwEC65Lss8Bg1jMs0XN2dc/xlTEatSy94m7vz3+K2g8e/MM8t2zZWnqicGDh4Yg4bMFsv69Ka35oxcqBXpeZhRAzDh9ftgV7AFEIoV839RHdD93dess9kR4lANoTTcd1TD9vq0xAZUuEAcD3Ref+G4JhBMpCO64aYtsmx1VkicwJ6e6TqqIaJSKG+tVvdGdnyH7wMH36DL/tFXOY5yipr6+rrBWCBDP3djrMTCACzT9yVtTpgY6vUeF17Gj5+a/AIrhoE4D2xMTFrRPe22KYHFuy+5CEciBV8TDwWMoqz8efY28WV+XF4LhKG2Qfny7NR8kwaOt2ddddQeNBhH+icNSaIz5jKIcQYs6CiUJKMKQphRAkhKecKdMmRZ0eBBBAHStutTfvDO2eDLBHTYs6x53YZpraK+3yDCLBAnTlQNQeZhiBAoBHrqvLJhMAwFMaBgaOT9rTE8Gt7BmAYeqHHtY93QXjQcTVX7/an30SNBJRdXVNVVVN0DgSjlw0z68aTJg5uaapjkCNk1KpVCrq7iCAVFdr130PI1zzYUWVMwYnnLZTmtobcqyNCNotmTISx/ACVTVVrtKRyU2lOK42krLtgxWqIryVvZTYsUs/91zAdNDw3W9/R0oDQOQ8z3OXnv/mmrVFdyNj8pRJQnipynSqKl1ZVw1g9uETy+fQBzT9z/zF2d5KwZoPQyb1IR/aZqR5mLwTIAnWbJrDT94YRnYA5n7opxC5Qw6GxnZUqtbqPqmCIueBMOsnngqtjz5I8M/z9E8U9o9LJKIf/PsNX/zCF6NOR8BNv7y3cfLkKYfOYI32HS0f++KSsy8YXW//fqXQPCJor+fRx/ObLOdgJSactsuq8gJHspVHABRdHxfL0P2gOVxSZMM0xBCr5n08rd1ZpqoQIhuYsGcYvOZ17u6hurqg44OCOXPmHDF//pRpU2zbXvn8C//6jWvPP+/8qKORcfTxc7dsMXq6OgzDnDyr7pDJB+O0fwLgdbUPvvYmglubMGRKVc/ukQZ55TqV8ggJZbM0R9TuHJFAD7/o5vXLP2ZIGrpiAcDzWKZEZlai8rUMF5pWJNDZpdesFotPCbk+SLjrjvuipjExafL4ngHd291JoPpxVbHzrW6++aaKyspvfefa3/zqd5Zl+Sc1HmhkXnvZ7egiYRaUyJpqDu0xUkoP2eueQ4I8okv9872HYUQCBQCpsg5LQUN0iwLQzKmkmZ1jVb4amHdHRLbLr7+Fg1Oge4rtO9qtxETDND3X6+mJRuNXvvqVm2/5vT/+CeDn/+8niUTih9//z9Iu2P3O4OrXtatF8PfFqJnbK5PkZaLvFYEEtMPeiOcrDl8H9Zl10U0MmGVGlYJ4SrtNgq2wSyn1q6+ELO88uruhtbYSltYKKlFodWWz2eB6VGZWSr2+5vUH//DQ5s2bC/YDBh549ZVQ8wggk5NNmchZhLGQATAlrxyuGZVneMH5ECD8YxGHa3VqzcoSqkqGxgiEQPNO3d4aML2zyGSyQtYopaxkEoCURk9PL4BVz728ft36WXOn3XTz74L9WW+9tRbA6R9YUrAcIHitzfbWnQiu1dQwq12Z1MONCoEI2oOI9NsNyUgFCuB3r/1ea06Yw9ziKZ20ZGa2GTplXkju7NCbNhct7yRWrlrz4itZkMwMDFiJBBEprXbs2JXJZH71n/d88Owz8g3kHEIIwzAGBweVv5PlgUR2w2avvdM/nzKHpuq5fdLEsOW2MAHFWDeSdn6OYdQW5LrrwNCuN0wmygwh4UwwEIx1ArlKv/KOLuUZbFhm286dABzbfv3ljTdcfXvTpCRQZiOCISaa7z8GX3pee9E1lelDskLGvkSRfPYJui56aQhGIVAAs1fPVh4nhusg0Br2BKPYivcRgl96hYf9lb3t0Fr39mmtFRhSSsMwmVka8o2VrZnswK+X/0d0W3UAeXUOk+b7HuX0rXollH0CZCA5YWDY8l2YYA+jyj4xWoHSdddpIR3XG/pQJaUZCfIaQ2vryDB43Qa9ZUvR9M7Ath3NKX/VFBGZlgkARNIyiETSjO7/BsB3zMz//t3vR6/tV+xN67NrN1CgB5Q1Eo2OkVRDj8MIgnKhIUaVfWK0AgUw++LfKYY1ZCbqKW1aIjvDQqAaykTUN6D+/OeAw3cEAwMDUqRyA2kEw7J8RVqphOc5tjsYLMeV0tlsdvHikxsbG8cwJ3pv0/3Qg6o/G5q+pKlqVp85XAWULLAi66P90QvDMWqBAiCts7Ynh8xEpRSDc83IRCwYhn7gIb1zZ8j4dqe/f9BMpHKFNcO0LBDAnEgnASSt3A7AruseffRRCxceM2PmjPnzD69vqP/RD39y5RUfC/i0n3G2b+q670Eywv2yAtXzuhGefxFBCPJsLrfv7NCM5Z6Zl97MgDlkc971tFsl3HApDymprcP98Y/3wfL5A4TXVr/V1z8Y3HXIMA0/y7SSCddzzjvlHwqXJkyccPElF5511pkvvfjqbbfcfsQRRxQu7Xd0tq/lhuvd1u7wXkuUaHLMGkeXTlcPQAaIiS7ri14YAUOJbAhq0jqTda3yGlVKG0nRf1Qi1NkEwLLw1HPOddfp1ndEn2g26/X2j8/6P0giz3Vbm3cA8Bx3x/ptqWRlVUUtACKqra39y5NPAXjqqacBjB83fsL4CQGf9iduS3Pz177a88TzZIXmF7Om+qM7ZYJ1+fJdmvBsljq6JmSElFXY0DR+6GZmoRSXay0xYAhyDrPc+pKtokyTn3jGueof3Qf/8HbNSu+/88+//ukdPT09jqOKLXFmIaSQEszCkIZpSGEkKsQD9z50z533ua571ef+ccO6rY//+S/33fPAAdLBxNmB7vtWbPrMZ3oefY7MiDph1bl183ukoHL5pxBQisGgK8a4qmK3YmH98mXppLRz65KBfD2ksLS0Kint9dnG23s4XEdhAJ5i1nTYXHnh+XLxyaK6JnD94Gb9uo03/fRJMEB6wSnHNkycpAMtiJZtzXYmK4TYtXGH6/R99uoL6g7IDR10f3fvY3/qXHHn4Op1TLIwc76Qjuxi2ke21szJuPnj3YJLiv1/DIs9h83Lh5k2PwQjniwSh65EdkAlE9J24rP4fts1p5r9x6YrVw2wGWkwSYLEG+vc737fnT7F+OD7jTPOEJMO7qMQmdm27eW/elIr5e/IIoQVLEAov7xJSFk33rrskx+urDzgjklxmzf1/PEP3Q/9KbthGyAjGacPu1R/XGfVtMwQk+sME57DhkoAYxfobuWgADbfsQxgKfypotEcFNCmIZSrqx8cSL1VXD5fmptCeWiqp8UnGkvPMQ6bH7h+MNHT03v3rY9uWt3t+bsUAAvPOLmuqaEwL4SI2lt29ff0JhKpefMTCxcuKN58AJB9/ZWuO2/ve+KvblsXS7M01/Q/a5eqDx2YfM42w4TncWFlZjAHlRJas/J04ooRTasrx27loACmX3TzxjsuEyg77OF6OpWUvWemdYWoeDHDMu5HYUgYEt19fNcD9sOPeqecaC5bJmfvmb1r9iVbNzevfzW0Xj76rgR/3RzAfb0HUP3bXrem48bf9z72tNebIdOkRJk2DYOVqDuua+KpLWYSbpnsk3ypMu2mOlEagWNjw4rLUpZhu7nKaDAH9f9JGMQey81e5cN9xoDWsrisPPKKrBmOjZoqcdH51uWXiQPtHCYeJs6u/fxvtVaaNZgXnnFy3bjGYvYpqLu9s7utw7TM2gYXwDlL9/8EWd3f0/H7/+1ccY/X2UeWhXyrN1rKMViRSOqJZ7XUzO6TkgNnuoZyUAKkBc9mc9lY+pUijLEVH0FVNNqOSibKDi85nvaIjUMTPVfWDBxfQUTkxQ5BA4KQSGAwq379+8yX/llt2hR1sH+JDXOAK75wqpkUpmERCa2jkyr8tjkzZzOqoM7gcrx9jL3hrW1X/UPb/7tJD9gimSioMwSDPQJR40ldcz6zsWpOL4iLDeMSpAXlsFG3B9SJYXKD0bB1+SVKyGTCyNqqNActWBJSeJ4WA5x4OZt6zRZZ1uFCn4FCq4IdBxPHJa671lhwwHRZD5eDArBt+4lHnnv5r5tmzD+qaUqxCU9EvV3dna1tUhpWwv7IstMAPPrw08mUddIpxwV92DdkXlm1/WvfdHa0U8ICEJlSVcw1E1x7TE/9sZ2ywjMtuE7upLfYVDYseA4MA3Rpb/7qbjFcZI+GjbdfLgiWKZzi7ysqUGgmQsKUrutxVqfXqcRLtuxULHK5eUigAFyXmxpSN3xf7qHtFPclTz39Csmpdv6sMyLq6+7u2NUmhDBM59LLTnnw3sdWP91+xT++d8rUfd19kX1rTfM//pPb2lVc2x4QKGtiDaNK1x3XWbOgV1rKtNh1mbmYOqUCNU1WHqQj6WNd+Uu7y54UKICNdy+TSlumyHc8xQjU/1eQtgwpCHbGkztU5bOOsdNjAouwQAE4DuZMT/3wetE03jccLLz8ypuD2Qm5YaRADkpERCrT27prUyZdR1+6ZpmIO4Fl7+G1bt921VXZtVvJsgoq8wXKmsBITnTrF7dXTB5kQydMclwunu9eRqCmCeWxp3Vy2ahnhAzBHo6Xmeff7LrKdlTCKlsf9WGG7aqMo0RCGLOt3kvSPZekvUYjZl2LZfHaTdkf/5SHXVR6gFGRDreFCUCu5s1atm+3Af7gBQv3sTpZubtuuD7z5pbIuCUA9sga506+bMfUj26tmztoJUGA7cR2z4QwLbguJKs9q07scYECmP2R5eyy66rkcBr18TydsZWQMKabvR9ODJ6cBBcyzxyUSKhHn3TuXBGyHtjs3LmrtaMma2cBEJFhGFJIEPmzfRkshTFrQe2RRx8evXMv033bTb1/fkokw4ueGWBqOLVryrJtNTOzUrBts+2X6cNhmlAubEfQbowYlWMPF/EFNi6/xJTSNCnrKMQV8VSc5uRbGIBlCGLmzW7V3RkgtHUFa42KVPJnPzJmzS1aD2B6e/tefs32PFdKaWey3W2dbdt3DvT1Symbpk6y+7d/4u/PK2yHu8+w163Z+ul/UH12YVISA2Aw08SLWqpmDhJpf5fz/B0l6RUu4k0LytXS03TFnmm2R9hbAgXw5vJL0lIkLJEJtuuHFCgBgmAZpN7wqu4f5NDWFYDtiBMXpb7/71SyIeUBiOu6jz+5482Va6rqq7e8vj47mDFMU0gJoGFSw6euen86va+3DWMnu/2fvtD/9Ivwm+2+EWBF45buajx80FEq3zM2IoGaCXg2ewanLu3JXd3T7PkivsChl67IKm3bKmnJkU/N0QxPs5ojssckohuOJiz17Ern7ntCxgMVwzC2rV3dsrn5jedfraqvPfZ9J89dNH/a/JkzFszpbmu3/IUf+5buO27r/+sLuU6lPOxRzdF91XMHvKH2Ko5CBNMi10bWS+w9dWKvChTA3EtXdA5aWUeZhiw3Ma8UT7FpyMxJhtcQXlwPkDSc397obdwQsh6QEBGxPfOIeYe956hjl5zYeMg4IQUJIQ1jymFT9nHDCICz7o2OX/+OIodnaliNXt17O0wTI2+CCgFTkuuy6VlVV+6KXt6j7PVoOvrKm6ZpzrpKEI180r/tqkSF7D+zpCiXEl099n/8mDO7O8i7D5h12CEz5s+bMX8uMztZx3M9IiKiVNrcxwLVmf6W66/3OvtC8+EBBo37UGuqgm13pJmnIQGC7bIpu2gvqxP7QKAA6NIVMy5e4Tgesx5iEn4Ex9NinMy+x4oW9JalV72c/dX/howHHs3NO2fOmZpIJfyRJNex/SFNQSKZHGlhsqfo+MXPBle+Ep0P71HN8b2pCXZgVH0YLJOY4SpOLuscyeaJu89I5bL7zPjwHcyeUpy0htxRPI/WLA24x5peXczRoO5tK7I33hy2HkAwo7Gh/q31yvM8IupsbWvb0UJECSt5xDGV5194avSGvQh3/vaXnTffEWlZsoZZ79W+p8uQNJK5AARYFpRirZG+vCt6ea+x7wQKYMpFd7kaWUdZphhJldR2tVUlBs+yor0NRCQM9xe/HLzhet0+uuNg9gGsAUYikSAMAGCGk3WICIBmPXHiuOgNew2vraX1e99u/9mviIzoCltQ4zlt6coRFe5SwDTJdWD3wbq8M3p5bzK8SvY4q37xd411nabQQgjX0/mOjFw3U+EzwABLIiHYeN5L/sXxe52K0cnMrotJ483TTpFHL5CzDxfVFTAMmAaJfd2/GMuLL765bTt/51ufrUrXfnTZFw3DhHAvW3aSae6N4DGUx57LrlK9Pfa61zMvvtL32ONucyuZJii0bEh7VLeku/49Xaz9XiMuSYWCc7YMeApa8+q+9kWfzpv3FftBoD5bVpwvIS1TBI9aLBUoAUlLOFmdutcxNnswAgL13Xkeex5MgyqrUJFATSVVVVFFtaiuo4oUkgZqKsW4icb0WVRTKer26VYIbW0dd9y16u8/fWZVZe13r7uxsXFCRU323PMWR92NEtXVprr73E1rvdadqmdAZ5Tq79N9nbq/V/f1ed0DesDW/X3seGwYhX0Si4rzKDHdnnBhSyIB29V5OcYLNGHBc1lpSl6+f1bh7jeBAthy84XSgmWS47HfgIgVKIBUQriDKnmrLds1BwZQGcj1GzMzM/J/zMx+xYrAJEhKWCbVV8s5c433LLROOklO2BeHv2it//xI8203/Xd1Td0xRy82TWvhe+rmzpsVdTcyvJ3Ng0//ZfCZlc76t7yOXnZcVgqamRlEIAEiCGIiIvIL9OiPGWBFZpN3yOU7khWcsQtxHiNQKWBIcjythUhdutdb6+XYnwIFsPY/z0xOTBpCCgnHVeUECnA6IbO9XsUdrmhVhRGmokDjEiP0mRmaWXnMiprqrTPel7r0EjlpSsDhXuH2257xHEsppbQnhbp02YljKN/dHdt6b/2/gT894u7qBAiGQYI4UKeMeV8A4YF0BtijxHhv/KU709U6Y+dEGStQy4CnWWskZCNd+nrAm33Nfhaoz5blFwhC0hS2489lKkRWUaAA0gmR7fcSf/TM9co/IpqBkQq08JU1lGbXERObEpd9OHXxpbTX9tgeHMzcffsax8kmEqmZc43jjz8q6mI42HV6V9zac8tt3o42Mk0OtCzLvWPxc1CgDO1RapY9bmlrqjKXdxbk6Ee1byEgYZHraqU4tWz/Hx5+QAgUwJZbzpUmmYZUilWu2yMqUIAtU7DDYr2ynnCpn1kA+dp/fCKFPwMonoajlFaecfzCyi98wZg1O+Roz3Hjb58imNKwL/nISaOdGuJsWNv5n/85+NdVkH5VksOSKxL/mZkB1oAmo1LXLumuPrTPMCnrFOWIsEClYCnJcfRg1m34ZFfBp/3IgSJQAI89durs9npJMCRs12/dRwUKwBBkSDgDytiozZe0aFdQAPunjwPI56w+wc8AggL1H2DborE+/Q9/lzz73ICr/U/f/Xd3/df/qLYuFA8DKSPQ4OIuhgbAucIFks1GVbmwLz17IJVmzYWVbjECTZjkafY8nXqrdbSbJO49DiCB+my6dakpKWEatusxxwjUj1DLIAaUp7mfzV5wB4vtmgZAtiaXySZWgAY02E8SAgRAUYECgFJMnDh/acWn/05U1xaujhrtsfIAkDSwG/1cure7639+3nfHfQxBUgZ+YHmBcm5JBghkAIIhQCYLS8MAJVmkdXLKoNmgRI1rVXpSggDH04j7wRMgiC0TtgOtVXrZ/mmtl+OAEyiALTefLS2ThBYglTs6LCpQ/7MhIQRZkpTHWc8DCNCChXJYaA0NKFgKXguMZtBmRj+z0IWXLqQ9M7NjG0ceXvGFq6wFR+XNw8Fate5y169z172ltrepXdv1YD8zi3SlnHCIcUiTMWeeNXuuHD9+5AMi9qsvdf7ox9lX3yArUdISZ9bMimSltma41lQ7Md5VUpPBECChTBOaGNAgJCVJIzfw4xbjMEagliStNYMtZdGyrbnrBwwHokB9tt1+jmAkTMN2VL4Qiwo0aMnvV8oAhICVz8II7LhaKSYPvBHGk4xe7W9YURSo/4/joiqdWvbh1KUfFhWV+YtRODvobtxoP/es++Ir7vp1unuAPQ8MCAF/9wpmaM3EZJhUW2HNmW0dvSBxwknWrNmUTEe9y6P7e3tvu7X3pv/TfVkEJuMVA+lBVKnKU/sSs7LCYEOSZVKhjegqnZ8tpwEoVYgZBOIqJFACJy2yXU1EiQ/vyF05wDhwBQpg3fKlaYJlCE9ppXOiLCfQ/E25D5EJ0URIGATAy2p6lmklAOZ8vla4GVprzzXmzU5edGFi8cmyrh5CAppdT+1qcdetc1atdF9+zdvazFkHJMiQTCIYi4VqIvv/sWZ/m7SkaUydkjh6QWLhcdbc2XLCJDINQEAr1dmReerJ3hV3Om9tIMOEEMXw+P5oAJQ6brDyxD4ryQBcL7f2N/C+hZs0AF+4QwjUEJASnsea3dRl+7+1Xo4DWqAA+LFTm9urJGAawnb91SPw49q/HrDk7vD/KZmxn0vChClYK28HxP1AD0ey0txnz2NmMb5RTJkgqqs5m9GtHaqtW3d3Q4OkYCkLQ9vBe4GwQAtGAAxWHpRmwbK2TjTVynH1lEjq3h5v6y5vVxuTKOz9HrrXI6pRtef2pia6Quis679y6fsWLMMLNGnCVexBpce10JKcowOTA12gPhtvPTshyTLJy0379v/g/39UAgUgBZuSnH7GHyHWM2R48VPhk1Jaa2gNEAliIZCfxFl0E/4MlBdo8LPWrDU0M+vcMrpQYyjvnsGKzFluzZndySp2ix1wYxeoIWBKclzlMSovP0CL9SAHh0ABbF1+iaRBQWQZwm/gA/CjfrQC9ZMwaQnlab2G6E+Ajivu/c8jEVzhHwZzflFPrOgjn2O7jfzPGhBUcUZ/xREZ0+Ss418fu0CJOGHC81hpbpc09dLmvPsDmoNGoD7bViwV0IYAgV3FuagHAulbSLBhBArAMshTmjoIDxDauDg6lYeRS+nc56DdR/sbGhBMUJKRZDBzljhL7AJgCECUubecQBlakdGkqs7ulQ2uaZDrFd5ljAI1JBGxp5SGrPzIAddUH4KDTKAAli+/5L3oh4BlSNtVOtdXWppgwwuUwESoTMrBQcWvEf+FyObgBpHxAmUw53I4qmY5R2O2K6pZW9qwGAzPYeEI7iVebzlbidsFK/Z7YaM/gIhAGVAECxWnDqQWZNJp9Gc1c3zI85Yyb5cXqCAkTNgua+b0hG20JO/qIOHgE6hP810fgCsMQaYhHDewD/woBep/SJikNbv9wKtELxCyDAACTHmB+qJkgACTMJ6NQxVPc2UVQyBhkhRw/PoxQwi2DLCG7Sl2SA8SbzGcN021S8IFM0CcE2vBcw2AKMmJRXbyyEGrQovccFoonKUhL/t2zERIGuR6rJmhnPRHW/IODiYOVoH6NK/4AEEYggwBx/W7AcciUN9NwhSstZNhY5dUm5i2Sc5oeAwBWIRKYIaSE1g3emRxyhJ+hdPxNAdHvNj3jQkgYiHIlETgjK3hEDqk20Jqc0L3C7YZCpBMKTKmOtZ0lybYVoqk4JJ3GSbkYYsmwDKgNENDs05fti1/6eDj4BYoAF5+yXbqkwRDgEBOfvHsGATqWyxTmBIDg67f2CF/JwMCiA1BCQue0qzh5WvA/u2xAg06MCRJgimRdbXSDNZggAUJ5XtQmSZHseP64+j+jaMLuf/BMhiAUpqZU+Nn0JIn8i4PSg56gfps+s2piUpLQBoGwHBVrvECoDQJR5DMTJQbmqJA5UH5s4OjA4YIWdi3RwWKXFwXfA49UWsu9LyPTaACbPojEcojQmfSOeTct8OJfm8Tgfq88atza6uzyA11kuP5o3+jSOaCQIuWaO2W8+IrWBCysG8vK9CAP0DZMJRzExNyQbBM8jytFCA502s1feqt/NWDnreVQH22Lj9BoFKCiHTClEqzp0bbFi5I5MAVKBEMSYbgjOPn66jKKvrElrzLtwlvQ4EWaFnxPobwDx9JWUJp7eWa+wexQH1dmoL9niOACVT5kYNgL6Cx8XYWqM+qX5wzoTprmWCtNfxtI7Sn/C6hgvoiUihIZP8LlABBLIR/aJHOOEyAQaw1BqQ1fr8uGNoHvP0FWmDn79+PZFbA0shNOjElLEMozdqfEcm5sjIgo/0gUElMBEEQgqUgT7HjKgIRMYNZ6Ops/z7YFOkA4R0k0CBbbl6cMAVpQDBYMDEBzJw0hSH9pbwM+J3zueZ13qS5IMdABjyEQAnwF06RL0diX20AiCDARCDAXyrsy1GANRNEboKAVgAGaw+82cT7gHeoQCNs+s2pCVPA8AzJzCCQX09l/0yH3ERg/4IvQVB+DboUIIoXKHNu0pJiBud0mVtzQgwmEgzNyOsVzCD4Z6/3uIMz3nYtnjHwrkCHgX+xsNuqdA3tpTwDWjlawiCTyFWKFDSTSVR68AM8AFIToFkIZs2QhqG1B8WOwUmPM6aXqHUM+vQL0Vvf5V3e5WDh/wMLHpb9MWlkYwAAAABJRU5ErkJggg==",
         "type": "image",
         "xaxis": "x",
         "yaxis": "y"
        },
        {
         "fill": "toself",
         "hoverinfo": "none",
         "legendgrouptitle": {
          "text": "Found :"
         },
         "marker": {
          "color": "lightsalmon"
         },
         "mode": "lines",
         "name": "4 [AnchovyTopping]",
         "opacity": 0.7,
         "type": "scatter",
         "x": [
          160,
          192,
          192,
          160,
          160,
          null,
          79,
          125,
          125,
          79,
          79,
          null,
          26,
          68,
          68,
          26,
          26,
          null,
          111,
          129,
          129,
          111,
          111,
          null
         ],
         "y": [
          80,
          80,
          125,
          125,
          80,
          null,
          32,
          32,
          62,
          62,
          32,
          null,
          103,
          103,
          138,
          138,
          103,
          null,
          151,
          151,
          201,
          201,
          151,
          null
         ]
        },
        {
         "hoverinfo": "text+name",
         "marker": {
          "color": "lightsalmon"
         },
         "name": "0.96",
         "opacity": 0,
         "showlegend": false,
         "text": "[AnchovyTopping]",
         "type": "scatter",
         "x": [
          176
         ],
         "y": [
          102
         ]
        },
        {
         "hoverinfo": "text+name",
         "marker": {
          "color": "lightsalmon"
         },
         "name": "0.96",
         "opacity": 0,
         "showlegend": false,
         "text": "[AnchovyTopping]",
         "type": "scatter",
         "x": [
          102
         ],
         "y": [
          47
         ]
        },
        {
         "hoverinfo": "text+name",
         "marker": {
          "color": "lightsalmon"
         },
         "name": "0.93",
         "opacity": 0,
         "showlegend": false,
         "text": "[AnchovyTopping]",
         "type": "scatter",
         "x": [
          47
         ],
         "y": [
          120
         ]
        },
        {
         "hoverinfo": "text+name",
         "marker": {
          "color": "lightsalmon"
         },
         "name": "0.93",
         "opacity": 0,
         "showlegend": false,
         "text": "[AnchovyTopping]",
         "type": "scatter",
         "x": [
          120
         ],
         "y": [
          176
         ]
        }
       ],
       "layout": {
        "margin": {
         "t": 60
        },
        "template": {
         "data": {
          "bar": [
           {
            "error_x": {
             "color": "#2a3f5f"
            },
            "error_y": {
             "color": "#2a3f5f"
            },
            "marker": {
             "line": {
              "color": "#E5ECF6",
              "width": 0.5
             },
             "pattern": {
              "fillmode": "overlay",
              "size": 10,
              "solidity": 0.2
             }
            },
            "type": "bar"
           }
          ],
          "barpolar": [
           {
            "marker": {
             "line": {
              "color": "#E5ECF6",
              "width": 0.5
             },
             "pattern": {
              "fillmode": "overlay",
              "size": 10,
              "solidity": 0.2
             }
            },
            "type": "barpolar"
           }
          ],
          "carpet": [
           {
            "aaxis": {
             "endlinecolor": "#2a3f5f",
             "gridcolor": "white",
             "linecolor": "white",
             "minorgridcolor": "white",
             "startlinecolor": "#2a3f5f"
            },
            "baxis": {
             "endlinecolor": "#2a3f5f",
             "gridcolor": "white",
             "linecolor": "white",
             "minorgridcolor": "white",
             "startlinecolor": "#2a3f5f"
            },
            "type": "carpet"
           }
          ],
          "choropleth": [
           {
            "colorbar": {
             "outlinewidth": 0,
             "ticks": ""
            },
            "type": "choropleth"
           }
          ],
          "contour": [
           {
            "colorbar": {
             "outlinewidth": 0,
             "ticks": ""
            },
            "colorscale": [
             [
              0,
              "#0d0887"
             ],
             [
              0.1111111111111111,
              "#46039f"
             ],
             [
              0.2222222222222222,
              "#7201a8"
             ],
             [
              0.3333333333333333,
              "#9c179e"
             ],
             [
              0.4444444444444444,
              "#bd3786"
             ],
             [
              0.5555555555555556,
              "#d8576b"
             ],
             [
              0.6666666666666666,
              "#ed7953"
             ],
             [
              0.7777777777777778,
              "#fb9f3a"
             ],
             [
              0.8888888888888888,
              "#fdca26"
             ],
             [
              1,
              "#f0f921"
             ]
            ],
            "type": "contour"
           }
          ],
          "contourcarpet": [
           {
            "colorbar": {
             "outlinewidth": 0,
             "ticks": ""
            },
            "type": "contourcarpet"
           }
          ],
          "heatmap": [
           {
            "colorbar": {
             "outlinewidth": 0,
             "ticks": ""
            },
            "colorscale": [
             [
              0,
              "#0d0887"
             ],
             [
              0.1111111111111111,
              "#46039f"
             ],
             [
              0.2222222222222222,
              "#7201a8"
             ],
             [
              0.3333333333333333,
              "#9c179e"
             ],
             [
              0.4444444444444444,
              "#bd3786"
             ],
             [
              0.5555555555555556,
              "#d8576b"
             ],
             [
              0.6666666666666666,
              "#ed7953"
             ],
             [
              0.7777777777777778,
              "#fb9f3a"
             ],
             [
              0.8888888888888888,
              "#fdca26"
             ],
             [
              1,
              "#f0f921"
             ]
            ],
            "type": "heatmap"
           }
          ],
          "heatmapgl": [
           {
            "colorbar": {
             "outlinewidth": 0,
             "ticks": ""
            },
            "colorscale": [
             [
              0,
              "#0d0887"
             ],
             [
              0.1111111111111111,
              "#46039f"
             ],
             [
              0.2222222222222222,
              "#7201a8"
             ],
             [
              0.3333333333333333,
              "#9c179e"
             ],
             [
              0.4444444444444444,
              "#bd3786"
             ],
             [
              0.5555555555555556,
              "#d8576b"
             ],
             [
              0.6666666666666666,
              "#ed7953"
             ],
             [
              0.7777777777777778,
              "#fb9f3a"
             ],
             [
              0.8888888888888888,
              "#fdca26"
             ],
             [
              1,
              "#f0f921"
             ]
            ],
            "type": "heatmapgl"
           }
          ],
          "histogram": [
           {
            "marker": {
             "pattern": {
              "fillmode": "overlay",
              "size": 10,
              "solidity": 0.2
             }
            },
            "type": "histogram"
           }
          ],
          "histogram2d": [
           {
            "colorbar": {
             "outlinewidth": 0,
             "ticks": ""
            },
            "colorscale": [
             [
              0,
              "#0d0887"
             ],
             [
              0.1111111111111111,
              "#46039f"
             ],
             [
              0.2222222222222222,
              "#7201a8"
             ],
             [
              0.3333333333333333,
              "#9c179e"
             ],
             [
              0.4444444444444444,
              "#bd3786"
             ],
             [
              0.5555555555555556,
              "#d8576b"
             ],
             [
              0.6666666666666666,
              "#ed7953"
             ],
             [
              0.7777777777777778,
              "#fb9f3a"
             ],
             [
              0.8888888888888888,
              "#fdca26"
             ],
             [
              1,
              "#f0f921"
             ]
            ],
            "type": "histogram2d"
           }
          ],
          "histogram2dcontour": [
           {
            "colorbar": {
             "outlinewidth": 0,
             "ticks": ""
            },
            "colorscale": [
             [
              0,
              "#0d0887"
             ],
             [
              0.1111111111111111,
              "#46039f"
             ],
             [
              0.2222222222222222,
              "#7201a8"
             ],
             [
              0.3333333333333333,
              "#9c179e"
             ],
             [
              0.4444444444444444,
              "#bd3786"
             ],
             [
              0.5555555555555556,
              "#d8576b"
             ],
             [
              0.6666666666666666,
              "#ed7953"
             ],
             [
              0.7777777777777778,
              "#fb9f3a"
             ],
             [
              0.8888888888888888,
              "#fdca26"
             ],
             [
              1,
              "#f0f921"
             ]
            ],
            "type": "histogram2dcontour"
           }
          ],
          "mesh3d": [
           {
            "colorbar": {
             "outlinewidth": 0,
             "ticks": ""
            },
            "type": "mesh3d"
           }
          ],
          "parcoords": [
           {
            "line": {
             "colorbar": {
              "outlinewidth": 0,
              "ticks": ""
             }
            },
            "type": "parcoords"
           }
          ],
          "pie": [
           {
            "automargin": true,
            "type": "pie"
           }
          ],
          "scatter": [
           {
            "fillpattern": {
             "fillmode": "overlay",
             "size": 10,
             "solidity": 0.2
            },
            "type": "scatter"
           }
          ],
          "scatter3d": [
           {
            "line": {
             "colorbar": {
              "outlinewidth": 0,
              "ticks": ""
             }
            },
            "marker": {
             "colorbar": {
              "outlinewidth": 0,
              "ticks": ""
             }
            },
            "type": "scatter3d"
           }
          ],
          "scattercarpet": [
           {
            "marker": {
             "colorbar": {
              "outlinewidth": 0,
              "ticks": ""
             }
            },
            "type": "scattercarpet"
           }
          ],
          "scattergeo": [
           {
            "marker": {
             "colorbar": {
              "outlinewidth": 0,
              "ticks": ""
             }
            },
            "type": "scattergeo"
           }
          ],
          "scattergl": [
           {
            "marker": {
             "colorbar": {
              "outlinewidth": 0,
              "ticks": ""
             }
            },
            "type": "scattergl"
           }
          ],
          "scattermapbox": [
           {
            "marker": {
             "colorbar": {
              "outlinewidth": 0,
              "ticks": ""
             }
            },
            "type": "scattermapbox"
           }
          ],
          "scatterpolar": [
           {
            "marker": {
             "colorbar": {
              "outlinewidth": 0,
              "ticks": ""
             }
            },
            "type": "scatterpolar"
           }
          ],
          "scatterpolargl": [
           {
            "marker": {
             "colorbar": {
              "outlinewidth": 0,
              "ticks": ""
             }
            },
            "type": "scatterpolargl"
           }
          ],
          "scatterternary": [
           {
            "marker": {
             "colorbar": {
              "outlinewidth": 0,
              "ticks": ""
             }
            },
            "type": "scatterternary"
           }
          ],
          "surface": [
           {
            "colorbar": {
             "outlinewidth": 0,
             "ticks": ""
            },
            "colorscale": [
             [
              0,
              "#0d0887"
             ],
             [
              0.1111111111111111,
              "#46039f"
             ],
             [
              0.2222222222222222,
              "#7201a8"
             ],
             [
              0.3333333333333333,
              "#9c179e"
             ],
             [
              0.4444444444444444,
              "#bd3786"
             ],
             [
              0.5555555555555556,
              "#d8576b"
             ],
             [
              0.6666666666666666,
              "#ed7953"
             ],
             [
              0.7777777777777778,
              "#fb9f3a"
             ],
             [
              0.8888888888888888,
              "#fdca26"
             ],
             [
              1,
              "#f0f921"
             ]
            ],
            "type": "surface"
           }
          ],
          "table": [
           {
            "cells": {
             "fill": {
              "color": "#EBF0F8"
             },
             "line": {
              "color": "white"
             }
            },
            "header": {
             "fill": {
              "color": "#C8D4E3"
             },
             "line": {
              "color": "white"
             }
            },
            "type": "table"
           }
          ]
         },
         "layout": {
          "annotationdefaults": {
           "arrowcolor": "#2a3f5f",
           "arrowhead": 0,
           "arrowwidth": 1
          },
          "autotypenumbers": "strict",
          "coloraxis": {
           "colorbar": {
            "outlinewidth": 0,
            "ticks": ""
           }
          },
          "colorscale": {
           "diverging": [
            [
             0,
             "#8e0152"
            ],
            [
             0.1,
             "#c51b7d"
            ],
            [
             0.2,
             "#de77ae"
            ],
            [
             0.3,
             "#f1b6da"
            ],
            [
             0.4,
             "#fde0ef"
            ],
            [
             0.5,
             "#f7f7f7"
            ],
            [
             0.6,
             "#e6f5d0"
            ],
            [
             0.7,
             "#b8e186"
            ],
            [
             0.8,
             "#7fbc41"
            ],
            [
             0.9,
             "#4d9221"
            ],
            [
             1,
             "#276419"
            ]
           ],
           "sequential": [
            [
             0,
             "#0d0887"
            ],
            [
             0.1111111111111111,
             "#46039f"
            ],
            [
             0.2222222222222222,
             "#7201a8"
            ],
            [
             0.3333333333333333,
             "#9c179e"
            ],
            [
             0.4444444444444444,
             "#bd3786"
            ],
            [
             0.5555555555555556,
             "#d8576b"
            ],
            [
             0.6666666666666666,
             "#ed7953"
            ],
            [
             0.7777777777777778,
             "#fb9f3a"
            ],
            [
             0.8888888888888888,
             "#fdca26"
            ],
            [
             1,
             "#f0f921"
            ]
           ],
           "sequentialminus": [
            [
             0,
             "#0d0887"
            ],
            [
             0.1111111111111111,
             "#46039f"
            ],
            [
             0.2222222222222222,
             "#7201a8"
            ],
            [
             0.3333333333333333,
             "#9c179e"
            ],
            [
             0.4444444444444444,
             "#bd3786"
            ],
            [
             0.5555555555555556,
             "#d8576b"
            ],
            [
             0.6666666666666666,
             "#ed7953"
            ],
            [
             0.7777777777777778,
             "#fb9f3a"
            ],
            [
             0.8888888888888888,
             "#fdca26"
            ],
            [
             1,
             "#f0f921"
            ]
           ]
          },
          "colorway": [
           "#636efa",
           "#EF553B",
           "#00cc96",
           "#ab63fa",
           "#FFA15A",
           "#19d3f3",
           "#FF6692",
           "#B6E880",
           "#FF97FF",
           "#FECB52"
          ],
          "font": {
           "color": "#2a3f5f"
          },
          "geo": {
           "bgcolor": "white",
           "lakecolor": "white",
           "landcolor": "#E5ECF6",
           "showlakes": true,
           "showland": true,
           "subunitcolor": "white"
          },
          "hoverlabel": {
           "align": "left"
          },
          "hovermode": "closest",
          "mapbox": {
           "style": "light"
          },
          "paper_bgcolor": "white",
          "plot_bgcolor": "#E5ECF6",
          "polar": {
           "angularaxis": {
            "gridcolor": "white",
            "linecolor": "white",
            "ticks": ""
           },
           "bgcolor": "#E5ECF6",
           "radialaxis": {
            "gridcolor": "white",
            "linecolor": "white",
            "ticks": ""
           }
          },
          "scene": {
           "xaxis": {
            "backgroundcolor": "#E5ECF6",
            "gridcolor": "white",
            "gridwidth": 2,
            "linecolor": "white",
            "showbackground": true,
            "ticks": "",
            "zerolinecolor": "white"
           },
           "yaxis": {
            "backgroundcolor": "#E5ECF6",
            "gridcolor": "white",
            "gridwidth": 2,
            "linecolor": "white",
            "showbackground": true,
            "ticks": "",
            "zerolinecolor": "white"
           },
           "zaxis": {
            "backgroundcolor": "#E5ECF6",
            "gridcolor": "white",
            "gridwidth": 2,
            "linecolor": "white",
            "showbackground": true,
            "ticks": "",
            "zerolinecolor": "white"
           }
          },
          "shapedefaults": {
           "line": {
            "color": "#2a3f5f"
           }
          },
          "ternary": {
           "aaxis": {
            "gridcolor": "white",
            "linecolor": "white",
            "ticks": ""
           },
           "baxis": {
            "gridcolor": "white",
            "linecolor": "white",
            "ticks": ""
           },
           "bgcolor": "#E5ECF6",
           "caxis": {
            "gridcolor": "white",
            "linecolor": "white",
            "ticks": ""
           }
          },
          "title": {
           "x": 0.05
          },
          "xaxis": {
           "automargin": true,
           "gridcolor": "white",
           "linecolor": "white",
           "ticks": "",
           "title": {
            "standoff": 15
           },
           "zerolinecolor": "white",
           "zerolinewidth": 2
          },
          "yaxis": {
           "automargin": true,
           "gridcolor": "white",
           "linecolor": "white",
           "ticks": "",
           "title": {
            "standoff": 15
           },
           "zerolinecolor": "white",
           "zerolinewidth": 2
          }
         }
        },
        "title": {
         "font": {
          "size": 13
         },
         "text": "pizzaiolo.xml.hasTopping.some(pizzaiolo.xml.SeafoodTopping)\n is True"
        },
        "xaxis": {
         "anchor": "y",
         "domain": [
          0,
          1
         ]
        },
        "yaxis": {
         "anchor": "x",
         "domain": [
          0,
          1
         ]
        }
       }
      }
     },
     "metadata": {},
     "output_type": "display_data"
    }
   ],
   "source": [
    "\n",
    "explainer.explain(\n",
    "    pizza.VegetarianPizza,\n",
    "    torch.stack([img_tensors[num]])\n",
    ")"
   ]
  },
  {
   "cell_type": "code",
   "execution_count": null,
   "metadata": {},
   "outputs": [],
   "source": []
  }
 ],
 "metadata": {
  "kernelspec": {
   "display_name": "pytorch",
   "language": "python",
   "name": "python3"
  },
  "language_info": {
   "codemirror_mode": {
    "name": "ipython",
    "version": 3
   },
   "file_extension": ".py",
   "mimetype": "text/x-python",
   "name": "python",
   "nbconvert_exporter": "python",
   "pygments_lexer": "ipython3",
   "version": "3.11.7"
  },
  "orig_nbformat": 4
 },
 "nbformat": 4,
 "nbformat_minor": 2
}
